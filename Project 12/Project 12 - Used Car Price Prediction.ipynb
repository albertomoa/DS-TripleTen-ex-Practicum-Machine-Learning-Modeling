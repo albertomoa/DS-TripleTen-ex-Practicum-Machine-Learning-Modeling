{
 "cells": [
  {
   "cell_type": "markdown",
   "metadata": {},
   "source": [
    "# Project Sprint 12 : \"Rusty Bargain\" Car Sales Price Prediction"
   ]
  },
  {
   "cell_type": "markdown",
   "metadata": {},
   "source": [
    "## Introduction"
   ]
  },
  {
   "cell_type": "markdown",
   "metadata": {},
   "source": [
    "Rusty Bargain is a used car buying and selling company that is developing an app to attract new buyers. In the app, you can quickly find out the market value of your car. You have access to historical data, vehicle technical specifications, vehicle model version, and vehicle price."
   ]
  },
  {
   "cell_type": "markdown",
   "metadata": {},
   "source": [
    "### Goal"
   ]
  },
  {
   "cell_type": "markdown",
   "metadata": {},
   "source": [
    "This project aims to develop a model capable of determining the market value of cars for the company \"Rusty Bargain\" which Rusty Bargain is interested in:\n",
    "- quality of predictions;\n",
    "- the speed of the model in predicting;\n",
    "- the time required to train the model"
   ]
  },
  {
   "cell_type": "markdown",
   "metadata": {},
   "source": [
    "### Steps"
   ]
  },
  {
   "cell_type": "markdown",
   "metadata": {},
   "source": [
    "Historical data, vehicle technical specifications, vehicle model versions, and vehicle prices are stored in the filepath: `/datasets/car_data.csv`. Model development was carried out in the following main steps:\n",
    "1. Data Preparation\n",
    "2. Training Model with Various Hyperparameters\n",
    "3. Model Speed and Quality Analysis"
   ]
  },
  {
   "cell_type": "markdown",
   "metadata": {},
   "source": [
    "### Overview"
   ]
  },
  {
   "cell_type": "markdown",
   "metadata": {},
   "source": [
    "**1. Introduction**\n",
    "- Objective\n",
    "- Stages\n",
    "\n",
    "**2. Data Preparation**\n",
    "- Initialization\n",
    "- Load Dataset\n",
    "- Data Preparation\n",
    "- Data Cleansing\n",
    "- Data Pre-Processing\n",
    "\n",
    "**3. Model Training**\n",
    "- Linear Regression\n",
    "- Random Forest Regressor\n",
    "- Gradient Boosting\n",
    "\n",
    "**4. Model Analysis**\n",
    "\n",
    "**5. General Conclusion**"
   ]
  },
  {
   "cell_type": "markdown",
   "metadata": {},
   "source": [
    "## Data Preparation"
   ]
  },
  {
   "cell_type": "markdown",
   "metadata": {},
   "source": [
    "### Initialization"
   ]
  },
  {
   "cell_type": "markdown",
   "metadata": {},
   "source": [
    "To perform data analysis and pre-processing, we first loaded libraries that can assist these activities, namely:\n",
    "1. `Pandas` Library\n",
    "2. `Seaborn` Library\n",
    "3. `MatPlotLibt` Library"
   ]
  },
  {
   "cell_type": "code",
   "execution_count": 1,
   "metadata": {},
   "outputs": [],
   "source": [
    "# Memuat library pandas\n",
    "import pandas as pd\n",
    "\n",
    "# Muat seaborn library\n",
    "import seaborn as sns\n",
    "\n",
    "# Muat matplotlib library\n",
    "from matplotlib import pyplot as plt"
   ]
  },
  {
   "cell_type": "markdown",
   "metadata": {},
   "source": [
    "### Loading Dataset"
   ]
  },
  {
   "cell_type": "markdown",
   "metadata": {},
   "source": [
    "The initial historical vehicle data stored in the filepath : `/datasets/car_data.csv`, will be loaded in the variable `car`."
   ]
  },
  {
   "cell_type": "code",
   "execution_count": 2,
   "metadata": {},
   "outputs": [],
   "source": [
    "# memuat dataset dan menyimpannya dalam variabel car\n",
    "car = pd.read_csv('/datasets/car_data.csv')"
   ]
  },
  {
   "cell_type": "markdown",
   "metadata": {},
   "source": [
    "### Data Preparation"
   ]
  },
  {
   "cell_type": "markdown",
   "metadata": {},
   "source": [
    "We will look at the data sample, general data information, and descriptive statistics of the data."
   ]
  },
  {
   "cell_type": "code",
   "execution_count": 3,
   "metadata": {},
   "outputs": [
    {
     "data": {
      "text/html": [
       "<div>\n",
       "<style scoped>\n",
       "    .dataframe tbody tr th:only-of-type {\n",
       "        vertical-align: middle;\n",
       "    }\n",
       "\n",
       "    .dataframe tbody tr th {\n",
       "        vertical-align: top;\n",
       "    }\n",
       "\n",
       "    .dataframe thead th {\n",
       "        text-align: right;\n",
       "    }\n",
       "</style>\n",
       "<table border=\"1\" class=\"dataframe\">\n",
       "  <thead>\n",
       "    <tr style=\"text-align: right;\">\n",
       "      <th></th>\n",
       "      <th>DateCrawled</th>\n",
       "      <th>Price</th>\n",
       "      <th>VehicleType</th>\n",
       "      <th>RegistrationYear</th>\n",
       "      <th>Gearbox</th>\n",
       "      <th>Power</th>\n",
       "      <th>Model</th>\n",
       "      <th>Mileage</th>\n",
       "      <th>RegistrationMonth</th>\n",
       "      <th>FuelType</th>\n",
       "      <th>Brand</th>\n",
       "      <th>NotRepaired</th>\n",
       "      <th>DateCreated</th>\n",
       "      <th>NumberOfPictures</th>\n",
       "      <th>PostalCode</th>\n",
       "      <th>LastSeen</th>\n",
       "    </tr>\n",
       "  </thead>\n",
       "  <tbody>\n",
       "    <tr>\n",
       "      <th>0</th>\n",
       "      <td>24/03/2016 11:52</td>\n",
       "      <td>480</td>\n",
       "      <td>NaN</td>\n",
       "      <td>1993</td>\n",
       "      <td>manual</td>\n",
       "      <td>0</td>\n",
       "      <td>golf</td>\n",
       "      <td>150000</td>\n",
       "      <td>0</td>\n",
       "      <td>petrol</td>\n",
       "      <td>volkswagen</td>\n",
       "      <td>NaN</td>\n",
       "      <td>24/03/2016 00:00</td>\n",
       "      <td>0</td>\n",
       "      <td>70435</td>\n",
       "      <td>07/04/2016 03:16</td>\n",
       "    </tr>\n",
       "    <tr>\n",
       "      <th>1</th>\n",
       "      <td>24/03/2016 10:58</td>\n",
       "      <td>18300</td>\n",
       "      <td>coupe</td>\n",
       "      <td>2011</td>\n",
       "      <td>manual</td>\n",
       "      <td>190</td>\n",
       "      <td>NaN</td>\n",
       "      <td>125000</td>\n",
       "      <td>5</td>\n",
       "      <td>gasoline</td>\n",
       "      <td>audi</td>\n",
       "      <td>yes</td>\n",
       "      <td>24/03/2016 00:00</td>\n",
       "      <td>0</td>\n",
       "      <td>66954</td>\n",
       "      <td>07/04/2016 01:46</td>\n",
       "    </tr>\n",
       "    <tr>\n",
       "      <th>2</th>\n",
       "      <td>14/03/2016 12:52</td>\n",
       "      <td>9800</td>\n",
       "      <td>suv</td>\n",
       "      <td>2004</td>\n",
       "      <td>auto</td>\n",
       "      <td>163</td>\n",
       "      <td>grand</td>\n",
       "      <td>125000</td>\n",
       "      <td>8</td>\n",
       "      <td>gasoline</td>\n",
       "      <td>jeep</td>\n",
       "      <td>NaN</td>\n",
       "      <td>14/03/2016 00:00</td>\n",
       "      <td>0</td>\n",
       "      <td>90480</td>\n",
       "      <td>05/04/2016 12:47</td>\n",
       "    </tr>\n",
       "    <tr>\n",
       "      <th>3</th>\n",
       "      <td>17/03/2016 16:54</td>\n",
       "      <td>1500</td>\n",
       "      <td>small</td>\n",
       "      <td>2001</td>\n",
       "      <td>manual</td>\n",
       "      <td>75</td>\n",
       "      <td>golf</td>\n",
       "      <td>150000</td>\n",
       "      <td>6</td>\n",
       "      <td>petrol</td>\n",
       "      <td>volkswagen</td>\n",
       "      <td>no</td>\n",
       "      <td>17/03/2016 00:00</td>\n",
       "      <td>0</td>\n",
       "      <td>91074</td>\n",
       "      <td>17/03/2016 17:40</td>\n",
       "    </tr>\n",
       "    <tr>\n",
       "      <th>4</th>\n",
       "      <td>31/03/2016 17:25</td>\n",
       "      <td>3600</td>\n",
       "      <td>small</td>\n",
       "      <td>2008</td>\n",
       "      <td>manual</td>\n",
       "      <td>69</td>\n",
       "      <td>fabia</td>\n",
       "      <td>90000</td>\n",
       "      <td>7</td>\n",
       "      <td>gasoline</td>\n",
       "      <td>skoda</td>\n",
       "      <td>no</td>\n",
       "      <td>31/03/2016 00:00</td>\n",
       "      <td>0</td>\n",
       "      <td>60437</td>\n",
       "      <td>06/04/2016 10:17</td>\n",
       "    </tr>\n",
       "  </tbody>\n",
       "</table>\n",
       "</div>"
      ],
      "text/plain": [
       "        DateCrawled  Price VehicleType  RegistrationYear Gearbox  Power  \\\n",
       "0  24/03/2016 11:52    480         NaN              1993  manual      0   \n",
       "1  24/03/2016 10:58  18300       coupe              2011  manual    190   \n",
       "2  14/03/2016 12:52   9800         suv              2004    auto    163   \n",
       "3  17/03/2016 16:54   1500       small              2001  manual     75   \n",
       "4  31/03/2016 17:25   3600       small              2008  manual     69   \n",
       "\n",
       "   Model  Mileage  RegistrationMonth  FuelType       Brand NotRepaired  \\\n",
       "0   golf   150000                  0    petrol  volkswagen         NaN   \n",
       "1    NaN   125000                  5  gasoline        audi         yes   \n",
       "2  grand   125000                  8  gasoline        jeep         NaN   \n",
       "3   golf   150000                  6    petrol  volkswagen          no   \n",
       "4  fabia    90000                  7  gasoline       skoda          no   \n",
       "\n",
       "        DateCreated  NumberOfPictures  PostalCode          LastSeen  \n",
       "0  24/03/2016 00:00                 0       70435  07/04/2016 03:16  \n",
       "1  24/03/2016 00:00                 0       66954  07/04/2016 01:46  \n",
       "2  14/03/2016 00:00                 0       90480  05/04/2016 12:47  \n",
       "3  17/03/2016 00:00                 0       91074  17/03/2016 17:40  \n",
       "4  31/03/2016 00:00                 0       60437  06/04/2016 10:17  "
      ]
     },
     "execution_count": 3,
     "metadata": {},
     "output_type": "execute_result"
    }
   ],
   "source": [
    "# menampilkan sampel data\n",
    "car.head()"
   ]
  },
  {
   "cell_type": "code",
   "execution_count": 4,
   "metadata": {
    "scrolled": true
   },
   "outputs": [
    {
     "data": {
      "text/html": [
       "<div>\n",
       "<style scoped>\n",
       "    .dataframe tbody tr th:only-of-type {\n",
       "        vertical-align: middle;\n",
       "    }\n",
       "\n",
       "    .dataframe tbody tr th {\n",
       "        vertical-align: top;\n",
       "    }\n",
       "\n",
       "    .dataframe thead th {\n",
       "        text-align: right;\n",
       "    }\n",
       "</style>\n",
       "<table border=\"1\" class=\"dataframe\">\n",
       "  <thead>\n",
       "    <tr style=\"text-align: right;\">\n",
       "      <th></th>\n",
       "      <th>Price</th>\n",
       "      <th>RegistrationYear</th>\n",
       "      <th>Power</th>\n",
       "      <th>Mileage</th>\n",
       "      <th>RegistrationMonth</th>\n",
       "      <th>NumberOfPictures</th>\n",
       "      <th>PostalCode</th>\n",
       "    </tr>\n",
       "  </thead>\n",
       "  <tbody>\n",
       "    <tr>\n",
       "      <th>count</th>\n",
       "      <td>354369.000000</td>\n",
       "      <td>354369.000000</td>\n",
       "      <td>354369.000000</td>\n",
       "      <td>354369.000000</td>\n",
       "      <td>354369.000000</td>\n",
       "      <td>354369.0</td>\n",
       "      <td>354369.000000</td>\n",
       "    </tr>\n",
       "    <tr>\n",
       "      <th>mean</th>\n",
       "      <td>4416.656776</td>\n",
       "      <td>2004.234448</td>\n",
       "      <td>110.094337</td>\n",
       "      <td>128211.172535</td>\n",
       "      <td>5.714645</td>\n",
       "      <td>0.0</td>\n",
       "      <td>50508.689087</td>\n",
       "    </tr>\n",
       "    <tr>\n",
       "      <th>std</th>\n",
       "      <td>4514.158514</td>\n",
       "      <td>90.227958</td>\n",
       "      <td>189.850405</td>\n",
       "      <td>37905.341530</td>\n",
       "      <td>3.726421</td>\n",
       "      <td>0.0</td>\n",
       "      <td>25783.096248</td>\n",
       "    </tr>\n",
       "    <tr>\n",
       "      <th>min</th>\n",
       "      <td>0.000000</td>\n",
       "      <td>1000.000000</td>\n",
       "      <td>0.000000</td>\n",
       "      <td>5000.000000</td>\n",
       "      <td>0.000000</td>\n",
       "      <td>0.0</td>\n",
       "      <td>1067.000000</td>\n",
       "    </tr>\n",
       "    <tr>\n",
       "      <th>25%</th>\n",
       "      <td>1050.000000</td>\n",
       "      <td>1999.000000</td>\n",
       "      <td>69.000000</td>\n",
       "      <td>125000.000000</td>\n",
       "      <td>3.000000</td>\n",
       "      <td>0.0</td>\n",
       "      <td>30165.000000</td>\n",
       "    </tr>\n",
       "    <tr>\n",
       "      <th>50%</th>\n",
       "      <td>2700.000000</td>\n",
       "      <td>2003.000000</td>\n",
       "      <td>105.000000</td>\n",
       "      <td>150000.000000</td>\n",
       "      <td>6.000000</td>\n",
       "      <td>0.0</td>\n",
       "      <td>49413.000000</td>\n",
       "    </tr>\n",
       "    <tr>\n",
       "      <th>75%</th>\n",
       "      <td>6400.000000</td>\n",
       "      <td>2008.000000</td>\n",
       "      <td>143.000000</td>\n",
       "      <td>150000.000000</td>\n",
       "      <td>9.000000</td>\n",
       "      <td>0.0</td>\n",
       "      <td>71083.000000</td>\n",
       "    </tr>\n",
       "    <tr>\n",
       "      <th>max</th>\n",
       "      <td>20000.000000</td>\n",
       "      <td>9999.000000</td>\n",
       "      <td>20000.000000</td>\n",
       "      <td>150000.000000</td>\n",
       "      <td>12.000000</td>\n",
       "      <td>0.0</td>\n",
       "      <td>99998.000000</td>\n",
       "    </tr>\n",
       "  </tbody>\n",
       "</table>\n",
       "</div>"
      ],
      "text/plain": [
       "               Price  RegistrationYear          Power        Mileage  \\\n",
       "count  354369.000000     354369.000000  354369.000000  354369.000000   \n",
       "mean     4416.656776       2004.234448     110.094337  128211.172535   \n",
       "std      4514.158514         90.227958     189.850405   37905.341530   \n",
       "min         0.000000       1000.000000       0.000000    5000.000000   \n",
       "25%      1050.000000       1999.000000      69.000000  125000.000000   \n",
       "50%      2700.000000       2003.000000     105.000000  150000.000000   \n",
       "75%      6400.000000       2008.000000     143.000000  150000.000000   \n",
       "max     20000.000000       9999.000000   20000.000000  150000.000000   \n",
       "\n",
       "       RegistrationMonth  NumberOfPictures     PostalCode  \n",
       "count      354369.000000          354369.0  354369.000000  \n",
       "mean            5.714645               0.0   50508.689087  \n",
       "std             3.726421               0.0   25783.096248  \n",
       "min             0.000000               0.0    1067.000000  \n",
       "25%             3.000000               0.0   30165.000000  \n",
       "50%             6.000000               0.0   49413.000000  \n",
       "75%             9.000000               0.0   71083.000000  \n",
       "max            12.000000               0.0   99998.000000  "
      ]
     },
     "execution_count": 4,
     "metadata": {},
     "output_type": "execute_result"
    }
   ],
   "source": [
    "# menampilkan statistika deskriptif data\n",
    "car.describe()"
   ]
  },
  {
   "cell_type": "code",
   "execution_count": 5,
   "metadata": {},
   "outputs": [
    {
     "name": "stdout",
     "output_type": "stream",
     "text": [
      "<class 'pandas.core.frame.DataFrame'>\n",
      "RangeIndex: 354369 entries, 0 to 354368\n",
      "Data columns (total 16 columns):\n",
      " #   Column             Non-Null Count   Dtype \n",
      "---  ------             --------------   ----- \n",
      " 0   DateCrawled        354369 non-null  object\n",
      " 1   Price              354369 non-null  int64 \n",
      " 2   VehicleType        316879 non-null  object\n",
      " 3   RegistrationYear   354369 non-null  int64 \n",
      " 4   Gearbox            334536 non-null  object\n",
      " 5   Power              354369 non-null  int64 \n",
      " 6   Model              334664 non-null  object\n",
      " 7   Mileage            354369 non-null  int64 \n",
      " 8   RegistrationMonth  354369 non-null  int64 \n",
      " 9   FuelType           321474 non-null  object\n",
      " 10  Brand              354369 non-null  object\n",
      " 11  NotRepaired        283215 non-null  object\n",
      " 12  DateCreated        354369 non-null  object\n",
      " 13  NumberOfPictures   354369 non-null  int64 \n",
      " 14  PostalCode         354369 non-null  int64 \n",
      " 15  LastSeen           354369 non-null  object\n",
      "dtypes: int64(7), object(9)\n",
      "memory usage: 43.3+ MB\n"
     ]
    }
   ],
   "source": [
    "# menampilkan informasi umum data\n",
    "car.info()"
   ]
  },
  {
   "cell_type": "markdown",
   "metadata": {},
   "source": [
    "***\n",
    "Based on the sample of funds and general data information, a description of the dataset is obtained, among others:\n",
    "1. The dataset is 15 columns in size with 354369 observations, where the column title format is capitalized, and then the column title case will be fixed with the **.str.lower()** method.\n",
    "2. There are some two data types in the dataset, and interestingly, there are columns with object or string data types. To facilitate modeling, categorical columns will be re-analyzed and pre-processed with the help of **Ordinal Encoder** technique.\n",
    "3. Some columns have a different number of non-nulls than the RangeIndex, so there may be missing values in these columns. Will be checked with **.isna()** method.\n",
    "4. There are some anomalies in the descriptive statistics of the data, namely :\n",
    "The minimum `1000` and maximum `9999` values in the `RegistrationYear` column are a little unreasonable, so we will take `RegistrationYear` information in the range `1900 - 2023` (based on the estimated development of cars in Europe until this year).\n",
    "- minimum value of `0` in column `power`, the dataset information with `power` more than `0` will be retrieved.\n",
    "- minimum value `0` in column `RegistrationMonth`, will retrieve dataset information with `RegistrationMonth` greater than `0`.\n",
    "- the minimum and maximum values of the `NumberOfPictures` column are `0`, so this column will be dropped from the dataset.\n",
    "\n",
    "Observations with the above anomalies will be selected from the dataset."
   ]
  },
  {
   "cell_type": "markdown",
   "metadata": {},
   "source": [
    "### Data Cleaning"
   ]
  },
  {
   "cell_type": "markdown",
   "metadata": {},
   "source": [
    "**Fix Column Title**"
   ]
  },
  {
   "cell_type": "code",
   "execution_count": 6,
   "metadata": {},
   "outputs": [],
   "source": [
    "# mengubah case kolom menjadi lowercase\n",
    "car.columns = car.columns.str.lower()"
   ]
  },
  {
   "cell_type": "markdown",
   "metadata": {},
   "source": [
    "**Check Missing Value**"
   ]
  },
  {
   "cell_type": "code",
   "execution_count": 7,
   "metadata": {
    "scrolled": true
   },
   "outputs": [
    {
     "data": {
      "text/html": [
       "<div>\n",
       "<style scoped>\n",
       "    .dataframe tbody tr th:only-of-type {\n",
       "        vertical-align: middle;\n",
       "    }\n",
       "\n",
       "    .dataframe tbody tr th {\n",
       "        vertical-align: top;\n",
       "    }\n",
       "\n",
       "    .dataframe thead th {\n",
       "        text-align: right;\n",
       "    }\n",
       "</style>\n",
       "<table border=\"1\" class=\"dataframe\">\n",
       "  <thead>\n",
       "    <tr style=\"text-align: right;\">\n",
       "      <th></th>\n",
       "      <th>null</th>\n",
       "      <th>not_null</th>\n",
       "      <th>total</th>\n",
       "      <th>percent_null</th>\n",
       "    </tr>\n",
       "  </thead>\n",
       "  <tbody>\n",
       "    <tr>\n",
       "      <th>datecrawled</th>\n",
       "      <td>0</td>\n",
       "      <td>354369</td>\n",
       "      <td>354369</td>\n",
       "      <td>0.000000</td>\n",
       "    </tr>\n",
       "    <tr>\n",
       "      <th>price</th>\n",
       "      <td>0</td>\n",
       "      <td>354369</td>\n",
       "      <td>354369</td>\n",
       "      <td>0.000000</td>\n",
       "    </tr>\n",
       "    <tr>\n",
       "      <th>vehicletype</th>\n",
       "      <td>37490</td>\n",
       "      <td>316879</td>\n",
       "      <td>354369</td>\n",
       "      <td>10.579368</td>\n",
       "    </tr>\n",
       "    <tr>\n",
       "      <th>registrationyear</th>\n",
       "      <td>0</td>\n",
       "      <td>354369</td>\n",
       "      <td>354369</td>\n",
       "      <td>0.000000</td>\n",
       "    </tr>\n",
       "    <tr>\n",
       "      <th>gearbox</th>\n",
       "      <td>19833</td>\n",
       "      <td>334536</td>\n",
       "      <td>354369</td>\n",
       "      <td>5.596709</td>\n",
       "    </tr>\n",
       "    <tr>\n",
       "      <th>power</th>\n",
       "      <td>0</td>\n",
       "      <td>354369</td>\n",
       "      <td>354369</td>\n",
       "      <td>0.000000</td>\n",
       "    </tr>\n",
       "    <tr>\n",
       "      <th>model</th>\n",
       "      <td>19705</td>\n",
       "      <td>334664</td>\n",
       "      <td>354369</td>\n",
       "      <td>5.560588</td>\n",
       "    </tr>\n",
       "    <tr>\n",
       "      <th>mileage</th>\n",
       "      <td>0</td>\n",
       "      <td>354369</td>\n",
       "      <td>354369</td>\n",
       "      <td>0.000000</td>\n",
       "    </tr>\n",
       "    <tr>\n",
       "      <th>registrationmonth</th>\n",
       "      <td>0</td>\n",
       "      <td>354369</td>\n",
       "      <td>354369</td>\n",
       "      <td>0.000000</td>\n",
       "    </tr>\n",
       "    <tr>\n",
       "      <th>fueltype</th>\n",
       "      <td>32895</td>\n",
       "      <td>321474</td>\n",
       "      <td>354369</td>\n",
       "      <td>9.282697</td>\n",
       "    </tr>\n",
       "    <tr>\n",
       "      <th>brand</th>\n",
       "      <td>0</td>\n",
       "      <td>354369</td>\n",
       "      <td>354369</td>\n",
       "      <td>0.000000</td>\n",
       "    </tr>\n",
       "    <tr>\n",
       "      <th>notrepaired</th>\n",
       "      <td>71154</td>\n",
       "      <td>283215</td>\n",
       "      <td>354369</td>\n",
       "      <td>20.079070</td>\n",
       "    </tr>\n",
       "    <tr>\n",
       "      <th>datecreated</th>\n",
       "      <td>0</td>\n",
       "      <td>354369</td>\n",
       "      <td>354369</td>\n",
       "      <td>0.000000</td>\n",
       "    </tr>\n",
       "    <tr>\n",
       "      <th>numberofpictures</th>\n",
       "      <td>0</td>\n",
       "      <td>354369</td>\n",
       "      <td>354369</td>\n",
       "      <td>0.000000</td>\n",
       "    </tr>\n",
       "    <tr>\n",
       "      <th>postalcode</th>\n",
       "      <td>0</td>\n",
       "      <td>354369</td>\n",
       "      <td>354369</td>\n",
       "      <td>0.000000</td>\n",
       "    </tr>\n",
       "    <tr>\n",
       "      <th>lastseen</th>\n",
       "      <td>0</td>\n",
       "      <td>354369</td>\n",
       "      <td>354369</td>\n",
       "      <td>0.000000</td>\n",
       "    </tr>\n",
       "  </tbody>\n",
       "</table>\n",
       "</div>"
      ],
      "text/plain": [
       "                    null  not_null   total  percent_null\n",
       "datecrawled            0    354369  354369      0.000000\n",
       "price                  0    354369  354369      0.000000\n",
       "vehicletype        37490    316879  354369     10.579368\n",
       "registrationyear       0    354369  354369      0.000000\n",
       "gearbox            19833    334536  354369      5.596709\n",
       "power                  0    354369  354369      0.000000\n",
       "model              19705    334664  354369      5.560588\n",
       "mileage                0    354369  354369      0.000000\n",
       "registrationmonth      0    354369  354369      0.000000\n",
       "fueltype           32895    321474  354369      9.282697\n",
       "brand                  0    354369  354369      0.000000\n",
       "notrepaired        71154    283215  354369     20.079070\n",
       "datecreated            0    354369  354369      0.000000\n",
       "numberofpictures       0    354369  354369      0.000000\n",
       "postalcode             0    354369  354369      0.000000\n",
       "lastseen               0    354369  354369      0.000000"
      ]
     },
     "execution_count": 7,
     "metadata": {},
     "output_type": "execute_result"
    }
   ],
   "source": [
    "# menampilkan persentase data yang hilang\n",
    "a = car.count()\n",
    "b = car.fillna(-1).count() \n",
    "c = pd.concat([a, b], axis=1)\n",
    "c.columns = ['not_null', 'total']\n",
    "c['null'] = c['total'] - c['not_null'] \n",
    "c = c[['null', 'not_null', 'total']]\n",
    "c['percent_null'] = c['null']*100 / c['total']\n",
    "c"
   ]
  },
  {
   "cell_type": "markdown",
   "metadata": {},
   "source": [
    "Based on the display above, it is known that missing values only occur in columns with the data type `object`, where the highest percentage of missing values is in the `notrepaired` column. To facilitate model training, these missing values will be replaced with \"null\" objects."
   ]
  },
  {
   "cell_type": "code",
   "execution_count": 8,
   "metadata": {},
   "outputs": [],
   "source": [
    "# mengganti nilai yang hilang dengan null\n",
    "car.fillna('null', inplace=True)"
   ]
  },
  {
   "cell_type": "code",
   "execution_count": 9,
   "metadata": {},
   "outputs": [
    {
     "data": {
      "text/plain": [
       "datecrawled          0\n",
       "price                0\n",
       "vehicletype          0\n",
       "registrationyear     0\n",
       "gearbox              0\n",
       "power                0\n",
       "model                0\n",
       "mileage              0\n",
       "registrationmonth    0\n",
       "fueltype             0\n",
       "brand                0\n",
       "notrepaired          0\n",
       "datecreated          0\n",
       "numberofpictures     0\n",
       "postalcode           0\n",
       "lastseen             0\n",
       "dtype: int64"
      ]
     },
     "execution_count": 9,
     "metadata": {},
     "output_type": "execute_result"
    }
   ],
   "source": [
    "# mengecek kembali nilai yang hilanng\n",
    "car.isna().sum()"
   ]
  },
  {
   "cell_type": "markdown",
   "metadata": {},
   "source": [
    "The missing values have been dealt with, so the next step is to select the anomalous data."
   ]
  },
  {
   "cell_type": "markdown",
   "metadata": {},
   "source": [
    "**Selection of Data Anomalies**"
   ]
  },
  {
   "cell_type": "code",
   "execution_count": 10,
   "metadata": {},
   "outputs": [],
   "source": [
    "# menyeleksi anomali data pada dataset\n",
    "car = car[car['registrationyear'] >= 1900]\n",
    "car = car[car['registrationyear'] <= 2023]\n",
    "car = car[car['power'] > 0]\n",
    "car = car[car['registrationmonth'] > 0]\n",
    "car = car.drop('numberofpictures', axis =1)"
   ]
  },
  {
   "cell_type": "code",
   "execution_count": 11,
   "metadata": {},
   "outputs": [
    {
     "data": {
      "text/html": [
       "<div>\n",
       "<style scoped>\n",
       "    .dataframe tbody tr th:only-of-type {\n",
       "        vertical-align: middle;\n",
       "    }\n",
       "\n",
       "    .dataframe tbody tr th {\n",
       "        vertical-align: top;\n",
       "    }\n",
       "\n",
       "    .dataframe thead th {\n",
       "        text-align: right;\n",
       "    }\n",
       "</style>\n",
       "<table border=\"1\" class=\"dataframe\">\n",
       "  <thead>\n",
       "    <tr style=\"text-align: right;\">\n",
       "      <th></th>\n",
       "      <th>price</th>\n",
       "      <th>registrationyear</th>\n",
       "      <th>power</th>\n",
       "      <th>mileage</th>\n",
       "      <th>registrationmonth</th>\n",
       "      <th>postalcode</th>\n",
       "    </tr>\n",
       "  </thead>\n",
       "  <tbody>\n",
       "    <tr>\n",
       "      <th>count</th>\n",
       "      <td>292084.000000</td>\n",
       "      <td>292084.000000</td>\n",
       "      <td>292084.000000</td>\n",
       "      <td>292084.000000</td>\n",
       "      <td>292084.000000</td>\n",
       "      <td>292084.000000</td>\n",
       "    </tr>\n",
       "    <tr>\n",
       "      <th>mean</th>\n",
       "      <td>4892.385687</td>\n",
       "      <td>2003.354268</td>\n",
       "      <td>124.539314</td>\n",
       "      <td>128034.931732</td>\n",
       "      <td>6.381551</td>\n",
       "      <td>51212.459207</td>\n",
       "    </tr>\n",
       "    <tr>\n",
       "      <th>std</th>\n",
       "      <td>4635.917776</td>\n",
       "      <td>6.829569</td>\n",
       "      <td>186.827163</td>\n",
       "      <td>36848.065917</td>\n",
       "      <td>3.347519</td>\n",
       "      <td>25752.745797</td>\n",
       "    </tr>\n",
       "    <tr>\n",
       "      <th>min</th>\n",
       "      <td>0.000000</td>\n",
       "      <td>1910.000000</td>\n",
       "      <td>1.000000</td>\n",
       "      <td>5000.000000</td>\n",
       "      <td>1.000000</td>\n",
       "      <td>1067.000000</td>\n",
       "    </tr>\n",
       "    <tr>\n",
       "      <th>25%</th>\n",
       "      <td>1350.000000</td>\n",
       "      <td>1999.000000</td>\n",
       "      <td>77.000000</td>\n",
       "      <td>125000.000000</td>\n",
       "      <td>4.000000</td>\n",
       "      <td>30938.000000</td>\n",
       "    </tr>\n",
       "    <tr>\n",
       "      <th>50%</th>\n",
       "      <td>3200.000000</td>\n",
       "      <td>2003.000000</td>\n",
       "      <td>113.000000</td>\n",
       "      <td>150000.000000</td>\n",
       "      <td>6.000000</td>\n",
       "      <td>50259.000000</td>\n",
       "    </tr>\n",
       "    <tr>\n",
       "      <th>75%</th>\n",
       "      <td>7000.000000</td>\n",
       "      <td>2008.000000</td>\n",
       "      <td>150.000000</td>\n",
       "      <td>150000.000000</td>\n",
       "      <td>9.000000</td>\n",
       "      <td>72070.000000</td>\n",
       "    </tr>\n",
       "    <tr>\n",
       "      <th>max</th>\n",
       "      <td>20000.000000</td>\n",
       "      <td>2019.000000</td>\n",
       "      <td>20000.000000</td>\n",
       "      <td>150000.000000</td>\n",
       "      <td>12.000000</td>\n",
       "      <td>99998.000000</td>\n",
       "    </tr>\n",
       "  </tbody>\n",
       "</table>\n",
       "</div>"
      ],
      "text/plain": [
       "               price  registrationyear          power        mileage  \\\n",
       "count  292084.000000     292084.000000  292084.000000  292084.000000   \n",
       "mean     4892.385687       2003.354268     124.539314  128034.931732   \n",
       "std      4635.917776          6.829569     186.827163   36848.065917   \n",
       "min         0.000000       1910.000000       1.000000    5000.000000   \n",
       "25%      1350.000000       1999.000000      77.000000  125000.000000   \n",
       "50%      3200.000000       2003.000000     113.000000  150000.000000   \n",
       "75%      7000.000000       2008.000000     150.000000  150000.000000   \n",
       "max     20000.000000       2019.000000   20000.000000  150000.000000   \n",
       "\n",
       "       registrationmonth     postalcode  \n",
       "count      292084.000000  292084.000000  \n",
       "mean            6.381551   51212.459207  \n",
       "std             3.347519   25752.745797  \n",
       "min             1.000000    1067.000000  \n",
       "25%             4.000000   30938.000000  \n",
       "50%             6.000000   50259.000000  \n",
       "75%             9.000000   72070.000000  \n",
       "max            12.000000   99998.000000  "
      ]
     },
     "execution_count": 11,
     "metadata": {},
     "output_type": "execute_result"
    }
   ],
   "source": [
    "car.describe()"
   ]
  },
  {
   "cell_type": "markdown",
   "metadata": {},
   "source": [
    "Data anomaly selection has been completed; next, perform data pre-processing."
   ]
  },
  {
   "cell_type": "markdown",
   "metadata": {},
   "source": [
    "### Data Pre-Processing"
   ]
  },
  {
   "cell_type": "markdown",
   "metadata": {},
   "source": [
    "#### Correlation between features and variable selection"
   ]
  },
  {
   "cell_type": "markdown",
   "metadata": {},
   "source": [
    "To see the correlation between features and targets on the `car` dataset, it will be done with the help of the **.corr()** method."
   ]
  },
  {
   "cell_type": "code",
   "execution_count": 12,
   "metadata": {},
   "outputs": [
    {
     "data": {
      "text/plain": [
       "<AxesSubplot:>"
      ]
     },
     "execution_count": 12,
     "metadata": {},
     "output_type": "execute_result"
    },
    {
     "data": {
      "image/png": "[encoded data removed]",
      "text/plain": [
       "<Figure size 864x504 with 2 Axes>"
      ]
     },
     "metadata": {
      "needs_background": "light"
     },
     "output_type": "display_data"
    }
   ],
   "source": [
    "# menampilkan korelasi antar fitur numerik dan target\n",
    "from matplotlib.pyplot import figure\n",
    "figure(figsize = (12, 7))\n",
    "sns.heatmap(car.corr(), annot=True)"
   ]
  },
  {
   "cell_type": "markdown",
   "metadata": {},
   "source": [
    "Based on the correlation value information above, the correlation value between the feature and the target is quite low. The same thing also happens between other features, although there is a fairly large correlation between the `registrationyear` feature and the `price` target of `0.44` which is where the greater the value of `milage` the selling price of the car tends to be high. The `registrationmonth` feature has a very low correlation with the target of `0.013` so this column will be cropped from the dataset along with the `datecrawled`, `datecreated`, and `lastseen` columns, which are unique information about each vehicle."
   ]
  },
  {
   "cell_type": "code",
   "execution_count": 13,
   "metadata": {
    "scrolled": true
   },
   "outputs": [
    {
     "data": {
      "text/html": [
       "<div>\n",
       "<style scoped>\n",
       "    .dataframe tbody tr th:only-of-type {\n",
       "        vertical-align: middle;\n",
       "    }\n",
       "\n",
       "    .dataframe tbody tr th {\n",
       "        vertical-align: top;\n",
       "    }\n",
       "\n",
       "    .dataframe thead th {\n",
       "        text-align: right;\n",
       "    }\n",
       "</style>\n",
       "<table border=\"1\" class=\"dataframe\">\n",
       "  <thead>\n",
       "    <tr style=\"text-align: right;\">\n",
       "      <th></th>\n",
       "      <th>price</th>\n",
       "      <th>vehicletype</th>\n",
       "      <th>registrationyear</th>\n",
       "      <th>gearbox</th>\n",
       "      <th>power</th>\n",
       "      <th>model</th>\n",
       "      <th>mileage</th>\n",
       "      <th>fueltype</th>\n",
       "      <th>brand</th>\n",
       "      <th>notrepaired</th>\n",
       "      <th>postalcode</th>\n",
       "    </tr>\n",
       "  </thead>\n",
       "  <tbody>\n",
       "    <tr>\n",
       "      <th>1</th>\n",
       "      <td>18300</td>\n",
       "      <td>coupe</td>\n",
       "      <td>2011</td>\n",
       "      <td>manual</td>\n",
       "      <td>190</td>\n",
       "      <td>null</td>\n",
       "      <td>125000</td>\n",
       "      <td>gasoline</td>\n",
       "      <td>audi</td>\n",
       "      <td>yes</td>\n",
       "      <td>66954</td>\n",
       "    </tr>\n",
       "    <tr>\n",
       "      <th>2</th>\n",
       "      <td>9800</td>\n",
       "      <td>suv</td>\n",
       "      <td>2004</td>\n",
       "      <td>auto</td>\n",
       "      <td>163</td>\n",
       "      <td>grand</td>\n",
       "      <td>125000</td>\n",
       "      <td>gasoline</td>\n",
       "      <td>jeep</td>\n",
       "      <td>null</td>\n",
       "      <td>90480</td>\n",
       "    </tr>\n",
       "    <tr>\n",
       "      <th>3</th>\n",
       "      <td>1500</td>\n",
       "      <td>small</td>\n",
       "      <td>2001</td>\n",
       "      <td>manual</td>\n",
       "      <td>75</td>\n",
       "      <td>golf</td>\n",
       "      <td>150000</td>\n",
       "      <td>petrol</td>\n",
       "      <td>volkswagen</td>\n",
       "      <td>no</td>\n",
       "      <td>91074</td>\n",
       "    </tr>\n",
       "    <tr>\n",
       "      <th>4</th>\n",
       "      <td>3600</td>\n",
       "      <td>small</td>\n",
       "      <td>2008</td>\n",
       "      <td>manual</td>\n",
       "      <td>69</td>\n",
       "      <td>fabia</td>\n",
       "      <td>90000</td>\n",
       "      <td>gasoline</td>\n",
       "      <td>skoda</td>\n",
       "      <td>no</td>\n",
       "      <td>60437</td>\n",
       "    </tr>\n",
       "    <tr>\n",
       "      <th>5</th>\n",
       "      <td>650</td>\n",
       "      <td>sedan</td>\n",
       "      <td>1995</td>\n",
       "      <td>manual</td>\n",
       "      <td>102</td>\n",
       "      <td>3er</td>\n",
       "      <td>150000</td>\n",
       "      <td>petrol</td>\n",
       "      <td>bmw</td>\n",
       "      <td>yes</td>\n",
       "      <td>33775</td>\n",
       "    </tr>\n",
       "    <tr>\n",
       "      <th>...</th>\n",
       "      <td>...</td>\n",
       "      <td>...</td>\n",
       "      <td>...</td>\n",
       "      <td>...</td>\n",
       "      <td>...</td>\n",
       "      <td>...</td>\n",
       "      <td>...</td>\n",
       "      <td>...</td>\n",
       "      <td>...</td>\n",
       "      <td>...</td>\n",
       "      <td>...</td>\n",
       "    </tr>\n",
       "    <tr>\n",
       "      <th>354361</th>\n",
       "      <td>5250</td>\n",
       "      <td>null</td>\n",
       "      <td>2016</td>\n",
       "      <td>auto</td>\n",
       "      <td>150</td>\n",
       "      <td>159</td>\n",
       "      <td>150000</td>\n",
       "      <td>null</td>\n",
       "      <td>alfa_romeo</td>\n",
       "      <td>no</td>\n",
       "      <td>51371</td>\n",
       "    </tr>\n",
       "    <tr>\n",
       "      <th>354362</th>\n",
       "      <td>3200</td>\n",
       "      <td>sedan</td>\n",
       "      <td>2004</td>\n",
       "      <td>manual</td>\n",
       "      <td>225</td>\n",
       "      <td>leon</td>\n",
       "      <td>150000</td>\n",
       "      <td>petrol</td>\n",
       "      <td>seat</td>\n",
       "      <td>yes</td>\n",
       "      <td>96465</td>\n",
       "    </tr>\n",
       "    <tr>\n",
       "      <th>354366</th>\n",
       "      <td>1199</td>\n",
       "      <td>convertible</td>\n",
       "      <td>2000</td>\n",
       "      <td>auto</td>\n",
       "      <td>101</td>\n",
       "      <td>fortwo</td>\n",
       "      <td>125000</td>\n",
       "      <td>petrol</td>\n",
       "      <td>smart</td>\n",
       "      <td>no</td>\n",
       "      <td>26135</td>\n",
       "    </tr>\n",
       "    <tr>\n",
       "      <th>354367</th>\n",
       "      <td>9200</td>\n",
       "      <td>bus</td>\n",
       "      <td>1996</td>\n",
       "      <td>manual</td>\n",
       "      <td>102</td>\n",
       "      <td>transporter</td>\n",
       "      <td>150000</td>\n",
       "      <td>gasoline</td>\n",
       "      <td>volkswagen</td>\n",
       "      <td>no</td>\n",
       "      <td>87439</td>\n",
       "    </tr>\n",
       "    <tr>\n",
       "      <th>354368</th>\n",
       "      <td>3400</td>\n",
       "      <td>wagon</td>\n",
       "      <td>2002</td>\n",
       "      <td>manual</td>\n",
       "      <td>100</td>\n",
       "      <td>golf</td>\n",
       "      <td>150000</td>\n",
       "      <td>gasoline</td>\n",
       "      <td>volkswagen</td>\n",
       "      <td>null</td>\n",
       "      <td>40764</td>\n",
       "    </tr>\n",
       "  </tbody>\n",
       "</table>\n",
       "<p>292084 rows × 11 columns</p>\n",
       "</div>"
      ],
      "text/plain": [
       "        price  vehicletype  registrationyear gearbox  power        model  \\\n",
       "1       18300        coupe              2011  manual    190         null   \n",
       "2        9800          suv              2004    auto    163        grand   \n",
       "3        1500        small              2001  manual     75         golf   \n",
       "4        3600        small              2008  manual     69        fabia   \n",
       "5         650        sedan              1995  manual    102          3er   \n",
       "...       ...          ...               ...     ...    ...          ...   \n",
       "354361   5250         null              2016    auto    150          159   \n",
       "354362   3200        sedan              2004  manual    225         leon   \n",
       "354366   1199  convertible              2000    auto    101       fortwo   \n",
       "354367   9200          bus              1996  manual    102  transporter   \n",
       "354368   3400        wagon              2002  manual    100         golf   \n",
       "\n",
       "        mileage  fueltype       brand notrepaired  postalcode  \n",
       "1        125000  gasoline        audi         yes       66954  \n",
       "2        125000  gasoline        jeep        null       90480  \n",
       "3        150000    petrol  volkswagen          no       91074  \n",
       "4         90000  gasoline       skoda          no       60437  \n",
       "5        150000    petrol         bmw         yes       33775  \n",
       "...         ...       ...         ...         ...         ...  \n",
       "354361   150000      null  alfa_romeo          no       51371  \n",
       "354362   150000    petrol        seat         yes       96465  \n",
       "354366   125000    petrol       smart          no       26135  \n",
       "354367   150000  gasoline  volkswagen          no       87439  \n",
       "354368   150000  gasoline  volkswagen        null       40764  \n",
       "\n",
       "[292084 rows x 11 columns]"
      ]
     },
     "execution_count": 13,
     "metadata": {},
     "output_type": "execute_result"
    }
   ],
   "source": [
    "# menyeleksi fitur\n",
    "new_car = car.drop(['registrationmonth', 'datecrawled', 'datecreated', 'lastseen'], axis=1)\n",
    "new_car"
   ]
  },
  {
   "cell_type": "markdown",
   "metadata": {},
   "source": [
    "#### OHE"
   ]
  },
  {
   "cell_type": "markdown",
   "metadata": {},
   "source": [
    "According to the preliminary findings information, there are object/categorical data in the `new_car` dataset, namely in the `vehicletype`, `gearbox`, `model`, `fueltype`, `brand`, `notrepaired` columns, so it is necessary to do coding with the **Ordinal Encoder** method from the sklearn.preprocessing module and **One-Hot Encoding (OHE)**.\n",
    "\n",
    "Before performing OHE, we will first check the number of unique values in each categorical column so that the OHE process is not too complex and potentially reduces the quality of modeling."
   ]
  },
  {
   "cell_type": "code",
   "execution_count": 14,
   "metadata": {},
   "outputs": [
    {
     "data": {
      "text/plain": [
       "vehicletype      9\n",
       "gearbox          3\n",
       "model          250\n",
       "fueltype         8\n",
       "brand           40\n",
       "notrepaired      3\n",
       "dtype: int64"
      ]
     },
     "execution_count": 14,
     "metadata": {},
     "output_type": "execute_result"
    }
   ],
   "source": [
    "# mengecek jumlah nilai unik pad akolom kategorik\n",
    "categoric = ['vehicletype', 'gearbox', 'model', 'fueltype', 'brand', 'notrepaired']\n",
    "new_car[categoric].nunique()"
   ]
  },
  {
   "cell_type": "markdown",
   "metadata": {},
   "source": [
    "Based on the results above, it is known that the `model` and `brand` columns have a large number of unique values of `250` and `40`, therefore these two columns will be dropped from the dataset."
   ]
  },
  {
   "cell_type": "code",
   "execution_count": 15,
   "metadata": {},
   "outputs": [
    {
     "data": {
      "text/html": [
       "<div>\n",
       "<style scoped>\n",
       "    .dataframe tbody tr th:only-of-type {\n",
       "        vertical-align: middle;\n",
       "    }\n",
       "\n",
       "    .dataframe tbody tr th {\n",
       "        vertical-align: top;\n",
       "    }\n",
       "\n",
       "    .dataframe thead th {\n",
       "        text-align: right;\n",
       "    }\n",
       "</style>\n",
       "<table border=\"1\" class=\"dataframe\">\n",
       "  <thead>\n",
       "    <tr style=\"text-align: right;\">\n",
       "      <th></th>\n",
       "      <th>price</th>\n",
       "      <th>vehicletype</th>\n",
       "      <th>registrationyear</th>\n",
       "      <th>gearbox</th>\n",
       "      <th>power</th>\n",
       "      <th>mileage</th>\n",
       "      <th>fueltype</th>\n",
       "      <th>notrepaired</th>\n",
       "      <th>postalcode</th>\n",
       "    </tr>\n",
       "  </thead>\n",
       "  <tbody>\n",
       "    <tr>\n",
       "      <th>1</th>\n",
       "      <td>18300</td>\n",
       "      <td>coupe</td>\n",
       "      <td>2011</td>\n",
       "      <td>manual</td>\n",
       "      <td>190</td>\n",
       "      <td>125000</td>\n",
       "      <td>gasoline</td>\n",
       "      <td>yes</td>\n",
       "      <td>66954</td>\n",
       "    </tr>\n",
       "    <tr>\n",
       "      <th>2</th>\n",
       "      <td>9800</td>\n",
       "      <td>suv</td>\n",
       "      <td>2004</td>\n",
       "      <td>auto</td>\n",
       "      <td>163</td>\n",
       "      <td>125000</td>\n",
       "      <td>gasoline</td>\n",
       "      <td>null</td>\n",
       "      <td>90480</td>\n",
       "    </tr>\n",
       "    <tr>\n",
       "      <th>3</th>\n",
       "      <td>1500</td>\n",
       "      <td>small</td>\n",
       "      <td>2001</td>\n",
       "      <td>manual</td>\n",
       "      <td>75</td>\n",
       "      <td>150000</td>\n",
       "      <td>petrol</td>\n",
       "      <td>no</td>\n",
       "      <td>91074</td>\n",
       "    </tr>\n",
       "    <tr>\n",
       "      <th>4</th>\n",
       "      <td>3600</td>\n",
       "      <td>small</td>\n",
       "      <td>2008</td>\n",
       "      <td>manual</td>\n",
       "      <td>69</td>\n",
       "      <td>90000</td>\n",
       "      <td>gasoline</td>\n",
       "      <td>no</td>\n",
       "      <td>60437</td>\n",
       "    </tr>\n",
       "    <tr>\n",
       "      <th>5</th>\n",
       "      <td>650</td>\n",
       "      <td>sedan</td>\n",
       "      <td>1995</td>\n",
       "      <td>manual</td>\n",
       "      <td>102</td>\n",
       "      <td>150000</td>\n",
       "      <td>petrol</td>\n",
       "      <td>yes</td>\n",
       "      <td>33775</td>\n",
       "    </tr>\n",
       "    <tr>\n",
       "      <th>...</th>\n",
       "      <td>...</td>\n",
       "      <td>...</td>\n",
       "      <td>...</td>\n",
       "      <td>...</td>\n",
       "      <td>...</td>\n",
       "      <td>...</td>\n",
       "      <td>...</td>\n",
       "      <td>...</td>\n",
       "      <td>...</td>\n",
       "    </tr>\n",
       "    <tr>\n",
       "      <th>354361</th>\n",
       "      <td>5250</td>\n",
       "      <td>null</td>\n",
       "      <td>2016</td>\n",
       "      <td>auto</td>\n",
       "      <td>150</td>\n",
       "      <td>150000</td>\n",
       "      <td>null</td>\n",
       "      <td>no</td>\n",
       "      <td>51371</td>\n",
       "    </tr>\n",
       "    <tr>\n",
       "      <th>354362</th>\n",
       "      <td>3200</td>\n",
       "      <td>sedan</td>\n",
       "      <td>2004</td>\n",
       "      <td>manual</td>\n",
       "      <td>225</td>\n",
       "      <td>150000</td>\n",
       "      <td>petrol</td>\n",
       "      <td>yes</td>\n",
       "      <td>96465</td>\n",
       "    </tr>\n",
       "    <tr>\n",
       "      <th>354366</th>\n",
       "      <td>1199</td>\n",
       "      <td>convertible</td>\n",
       "      <td>2000</td>\n",
       "      <td>auto</td>\n",
       "      <td>101</td>\n",
       "      <td>125000</td>\n",
       "      <td>petrol</td>\n",
       "      <td>no</td>\n",
       "      <td>26135</td>\n",
       "    </tr>\n",
       "    <tr>\n",
       "      <th>354367</th>\n",
       "      <td>9200</td>\n",
       "      <td>bus</td>\n",
       "      <td>1996</td>\n",
       "      <td>manual</td>\n",
       "      <td>102</td>\n",
       "      <td>150000</td>\n",
       "      <td>gasoline</td>\n",
       "      <td>no</td>\n",
       "      <td>87439</td>\n",
       "    </tr>\n",
       "    <tr>\n",
       "      <th>354368</th>\n",
       "      <td>3400</td>\n",
       "      <td>wagon</td>\n",
       "      <td>2002</td>\n",
       "      <td>manual</td>\n",
       "      <td>100</td>\n",
       "      <td>150000</td>\n",
       "      <td>gasoline</td>\n",
       "      <td>null</td>\n",
       "      <td>40764</td>\n",
       "    </tr>\n",
       "  </tbody>\n",
       "</table>\n",
       "<p>292084 rows × 9 columns</p>\n",
       "</div>"
      ],
      "text/plain": [
       "        price  vehicletype  registrationyear gearbox  power  mileage  \\\n",
       "1       18300        coupe              2011  manual    190   125000   \n",
       "2        9800          suv              2004    auto    163   125000   \n",
       "3        1500        small              2001  manual     75   150000   \n",
       "4        3600        small              2008  manual     69    90000   \n",
       "5         650        sedan              1995  manual    102   150000   \n",
       "...       ...          ...               ...     ...    ...      ...   \n",
       "354361   5250         null              2016    auto    150   150000   \n",
       "354362   3200        sedan              2004  manual    225   150000   \n",
       "354366   1199  convertible              2000    auto    101   125000   \n",
       "354367   9200          bus              1996  manual    102   150000   \n",
       "354368   3400        wagon              2002  manual    100   150000   \n",
       "\n",
       "        fueltype notrepaired  postalcode  \n",
       "1       gasoline         yes       66954  \n",
       "2       gasoline        null       90480  \n",
       "3         petrol          no       91074  \n",
       "4       gasoline          no       60437  \n",
       "5         petrol         yes       33775  \n",
       "...          ...         ...         ...  \n",
       "354361      null          no       51371  \n",
       "354362    petrol         yes       96465  \n",
       "354366    petrol          no       26135  \n",
       "354367  gasoline          no       87439  \n",
       "354368  gasoline        null       40764  \n",
       "\n",
       "[292084 rows x 9 columns]"
      ]
     },
     "execution_count": 15,
     "metadata": {},
     "output_type": "execute_result"
    }
   ],
   "source": [
    "# menyeleksi kolom model dan brand\n",
    "car_ohe = new_car.drop(['model', 'brand'], axis = 1)\n",
    "car_ohe"
   ]
  },
  {
   "cell_type": "markdown",
   "metadata": {},
   "source": [
    "The dataset is ready for Ordinal Encoder."
   ]
  },
  {
   "cell_type": "code",
   "execution_count": 16,
   "metadata": {},
   "outputs": [
    {
     "name": "stdout",
     "output_type": "stream",
     "text": [
      "(292084, 28)\n"
     ]
    }
   ],
   "source": [
    "# melakukan ohe\n",
    "car_ohe = pd.get_dummies(car_ohe)\n",
    "print(car_ohe.shape)"
   ]
  },
  {
   "cell_type": "code",
   "execution_count": 17,
   "metadata": {},
   "outputs": [
    {
     "data": {
      "text/html": [
       "<div>\n",
       "<style scoped>\n",
       "    .dataframe tbody tr th:only-of-type {\n",
       "        vertical-align: middle;\n",
       "    }\n",
       "\n",
       "    .dataframe tbody tr th {\n",
       "        vertical-align: top;\n",
       "    }\n",
       "\n",
       "    .dataframe thead th {\n",
       "        text-align: right;\n",
       "    }\n",
       "</style>\n",
       "<table border=\"1\" class=\"dataframe\">\n",
       "  <thead>\n",
       "    <tr style=\"text-align: right;\">\n",
       "      <th></th>\n",
       "      <th>price</th>\n",
       "      <th>registrationyear</th>\n",
       "      <th>power</th>\n",
       "      <th>mileage</th>\n",
       "      <th>postalcode</th>\n",
       "      <th>vehicletype_bus</th>\n",
       "      <th>vehicletype_convertible</th>\n",
       "      <th>vehicletype_coupe</th>\n",
       "      <th>vehicletype_null</th>\n",
       "      <th>vehicletype_other</th>\n",
       "      <th>...</th>\n",
       "      <th>fueltype_electric</th>\n",
       "      <th>fueltype_gasoline</th>\n",
       "      <th>fueltype_hybrid</th>\n",
       "      <th>fueltype_lpg</th>\n",
       "      <th>fueltype_null</th>\n",
       "      <th>fueltype_other</th>\n",
       "      <th>fueltype_petrol</th>\n",
       "      <th>notrepaired_no</th>\n",
       "      <th>notrepaired_null</th>\n",
       "      <th>notrepaired_yes</th>\n",
       "    </tr>\n",
       "  </thead>\n",
       "  <tbody>\n",
       "    <tr>\n",
       "      <th>1</th>\n",
       "      <td>18300</td>\n",
       "      <td>2011</td>\n",
       "      <td>190</td>\n",
       "      <td>125000</td>\n",
       "      <td>66954</td>\n",
       "      <td>0</td>\n",
       "      <td>0</td>\n",
       "      <td>1</td>\n",
       "      <td>0</td>\n",
       "      <td>0</td>\n",
       "      <td>...</td>\n",
       "      <td>0</td>\n",
       "      <td>1</td>\n",
       "      <td>0</td>\n",
       "      <td>0</td>\n",
       "      <td>0</td>\n",
       "      <td>0</td>\n",
       "      <td>0</td>\n",
       "      <td>0</td>\n",
       "      <td>0</td>\n",
       "      <td>1</td>\n",
       "    </tr>\n",
       "    <tr>\n",
       "      <th>2</th>\n",
       "      <td>9800</td>\n",
       "      <td>2004</td>\n",
       "      <td>163</td>\n",
       "      <td>125000</td>\n",
       "      <td>90480</td>\n",
       "      <td>0</td>\n",
       "      <td>0</td>\n",
       "      <td>0</td>\n",
       "      <td>0</td>\n",
       "      <td>0</td>\n",
       "      <td>...</td>\n",
       "      <td>0</td>\n",
       "      <td>1</td>\n",
       "      <td>0</td>\n",
       "      <td>0</td>\n",
       "      <td>0</td>\n",
       "      <td>0</td>\n",
       "      <td>0</td>\n",
       "      <td>0</td>\n",
       "      <td>1</td>\n",
       "      <td>0</td>\n",
       "    </tr>\n",
       "  </tbody>\n",
       "</table>\n",
       "<p>2 rows × 28 columns</p>\n",
       "</div>"
      ],
      "text/plain": [
       "   price  registrationyear  power  mileage  postalcode  vehicletype_bus  \\\n",
       "1  18300              2011    190   125000       66954                0   \n",
       "2   9800              2004    163   125000       90480                0   \n",
       "\n",
       "   vehicletype_convertible  vehicletype_coupe  vehicletype_null  \\\n",
       "1                        0                  1                 0   \n",
       "2                        0                  0                 0   \n",
       "\n",
       "   vehicletype_other  ...  fueltype_electric  fueltype_gasoline  \\\n",
       "1                  0  ...                  0                  1   \n",
       "2                  0  ...                  0                  1   \n",
       "\n",
       "   fueltype_hybrid  fueltype_lpg  fueltype_null  fueltype_other  \\\n",
       "1                0             0              0               0   \n",
       "2                0             0              0               0   \n",
       "\n",
       "   fueltype_petrol  notrepaired_no  notrepaired_null  notrepaired_yes  \n",
       "1                0               0                 0                1  \n",
       "2                0               0                 1                0  \n",
       "\n",
       "[2 rows x 28 columns]"
      ]
     },
     "execution_count": 17,
     "metadata": {},
     "output_type": "execute_result"
    }
   ],
   "source": [
    "# menampilkan hasil ohe\n",
    "car_ohe.head(2)"
   ]
  },
  {
   "cell_type": "markdown",
   "metadata": {},
   "source": [
    "#### Ordinal Encoder"
   ]
  },
  {
   "cell_type": "markdown",
   "metadata": {},
   "source": [
    "The next step is to do the ordinal encoder separately from the dataset that has been done OHE."
   ]
  },
  {
   "cell_type": "code",
   "execution_count": 18,
   "metadata": {},
   "outputs": [
    {
     "data": {
      "text/html": [
       "<div>\n",
       "<style scoped>\n",
       "    .dataframe tbody tr th:only-of-type {\n",
       "        vertical-align: middle;\n",
       "    }\n",
       "\n",
       "    .dataframe tbody tr th {\n",
       "        vertical-align: top;\n",
       "    }\n",
       "\n",
       "    .dataframe thead th {\n",
       "        text-align: right;\n",
       "    }\n",
       "</style>\n",
       "<table border=\"1\" class=\"dataframe\">\n",
       "  <thead>\n",
       "    <tr style=\"text-align: right;\">\n",
       "      <th></th>\n",
       "      <th>price</th>\n",
       "      <th>vehicletype</th>\n",
       "      <th>registrationyear</th>\n",
       "      <th>gearbox</th>\n",
       "      <th>power</th>\n",
       "      <th>model</th>\n",
       "      <th>mileage</th>\n",
       "      <th>fueltype</th>\n",
       "      <th>brand</th>\n",
       "      <th>notrepaired</th>\n",
       "      <th>postalcode</th>\n",
       "    </tr>\n",
       "  </thead>\n",
       "  <tbody>\n",
       "    <tr>\n",
       "      <th>1</th>\n",
       "      <td>18300</td>\n",
       "      <td>2.0</td>\n",
       "      <td>2011</td>\n",
       "      <td>1.0</td>\n",
       "      <td>190</td>\n",
       "      <td>163.0</td>\n",
       "      <td>125000</td>\n",
       "      <td>2.0</td>\n",
       "      <td>1.0</td>\n",
       "      <td>2.0</td>\n",
       "      <td>66954</td>\n",
       "    </tr>\n",
       "    <tr>\n",
       "      <th>2</th>\n",
       "      <td>9800</td>\n",
       "      <td>7.0</td>\n",
       "      <td>2004</td>\n",
       "      <td>0.0</td>\n",
       "      <td>163</td>\n",
       "      <td>117.0</td>\n",
       "      <td>125000</td>\n",
       "      <td>2.0</td>\n",
       "      <td>14.0</td>\n",
       "      <td>1.0</td>\n",
       "      <td>90480</td>\n",
       "    </tr>\n",
       "    <tr>\n",
       "      <th>3</th>\n",
       "      <td>1500</td>\n",
       "      <td>6.0</td>\n",
       "      <td>2001</td>\n",
       "      <td>1.0</td>\n",
       "      <td>75</td>\n",
       "      <td>116.0</td>\n",
       "      <td>150000</td>\n",
       "      <td>7.0</td>\n",
       "      <td>38.0</td>\n",
       "      <td>0.0</td>\n",
       "      <td>91074</td>\n",
       "    </tr>\n",
       "    <tr>\n",
       "      <th>4</th>\n",
       "      <td>3600</td>\n",
       "      <td>6.0</td>\n",
       "      <td>2008</td>\n",
       "      <td>1.0</td>\n",
       "      <td>69</td>\n",
       "      <td>101.0</td>\n",
       "      <td>90000</td>\n",
       "      <td>2.0</td>\n",
       "      <td>31.0</td>\n",
       "      <td>0.0</td>\n",
       "      <td>60437</td>\n",
       "    </tr>\n",
       "    <tr>\n",
       "      <th>5</th>\n",
       "      <td>650</td>\n",
       "      <td>5.0</td>\n",
       "      <td>1995</td>\n",
       "      <td>1.0</td>\n",
       "      <td>102</td>\n",
       "      <td>11.0</td>\n",
       "      <td>150000</td>\n",
       "      <td>7.0</td>\n",
       "      <td>2.0</td>\n",
       "      <td>2.0</td>\n",
       "      <td>33775</td>\n",
       "    </tr>\n",
       "  </tbody>\n",
       "</table>\n",
       "</div>"
      ],
      "text/plain": [
       "   price  vehicletype  registrationyear  gearbox  power  model  mileage  \\\n",
       "1  18300          2.0              2011      1.0    190  163.0   125000   \n",
       "2   9800          7.0              2004      0.0    163  117.0   125000   \n",
       "3   1500          6.0              2001      1.0     75  116.0   150000   \n",
       "4   3600          6.0              2008      1.0     69  101.0    90000   \n",
       "5    650          5.0              1995      1.0    102   11.0   150000   \n",
       "\n",
       "   fueltype  brand  notrepaired  postalcode  \n",
       "1       2.0    1.0          2.0       66954  \n",
       "2       2.0   14.0          1.0       90480  \n",
       "3       7.0   38.0          0.0       91074  \n",
       "4       2.0   31.0          0.0       60437  \n",
       "5       7.0    2.0          2.0       33775  "
      ]
     },
     "execution_count": 18,
     "metadata": {},
     "output_type": "execute_result"
    }
   ],
   "source": [
    "# import funsi ordinal encoder dari model sklearn.preprocessing\n",
    "from sklearn.preprocessing import OrdinalEncoder\n",
    "\n",
    "# melakukan ordinal encoder\n",
    "new_car[categoric] = OrdinalEncoder().fit_transform(new_car[categoric])\n",
    "new_car.head()"
   ]
  },
  {
   "cell_type": "markdown",
   "metadata": {},
   "source": [
    "The coding is done successfully, then the training, validation, and test sets are prepared."
   ]
  },
  {
   "cell_type": "markdown",
   "metadata": {},
   "source": [
    "#### Prepare training set, validation set, and test set"
   ]
  },
  {
   "cell_type": "markdown",
   "metadata": {},
   "source": [
    "Splitting data on the `new_car` dataset is done with the **TrainSplitTest** function from the sklearn.preprocessing module, where the proportions of training, validation, and test data are as follows:\n",
    "1. Training set: **60%**\n",
    "2. Validation set: **20%**\n",
    "3. Test_set: **20%**"
   ]
  },
  {
   "cell_type": "markdown",
   "metadata": {},
   "source": [
    "**OHE**"
   ]
  },
  {
   "cell_type": "code",
   "execution_count": 19,
   "metadata": {},
   "outputs": [
    {
     "name": "stdout",
     "output_type": "stream",
     "text": [
      "(175250, 28)\n",
      "(58417, 28)\n",
      "(58417, 28)\n"
     ]
    }
   ],
   "source": [
    "# mengimport fungsi trainsplittest\n",
    "from sklearn.model_selection import train_test_split\n",
    "\n",
    "# melakukan splitting data\n",
    "tmp, car_valid_ohe = train_test_split(car_ohe, test_size = 0.2, random_state=12345)\n",
    "car_train_ohe, car_test_ohe = train_test_split(tmp, test_size = 0.25, random_state=12345)\n",
    "\n",
    "# menampilkan ukuran dataset baru\n",
    "print(car_train_ohe.shape)\n",
    "print(car_valid_ohe.shape)\n",
    "print(car_test_ohe.shape)"
   ]
  },
  {
   "cell_type": "markdown",
   "metadata": {},
   "source": [
    "**Ordinal Encoding**"
   ]
  },
  {
   "cell_type": "code",
   "execution_count": 20,
   "metadata": {
    "scrolled": true
   },
   "outputs": [
    {
     "name": "stdout",
     "output_type": "stream",
     "text": [
      "(175250, 11)\n",
      "(58417, 11)\n",
      "(58417, 11)\n"
     ]
    }
   ],
   "source": [
    "# melakukan splitting data\n",
    "tmp, car_valid = train_test_split(new_car, test_size = 0.2, random_state=12345)\n",
    "car_train, car_test = train_test_split(tmp, test_size = 0.25, random_state=12345)\n",
    "\n",
    "# menampilkan ukuran dataset baru\n",
    "print(car_train.shape)\n",
    "print(car_valid.shape)\n",
    "print(car_test.shape)"
   ]
  },
  {
   "cell_type": "markdown",
   "metadata": {},
   "source": [
    "**Prepare Feature and Target**"
   ]
  },
  {
   "cell_type": "code",
   "execution_count": 21,
   "metadata": {},
   "outputs": [],
   "source": [
    "# menyiapkan fitur dan target hasil OHE\n",
    "x_train_ohe = car_train_ohe.drop(['price'], axis=1)\n",
    "x_valid_ohe = car_valid_ohe.drop(['price'], axis=1)\n",
    "x_test_ohe = car_test_ohe.drop(['price'], axis=1)\n",
    "y_train_ohe = car_train_ohe['price']\n",
    "y_valid_ohe = car_valid_ohe['price']\n",
    "y_test_ohe = car_test_ohe['price']\n",
    "\n",
    "# menyiapkan fitur dan target hasil ordinal encoding\n",
    "x_train = car_train.drop(['price'], axis=1)\n",
    "x_valid = car_valid.drop(['price'], axis=1)\n",
    "x_test = car_test.drop(['price'], axis=1)\n",
    "y_train = car_train['price']\n",
    "y_valid = car_valid['price']\n",
    "y_test = car_test['price']"
   ]
  },
  {
   "cell_type": "markdown",
   "metadata": {},
   "source": [
    "## Model Training"
   ]
  },
  {
   "cell_type": "markdown",
   "metadata": {},
   "source": [
    "At this stage, two different models will be trained, namely:\n",
    "1. Random Forest Regressor\n",
    "2. Linear Regression\n",
    "\n",
    "Next, the gradient boosting process will be carried out with XGBoost, LightGBM, and CatBoost."
   ]
  },
  {
   "cell_type": "code",
   "execution_count": 22,
   "metadata": {},
   "outputs": [],
   "source": [
    "# menyiapkan fungsi rmse\n",
    "from sklearn.metrics import mean_squared_error\n",
    "\n",
    "def rmse(y, a):\n",
    "    return mean_squared_error(y,a)**0.5"
   ]
  },
  {
   "cell_type": "markdown",
   "metadata": {},
   "source": [
    "### Linear Regression"
   ]
  },
  {
   "cell_type": "code",
   "execution_count": 23,
   "metadata": {},
   "outputs": [],
   "source": [
    "# mengimport model random forest regressor\n",
    "from sklearn.linear_model import LinearRegression"
   ]
  },
  {
   "cell_type": "markdown",
   "metadata": {},
   "source": [
    "#### Using OHE dataset"
   ]
  },
  {
   "cell_type": "code",
   "execution_count": 24,
   "metadata": {},
   "outputs": [
    {
     "name": "stdout",
     "output_type": "stream",
     "text": [
      "CPU times: user 277 ms, sys: 455 ms, total: 732 ms\n",
      "Wall time: 690 ms\n"
     ]
    }
   ],
   "source": [
    "%%time\n",
    "\n",
    "# melakukan pelatihan model\n",
    "lr_1 = LinearRegression()\n",
    "lr_1.fit(x_train_ohe, y_train_ohe)\n",
    "\n",
    "# prediksi model\n",
    "predict_train_ohe = lr_1.predict(x_train_ohe)\n",
    "predict_valid_ohe = lr_1.predict(x_valid_ohe)\n",
    "predict_test_ohe = lr_1.predict(x_test_ohe)"
   ]
  },
  {
   "cell_type": "code",
   "execution_count": 25,
   "metadata": {
    "scrolled": true
   },
   "outputs": [
    {
     "name": "stdout",
     "output_type": "stream",
     "text": [
      "RMSE LR dataset train :  3230.51\n",
      "RMSE LR dataset valid :  3239.44\n",
      "RMSE LR dataset test :  3231.74\n"
     ]
    }
   ],
   "source": [
    "# menampilkan metric evaluasi rmse\n",
    "print('RMSE LR dataset train : ', round(rmse(y_train_ohe, predict_train_ohe), 2))\n",
    "print('RMSE LR dataset valid : ', round(rmse(y_valid_ohe, predict_valid_ohe), 2))\n",
    "print('RMSE LR dataset test : ', round(rmse(y_test_ohe, predict_test_ohe), 2))"
   ]
  },
  {
   "cell_type": "markdown",
   "metadata": {},
   "source": [
    "Based on the above results, it is known that the rmse value of the train dataset is `3230.51`, the valid dataset is `3239.44`, and the rmse of the test dataset is `3231.74`, a good result."
   ]
  },
  {
   "cell_type": "markdown",
   "metadata": {},
   "source": [
    "#### Using Ordinal Encoder dataset"
   ]
  },
  {
   "cell_type": "code",
   "execution_count": 26,
   "metadata": {},
   "outputs": [
    {
     "name": "stdout",
     "output_type": "stream",
     "text": [
      "CPU times: user 79.7 ms, sys: 84.8 ms, total: 165 ms\n",
      "Wall time: 191 ms\n"
     ]
    }
   ],
   "source": [
    "%%time\n",
    "\n",
    "# melakukan pelatihan model\n",
    "lr_2 = LinearRegression()\n",
    "lr_2.fit(x_train, y_train)\n",
    "\n",
    "# prediksi model\n",
    "predict_train = lr_2.predict(x_train)\n",
    "predict_valid = lr_2.predict(x_valid)\n",
    "predict_test = lr_2.predict(x_test)"
   ]
  },
  {
   "cell_type": "code",
   "execution_count": 27,
   "metadata": {},
   "outputs": [
    {
     "name": "stdout",
     "output_type": "stream",
     "text": [
      "RMSE LR dataset train :  3510.52\n",
      "RMSE LR dataset valid :  3513.3\n",
      "RMSE LR dataset test :  3507.71\n"
     ]
    }
   ],
   "source": [
    "# menampilkan metric evaluasi rmse\n",
    "print('RMSE LR dataset train : ', round(rmse(y_train, predict_train), 2))\n",
    "print('RMSE LR dataset valid : ', round(rmse(y_valid, predict_valid), 2))\n",
    "print('RMSE LR dataset test : ', round(rmse(y_test, predict_test), 2))"
   ]
  },
  {
   "cell_type": "markdown",
   "metadata": {},
   "source": [
    "Based on the prediction results above, it is known that the rmse value is slightly greater than the feature coding using the OHE method. The rmse value of the train dataset is `3510.52`, the valid dataset is `3513.3`, and the rmse of the test dataset is `3507.71`, a pretty good result."
   ]
  },
  {
   "cell_type": "markdown",
   "metadata": {},
   "source": [
    "### Random Forest Regressor"
   ]
  },
  {
   "cell_type": "code",
   "execution_count": 28,
   "metadata": {},
   "outputs": [],
   "source": [
    "# mengimport random forest regressor dari modul sklearn.ensemble\n",
    "from sklearn.ensemble import RandomForestRegressor"
   ]
  },
  {
   "cell_type": "markdown",
   "metadata": {},
   "source": [
    "#### Using OHE dataset"
   ]
  },
  {
   "cell_type": "code",
   "execution_count": 29,
   "metadata": {},
   "outputs": [
    {
     "name": "stdout",
     "output_type": "stream",
     "text": [
      "RF, depth :  1\n",
      "RMSE train :  3784.28\n",
      "RMSE valid :  3793.52\n",
      "\n",
      "RF, depth :  2\n",
      "RMSE train :  3321.42\n",
      "RMSE valid :  3332.83\n",
      "\n",
      "RF, depth :  3\n",
      "RMSE train :  3024.78\n",
      "RMSE valid :  3037.27\n",
      "\n",
      "RF, depth :  4\n",
      "RMSE train :  2729.1\n",
      "RMSE valid :  2731.93\n",
      "\n",
      "RF, depth :  5\n",
      "RMSE train :  2522.43\n",
      "RMSE valid :  2523.01\n",
      "\n",
      "RF, depth :  6\n",
      "RMSE train :  2362.25\n",
      "RMSE valid :  2373.65\n",
      "\n",
      "RF, depth :  7\n",
      "RMSE train :  2232.04\n",
      "RMSE valid :  2252.43\n",
      "\n",
      "CPU times: user 1min 30s, sys: 156 ms, total: 1min 31s\n",
      "Wall time: 1min 31s\n"
     ]
    }
   ],
   "source": [
    "%%time\n",
    "\n",
    "# tunning hyperparameter model random forest\n",
    "for depth in range(1,8):\n",
    "    rf_1 = RandomForestRegressor(max_depth= depth, n_estimators = 50, random_state=42)\n",
    "    rf_1.fit(x_train_ohe, y_train_ohe)\n",
    "    \n",
    "    predict_train = rf_1.predict(x_train_ohe)\n",
    "    predict_valid = rf_1.predict(x_valid_ohe)\n",
    "    \n",
    "    print('RF, depth : ', depth)\n",
    "    print('RMSE train : ', round(rmse(y_train_ohe, predict_train), 2))\n",
    "    print('RMSE valid : ', round(rmse(y_valid_ohe, predict_valid), 2))\n",
    "    print()"
   ]
  },
  {
   "cell_type": "markdown",
   "metadata": {},
   "source": [
    "Based on the results of parameter tuning above, it is known that the lowest RMSE value in this model is with a depth of `depth = 7`. Furthermore, training and prediction are carried out with these hyperparameters."
   ]
  },
  {
   "cell_type": "code",
   "execution_count": 30,
   "metadata": {},
   "outputs": [
    {
     "name": "stdout",
     "output_type": "stream",
     "text": [
      "CPU times: user 23 s, sys: 24.2 ms, total: 23.1 s\n",
      "Wall time: 23.1 s\n"
     ]
    }
   ],
   "source": [
    "%%time\n",
    "# pelatihan model random forest dengan hyperparameter baru\n",
    "rf_1 = RandomForestRegressor(max_depth= 7, n_estimators = 50, random_state=42)\n",
    "rf_1.fit(x_train_ohe, y_train_ohe)\n",
    "\n",
    "# prediksi model\n",
    "predict_train_ohe = rf_1.predict(x_train_ohe)\n",
    "predict_valid_ohe = rf_1.predict(x_valid_ohe)\n",
    "predict_test_ohe = rf_1.predict(x_test_ohe)"
   ]
  },
  {
   "cell_type": "code",
   "execution_count": 31,
   "metadata": {
    "scrolled": false
   },
   "outputs": [
    {
     "name": "stdout",
     "output_type": "stream",
     "text": [
      "RMSE RF dataset train :  2232.04\n",
      "RMSE RF dataset valid :  2252.43\n",
      "RMSE RF dataset test :  2244.27\n"
     ]
    }
   ],
   "source": [
    "# menampilkan metric evaluasi rmse\n",
    "print('RMSE RF dataset train : ', round(rmse(y_train_ohe, predict_train_ohe), 2))\n",
    "print('RMSE RF dataset valid : ', round(rmse(y_valid_ohe, predict_valid_ohe), 2))\n",
    "print('RMSE RF dataset test : ', round(rmse(y_test_ohe, predict_test_ohe), 2))"
   ]
  },
  {
   "cell_type": "markdown",
   "metadata": {},
   "source": [
    "Based on the prediction results above, it is known that the rmse value is better than the Linear Regression model. The rmse value of the train dataset is `1755.31`, the valid dataset is `1910.55`, and the rmse of the test dataset is `1902.15`."
   ]
  },
  {
   "cell_type": "markdown",
   "metadata": {},
   "source": [
    "#### Using Ordinal Encoder dataset"
   ]
  },
  {
   "cell_type": "code",
   "execution_count": 32,
   "metadata": {
    "scrolled": true
   },
   "outputs": [
    {
     "name": "stdout",
     "output_type": "stream",
     "text": [
      "RF, depth :  1\n",
      "RMSE train :  3784.28\n",
      "RMSE valid :  3793.52\n",
      "\n",
      "RF, depth :  2\n",
      "RMSE train :  3321.42\n",
      "RMSE valid :  3332.83\n",
      "\n",
      "RF, depth :  3\n",
      "RMSE train :  3024.78\n",
      "RMSE valid :  3037.27\n",
      "\n",
      "RF, depth :  4\n",
      "RMSE train :  2731.89\n",
      "RMSE valid :  2734.88\n",
      "\n",
      "RF, depth :  5\n",
      "RMSE train :  2512.95\n",
      "RMSE valid :  2513.18\n",
      "\n",
      "RF, depth :  6\n",
      "RMSE train :  2349.5\n",
      "RMSE valid :  2361.09\n",
      "\n",
      "RF, depth :  7\n",
      "RMSE train :  2206.2\n",
      "RMSE valid :  2226.82\n",
      "\n",
      "CPU times: user 1min 17s, sys: 112 ms, total: 1min 17s\n",
      "Wall time: 1min 17s\n"
     ]
    }
   ],
   "source": [
    "%%time\n",
    "\n",
    "# tunning hyperparameter model random forest\n",
    "for depth in range(1,8):\n",
    "    rf_2 = RandomForestRegressor(max_depth= depth, n_estimators = 50, random_state=42)\n",
    "    rf_2.fit(x_train, y_train)\n",
    "    \n",
    "    predict_train = rf_2.predict(x_train)\n",
    "    predict_valid = rf_2.predict(x_valid)\n",
    "    \n",
    "    print('RF, depth : ', depth)\n",
    "    print('RMSE train : ', round(rmse(y_train, predict_train), 2))\n",
    "    print('RMSE valid : ', round(rmse(y_valid, predict_valid), 2))\n",
    "    print()"
   ]
  },
  {
   "cell_type": "markdown",
   "metadata": {},
   "source": [
    "Based on the results of parameter tuning above, it is known that the lowest RMSE value in this model is with a depth of `depth = 7`. Furthermore, training and prediction are carried out with these hyperparameters."
   ]
  },
  {
   "cell_type": "code",
   "execution_count": 33,
   "metadata": {},
   "outputs": [
    {
     "name": "stdout",
     "output_type": "stream",
     "text": [
      "CPU times: user 18.7 s, sys: 11.8 ms, total: 18.7 s\n",
      "Wall time: 18.9 s\n"
     ]
    }
   ],
   "source": [
    "%%time\n",
    "# pelatihan model random forest dengan hyperparameter baru\n",
    "rf_2 = RandomForestRegressor(max_depth= 7, n_estimators = 50, random_state=42)\n",
    "rf_2.fit(x_train, y_train)\n",
    "\n",
    "# prediksi model\n",
    "predict_train = rf_2.predict(x_train)\n",
    "predict_valid = rf_2.predict(x_valid)\n",
    "predict_test = rf_2.predict(x_test)"
   ]
  },
  {
   "cell_type": "code",
   "execution_count": 34,
   "metadata": {},
   "outputs": [
    {
     "name": "stdout",
     "output_type": "stream",
     "text": [
      "RMSE RF dataset train :  2206.2\n",
      "RMSE RF dataset valid :  2226.82\n",
      "RMSE RF dataset test :  2208.87\n"
     ]
    }
   ],
   "source": [
    "# menampilkan metric evaluasi rmse\n",
    "print('RMSE RF dataset train : ', round(rmse(y_train, predict_train), 2))\n",
    "print('RMSE RF dataset valid : ', round(rmse(y_valid, predict_valid), 2))\n",
    "print('RMSE RF dataset test : ', round(rmse(y_test, predict_test), 2))"
   ]
  },
  {
   "cell_type": "markdown",
   "metadata": {},
   "source": [
    "Based on the prediction results above, it is known that the rmse value is quite good and almost similar to the feature encoding using OHE, where the rmse value of the train dataset is `2206.2`, the valid dataset is `2226.82`, and the rmse of the test dataset is `2208.87`."
   ]
  },
  {
   "cell_type": "markdown",
   "metadata": {},
   "source": [
    "***\n",
    "**Insight**\n",
    "\n",
    "From the 2 models above, it was found that the lowest RMSE value was obtained with the **Random Forest Regressor** model on **OHE** feature coding, with an RMSE value on the test dataset of **1902.15** and a shorter model training and prediction time of **22.6 s**."
   ]
  },
  {
   "cell_type": "markdown",
   "metadata": {},
   "source": [
    "### Gradient Boosting"
   ]
  },
  {
   "cell_type": "markdown",
   "metadata": {},
   "source": [
    "#### XGBoost"
   ]
  },
  {
   "cell_type": "code",
   "execution_count": 35,
   "metadata": {},
   "outputs": [],
   "source": [
    "# mengimport model xgboost dan fungsi randomizedsearchcv\n",
    "from xgboost import XGBRegressor\n",
    "from sklearn.model_selection import RandomizedSearchCV\n",
    "\n",
    "# optimasi hyperparameter\n",
    "params = {\n",
    "    \"learning_rate\" : [0.05, 0.10, 0.15, 0.20, 0.25],\n",
    "    \"max_depth\" : [3, 4, 5, 6, 8, 10],\n",
    "    \"min_child_weight\" : [1, 3, 5, 7],\n",
    "    \"gamma\" : [0.0, 0.1, 0.2, 0.3, 0.4],\n",
    "    \"colsample_bytree\" : [0.3, 0.4, 0.5, 0.7],\n",
    "}"
   ]
  },
  {
   "cell_type": "code",
   "execution_count": 36,
   "metadata": {
    "scrolled": true
   },
   "outputs": [
    {
     "name": "stdout",
     "output_type": "stream",
     "text": [
      "Fitting 5 folds for each of 5 candidates, totalling 25 fits\n"
     ]
    },
    {
     "name": "stderr",
     "output_type": "stream",
     "text": [
      "/opt/conda/lib/python3.9/site-packages/sklearn/model_selection/_validation.py:683: UserWarning: Scoring failed. The score on this train-test partition for these parameters will be set to nan. Details: \n",
      "Traceback (most recent call last):\n",
      "  File \"/opt/conda/lib/python3.9/site-packages/sklearn/model_selection/_validation.py\", line 674, in _score\n",
      "    scores = scorer(estimator, X_test, y_test)\n",
      "  File \"/opt/conda/lib/python3.9/site-packages/sklearn/metrics/_scorer.py\", line 199, in __call__\n",
      "    return self._score(partial(_cached_call, None), estimator, X, y_true,\n",
      "  File \"/opt/conda/lib/python3.9/site-packages/sklearn/metrics/_scorer.py\", line 328, in _score\n",
      "    raise ValueError(\"{0} format is not supported\".format(y_type))\n",
      "ValueError: multiclass format is not supported\n",
      "\n",
      "  warnings.warn(\n"
     ]
    },
    {
     "name": "stdout",
     "output_type": "stream",
     "text": [
      "[CV 1/5] END colsample_bytree=0.7, gamma=0.0, learning_rate=0.2, max_depth=10, min_child_weight=1; total time=  51.5s\n"
     ]
    },
    {
     "name": "stderr",
     "output_type": "stream",
     "text": [
      "/opt/conda/lib/python3.9/site-packages/sklearn/model_selection/_validation.py:683: UserWarning: Scoring failed. The score on this train-test partition for these parameters will be set to nan. Details: \n",
      "Traceback (most recent call last):\n",
      "  File \"/opt/conda/lib/python3.9/site-packages/sklearn/model_selection/_validation.py\", line 674, in _score\n",
      "    scores = scorer(estimator, X_test, y_test)\n",
      "  File \"/opt/conda/lib/python3.9/site-packages/sklearn/metrics/_scorer.py\", line 199, in __call__\n",
      "    return self._score(partial(_cached_call, None), estimator, X, y_true,\n",
      "  File \"/opt/conda/lib/python3.9/site-packages/sklearn/metrics/_scorer.py\", line 328, in _score\n",
      "    raise ValueError(\"{0} format is not supported\".format(y_type))\n",
      "ValueError: multiclass format is not supported\n",
      "\n",
      "  warnings.warn(\n"
     ]
    },
    {
     "name": "stdout",
     "output_type": "stream",
     "text": [
      "[CV 2/5] END colsample_bytree=0.7, gamma=0.0, learning_rate=0.2, max_depth=10, min_child_weight=1; total time=  52.5s\n"
     ]
    },
    {
     "name": "stderr",
     "output_type": "stream",
     "text": [
      "/opt/conda/lib/python3.9/site-packages/sklearn/model_selection/_validation.py:683: UserWarning: Scoring failed. The score on this train-test partition for these parameters will be set to nan. Details: \n",
      "Traceback (most recent call last):\n",
      "  File \"/opt/conda/lib/python3.9/site-packages/sklearn/model_selection/_validation.py\", line 674, in _score\n",
      "    scores = scorer(estimator, X_test, y_test)\n",
      "  File \"/opt/conda/lib/python3.9/site-packages/sklearn/metrics/_scorer.py\", line 199, in __call__\n",
      "    return self._score(partial(_cached_call, None), estimator, X, y_true,\n",
      "  File \"/opt/conda/lib/python3.9/site-packages/sklearn/metrics/_scorer.py\", line 328, in _score\n",
      "    raise ValueError(\"{0} format is not supported\".format(y_type))\n",
      "ValueError: multiclass format is not supported\n",
      "\n",
      "  warnings.warn(\n"
     ]
    },
    {
     "name": "stdout",
     "output_type": "stream",
     "text": [
      "[CV 3/5] END colsample_bytree=0.7, gamma=0.0, learning_rate=0.2, max_depth=10, min_child_weight=1; total time=  52.2s\n"
     ]
    },
    {
     "name": "stderr",
     "output_type": "stream",
     "text": [
      "/opt/conda/lib/python3.9/site-packages/sklearn/model_selection/_validation.py:683: UserWarning: Scoring failed. The score on this train-test partition for these parameters will be set to nan. Details: \n",
      "Traceback (most recent call last):\n",
      "  File \"/opt/conda/lib/python3.9/site-packages/sklearn/model_selection/_validation.py\", line 674, in _score\n",
      "    scores = scorer(estimator, X_test, y_test)\n",
      "  File \"/opt/conda/lib/python3.9/site-packages/sklearn/metrics/_scorer.py\", line 199, in __call__\n",
      "    return self._score(partial(_cached_call, None), estimator, X, y_true,\n",
      "  File \"/opt/conda/lib/python3.9/site-packages/sklearn/metrics/_scorer.py\", line 328, in _score\n",
      "    raise ValueError(\"{0} format is not supported\".format(y_type))\n",
      "ValueError: multiclass format is not supported\n",
      "\n",
      "  warnings.warn(\n"
     ]
    },
    {
     "name": "stdout",
     "output_type": "stream",
     "text": [
      "[CV 4/5] END colsample_bytree=0.7, gamma=0.0, learning_rate=0.2, max_depth=10, min_child_weight=1; total time=  52.0s\n"
     ]
    },
    {
     "name": "stderr",
     "output_type": "stream",
     "text": [
      "/opt/conda/lib/python3.9/site-packages/sklearn/model_selection/_validation.py:683: UserWarning: Scoring failed. The score on this train-test partition for these parameters will be set to nan. Details: \n",
      "Traceback (most recent call last):\n",
      "  File \"/opt/conda/lib/python3.9/site-packages/sklearn/model_selection/_validation.py\", line 674, in _score\n",
      "    scores = scorer(estimator, X_test, y_test)\n",
      "  File \"/opt/conda/lib/python3.9/site-packages/sklearn/metrics/_scorer.py\", line 199, in __call__\n",
      "    return self._score(partial(_cached_call, None), estimator, X, y_true,\n",
      "  File \"/opt/conda/lib/python3.9/site-packages/sklearn/metrics/_scorer.py\", line 328, in _score\n",
      "    raise ValueError(\"{0} format is not supported\".format(y_type))\n",
      "ValueError: multiclass format is not supported\n",
      "\n",
      "  warnings.warn(\n"
     ]
    },
    {
     "name": "stdout",
     "output_type": "stream",
     "text": [
      "[CV 5/5] END colsample_bytree=0.7, gamma=0.0, learning_rate=0.2, max_depth=10, min_child_weight=1; total time=  52.4s\n"
     ]
    },
    {
     "name": "stderr",
     "output_type": "stream",
     "text": [
      "/opt/conda/lib/python3.9/site-packages/sklearn/model_selection/_validation.py:683: UserWarning: Scoring failed. The score on this train-test partition for these parameters will be set to nan. Details: \n",
      "Traceback (most recent call last):\n",
      "  File \"/opt/conda/lib/python3.9/site-packages/sklearn/model_selection/_validation.py\", line 674, in _score\n",
      "    scores = scorer(estimator, X_test, y_test)\n",
      "  File \"/opt/conda/lib/python3.9/site-packages/sklearn/metrics/_scorer.py\", line 199, in __call__\n",
      "    return self._score(partial(_cached_call, None), estimator, X, y_true,\n",
      "  File \"/opt/conda/lib/python3.9/site-packages/sklearn/metrics/_scorer.py\", line 328, in _score\n",
      "    raise ValueError(\"{0} format is not supported\".format(y_type))\n",
      "ValueError: multiclass format is not supported\n",
      "\n",
      "  warnings.warn(\n"
     ]
    },
    {
     "name": "stdout",
     "output_type": "stream",
     "text": [
      "[CV 1/5] END colsample_bytree=0.7, gamma=0.4, learning_rate=0.1, max_depth=6, min_child_weight=1; total time=  28.5s\n"
     ]
    },
    {
     "name": "stderr",
     "output_type": "stream",
     "text": [
      "/opt/conda/lib/python3.9/site-packages/sklearn/model_selection/_validation.py:683: UserWarning: Scoring failed. The score on this train-test partition for these parameters will be set to nan. Details: \n",
      "Traceback (most recent call last):\n",
      "  File \"/opt/conda/lib/python3.9/site-packages/sklearn/model_selection/_validation.py\", line 674, in _score\n",
      "    scores = scorer(estimator, X_test, y_test)\n",
      "  File \"/opt/conda/lib/python3.9/site-packages/sklearn/metrics/_scorer.py\", line 199, in __call__\n",
      "    return self._score(partial(_cached_call, None), estimator, X, y_true,\n",
      "  File \"/opt/conda/lib/python3.9/site-packages/sklearn/metrics/_scorer.py\", line 328, in _score\n",
      "    raise ValueError(\"{0} format is not supported\".format(y_type))\n",
      "ValueError: multiclass format is not supported\n",
      "\n",
      "  warnings.warn(\n"
     ]
    },
    {
     "name": "stdout",
     "output_type": "stream",
     "text": [
      "[CV 2/5] END colsample_bytree=0.7, gamma=0.4, learning_rate=0.1, max_depth=6, min_child_weight=1; total time=  28.0s\n"
     ]
    },
    {
     "name": "stderr",
     "output_type": "stream",
     "text": [
      "/opt/conda/lib/python3.9/site-packages/sklearn/model_selection/_validation.py:683: UserWarning: Scoring failed. The score on this train-test partition for these parameters will be set to nan. Details: \n",
      "Traceback (most recent call last):\n",
      "  File \"/opt/conda/lib/python3.9/site-packages/sklearn/model_selection/_validation.py\", line 674, in _score\n",
      "    scores = scorer(estimator, X_test, y_test)\n",
      "  File \"/opt/conda/lib/python3.9/site-packages/sklearn/metrics/_scorer.py\", line 199, in __call__\n",
      "    return self._score(partial(_cached_call, None), estimator, X, y_true,\n",
      "  File \"/opt/conda/lib/python3.9/site-packages/sklearn/metrics/_scorer.py\", line 328, in _score\n",
      "    raise ValueError(\"{0} format is not supported\".format(y_type))\n",
      "ValueError: multiclass format is not supported\n",
      "\n",
      "  warnings.warn(\n"
     ]
    },
    {
     "name": "stdout",
     "output_type": "stream",
     "text": [
      "[CV 3/5] END colsample_bytree=0.7, gamma=0.4, learning_rate=0.1, max_depth=6, min_child_weight=1; total time=  28.2s\n"
     ]
    },
    {
     "name": "stderr",
     "output_type": "stream",
     "text": [
      "/opt/conda/lib/python3.9/site-packages/sklearn/model_selection/_validation.py:683: UserWarning: Scoring failed. The score on this train-test partition for these parameters will be set to nan. Details: \n",
      "Traceback (most recent call last):\n",
      "  File \"/opt/conda/lib/python3.9/site-packages/sklearn/model_selection/_validation.py\", line 674, in _score\n",
      "    scores = scorer(estimator, X_test, y_test)\n",
      "  File \"/opt/conda/lib/python3.9/site-packages/sklearn/metrics/_scorer.py\", line 199, in __call__\n",
      "    return self._score(partial(_cached_call, None), estimator, X, y_true,\n",
      "  File \"/opt/conda/lib/python3.9/site-packages/sklearn/metrics/_scorer.py\", line 328, in _score\n",
      "    raise ValueError(\"{0} format is not supported\".format(y_type))\n",
      "ValueError: multiclass format is not supported\n",
      "\n",
      "  warnings.warn(\n"
     ]
    },
    {
     "name": "stdout",
     "output_type": "stream",
     "text": [
      "[CV 4/5] END colsample_bytree=0.7, gamma=0.4, learning_rate=0.1, max_depth=6, min_child_weight=1; total time=  28.4s\n"
     ]
    },
    {
     "name": "stderr",
     "output_type": "stream",
     "text": [
      "/opt/conda/lib/python3.9/site-packages/sklearn/model_selection/_validation.py:683: UserWarning: Scoring failed. The score on this train-test partition for these parameters will be set to nan. Details: \n",
      "Traceback (most recent call last):\n",
      "  File \"/opt/conda/lib/python3.9/site-packages/sklearn/model_selection/_validation.py\", line 674, in _score\n",
      "    scores = scorer(estimator, X_test, y_test)\n",
      "  File \"/opt/conda/lib/python3.9/site-packages/sklearn/metrics/_scorer.py\", line 199, in __call__\n",
      "    return self._score(partial(_cached_call, None), estimator, X, y_true,\n",
      "  File \"/opt/conda/lib/python3.9/site-packages/sklearn/metrics/_scorer.py\", line 328, in _score\n",
      "    raise ValueError(\"{0} format is not supported\".format(y_type))\n",
      "ValueError: multiclass format is not supported\n",
      "\n",
      "  warnings.warn(\n"
     ]
    },
    {
     "name": "stdout",
     "output_type": "stream",
     "text": [
      "[CV 5/5] END colsample_bytree=0.7, gamma=0.4, learning_rate=0.1, max_depth=6, min_child_weight=1; total time=  28.4s\n"
     ]
    },
    {
     "name": "stderr",
     "output_type": "stream",
     "text": [
      "/opt/conda/lib/python3.9/site-packages/sklearn/model_selection/_validation.py:683: UserWarning: Scoring failed. The score on this train-test partition for these parameters will be set to nan. Details: \n",
      "Traceback (most recent call last):\n",
      "  File \"/opt/conda/lib/python3.9/site-packages/sklearn/model_selection/_validation.py\", line 674, in _score\n",
      "    scores = scorer(estimator, X_test, y_test)\n",
      "  File \"/opt/conda/lib/python3.9/site-packages/sklearn/metrics/_scorer.py\", line 199, in __call__\n",
      "    return self._score(partial(_cached_call, None), estimator, X, y_true,\n",
      "  File \"/opt/conda/lib/python3.9/site-packages/sklearn/metrics/_scorer.py\", line 328, in _score\n",
      "    raise ValueError(\"{0} format is not supported\".format(y_type))\n",
      "ValueError: multiclass format is not supported\n",
      "\n",
      "  warnings.warn(\n"
     ]
    },
    {
     "name": "stdout",
     "output_type": "stream",
     "text": [
      "[CV 1/5] END colsample_bytree=0.5, gamma=0.0, learning_rate=0.1, max_depth=5, min_child_weight=5; total time=  19.6s\n"
     ]
    },
    {
     "name": "stderr",
     "output_type": "stream",
     "text": [
      "/opt/conda/lib/python3.9/site-packages/sklearn/model_selection/_validation.py:683: UserWarning: Scoring failed. The score on this train-test partition for these parameters will be set to nan. Details: \n",
      "Traceback (most recent call last):\n",
      "  File \"/opt/conda/lib/python3.9/site-packages/sklearn/model_selection/_validation.py\", line 674, in _score\n",
      "    scores = scorer(estimator, X_test, y_test)\n",
      "  File \"/opt/conda/lib/python3.9/site-packages/sklearn/metrics/_scorer.py\", line 199, in __call__\n",
      "    return self._score(partial(_cached_call, None), estimator, X, y_true,\n",
      "  File \"/opt/conda/lib/python3.9/site-packages/sklearn/metrics/_scorer.py\", line 328, in _score\n",
      "    raise ValueError(\"{0} format is not supported\".format(y_type))\n",
      "ValueError: multiclass format is not supported\n",
      "\n",
      "  warnings.warn(\n"
     ]
    },
    {
     "name": "stdout",
     "output_type": "stream",
     "text": [
      "[CV 2/5] END colsample_bytree=0.5, gamma=0.0, learning_rate=0.1, max_depth=5, min_child_weight=5; total time=  19.6s\n"
     ]
    },
    {
     "name": "stderr",
     "output_type": "stream",
     "text": [
      "/opt/conda/lib/python3.9/site-packages/sklearn/model_selection/_validation.py:683: UserWarning: Scoring failed. The score on this train-test partition for these parameters will be set to nan. Details: \n",
      "Traceback (most recent call last):\n",
      "  File \"/opt/conda/lib/python3.9/site-packages/sklearn/model_selection/_validation.py\", line 674, in _score\n",
      "    scores = scorer(estimator, X_test, y_test)\n",
      "  File \"/opt/conda/lib/python3.9/site-packages/sklearn/metrics/_scorer.py\", line 199, in __call__\n",
      "    return self._score(partial(_cached_call, None), estimator, X, y_true,\n",
      "  File \"/opt/conda/lib/python3.9/site-packages/sklearn/metrics/_scorer.py\", line 328, in _score\n",
      "    raise ValueError(\"{0} format is not supported\".format(y_type))\n",
      "ValueError: multiclass format is not supported\n",
      "\n",
      "  warnings.warn(\n"
     ]
    },
    {
     "name": "stdout",
     "output_type": "stream",
     "text": [
      "[CV 3/5] END colsample_bytree=0.5, gamma=0.0, learning_rate=0.1, max_depth=5, min_child_weight=5; total time=  19.5s\n"
     ]
    },
    {
     "name": "stderr",
     "output_type": "stream",
     "text": [
      "/opt/conda/lib/python3.9/site-packages/sklearn/model_selection/_validation.py:683: UserWarning: Scoring failed. The score on this train-test partition for these parameters will be set to nan. Details: \n",
      "Traceback (most recent call last):\n",
      "  File \"/opt/conda/lib/python3.9/site-packages/sklearn/model_selection/_validation.py\", line 674, in _score\n",
      "    scores = scorer(estimator, X_test, y_test)\n",
      "  File \"/opt/conda/lib/python3.9/site-packages/sklearn/metrics/_scorer.py\", line 199, in __call__\n",
      "    return self._score(partial(_cached_call, None), estimator, X, y_true,\n",
      "  File \"/opt/conda/lib/python3.9/site-packages/sklearn/metrics/_scorer.py\", line 328, in _score\n",
      "    raise ValueError(\"{0} format is not supported\".format(y_type))\n",
      "ValueError: multiclass format is not supported\n",
      "\n",
      "  warnings.warn(\n"
     ]
    },
    {
     "name": "stdout",
     "output_type": "stream",
     "text": [
      "[CV 4/5] END colsample_bytree=0.5, gamma=0.0, learning_rate=0.1, max_depth=5, min_child_weight=5; total time=  19.8s\n"
     ]
    },
    {
     "name": "stderr",
     "output_type": "stream",
     "text": [
      "/opt/conda/lib/python3.9/site-packages/sklearn/model_selection/_validation.py:683: UserWarning: Scoring failed. The score on this train-test partition for these parameters will be set to nan. Details: \n",
      "Traceback (most recent call last):\n",
      "  File \"/opt/conda/lib/python3.9/site-packages/sklearn/model_selection/_validation.py\", line 674, in _score\n",
      "    scores = scorer(estimator, X_test, y_test)\n",
      "  File \"/opt/conda/lib/python3.9/site-packages/sklearn/metrics/_scorer.py\", line 199, in __call__\n",
      "    return self._score(partial(_cached_call, None), estimator, X, y_true,\n",
      "  File \"/opt/conda/lib/python3.9/site-packages/sklearn/metrics/_scorer.py\", line 328, in _score\n",
      "    raise ValueError(\"{0} format is not supported\".format(y_type))\n",
      "ValueError: multiclass format is not supported\n",
      "\n",
      "  warnings.warn(\n"
     ]
    },
    {
     "name": "stdout",
     "output_type": "stream",
     "text": [
      "[CV 5/5] END colsample_bytree=0.5, gamma=0.0, learning_rate=0.1, max_depth=5, min_child_weight=5; total time=  19.7s\n"
     ]
    },
    {
     "name": "stderr",
     "output_type": "stream",
     "text": [
      "/opt/conda/lib/python3.9/site-packages/sklearn/model_selection/_validation.py:683: UserWarning: Scoring failed. The score on this train-test partition for these parameters will be set to nan. Details: \n",
      "Traceback (most recent call last):\n",
      "  File \"/opt/conda/lib/python3.9/site-packages/sklearn/model_selection/_validation.py\", line 674, in _score\n",
      "    scores = scorer(estimator, X_test, y_test)\n",
      "  File \"/opt/conda/lib/python3.9/site-packages/sklearn/metrics/_scorer.py\", line 199, in __call__\n",
      "    return self._score(partial(_cached_call, None), estimator, X, y_true,\n",
      "  File \"/opt/conda/lib/python3.9/site-packages/sklearn/metrics/_scorer.py\", line 328, in _score\n",
      "    raise ValueError(\"{0} format is not supported\".format(y_type))\n",
      "ValueError: multiclass format is not supported\n",
      "\n",
      "  warnings.warn(\n"
     ]
    },
    {
     "name": "stdout",
     "output_type": "stream",
     "text": [
      "[CV 1/5] END colsample_bytree=0.5, gamma=0.4, learning_rate=0.2, max_depth=5, min_child_weight=7; total time=  19.0s\n"
     ]
    },
    {
     "name": "stderr",
     "output_type": "stream",
     "text": [
      "/opt/conda/lib/python3.9/site-packages/sklearn/model_selection/_validation.py:683: UserWarning: Scoring failed. The score on this train-test partition for these parameters will be set to nan. Details: \n",
      "Traceback (most recent call last):\n",
      "  File \"/opt/conda/lib/python3.9/site-packages/sklearn/model_selection/_validation.py\", line 674, in _score\n",
      "    scores = scorer(estimator, X_test, y_test)\n",
      "  File \"/opt/conda/lib/python3.9/site-packages/sklearn/metrics/_scorer.py\", line 199, in __call__\n",
      "    return self._score(partial(_cached_call, None), estimator, X, y_true,\n",
      "  File \"/opt/conda/lib/python3.9/site-packages/sklearn/metrics/_scorer.py\", line 328, in _score\n",
      "    raise ValueError(\"{0} format is not supported\".format(y_type))\n",
      "ValueError: multiclass format is not supported\n",
      "\n",
      "  warnings.warn(\n"
     ]
    },
    {
     "name": "stdout",
     "output_type": "stream",
     "text": [
      "[CV 2/5] END colsample_bytree=0.5, gamma=0.4, learning_rate=0.2, max_depth=5, min_child_weight=7; total time=  19.3s\n"
     ]
    },
    {
     "name": "stderr",
     "output_type": "stream",
     "text": [
      "/opt/conda/lib/python3.9/site-packages/sklearn/model_selection/_validation.py:683: UserWarning: Scoring failed. The score on this train-test partition for these parameters will be set to nan. Details: \n",
      "Traceback (most recent call last):\n",
      "  File \"/opt/conda/lib/python3.9/site-packages/sklearn/model_selection/_validation.py\", line 674, in _score\n",
      "    scores = scorer(estimator, X_test, y_test)\n",
      "  File \"/opt/conda/lib/python3.9/site-packages/sklearn/metrics/_scorer.py\", line 199, in __call__\n",
      "    return self._score(partial(_cached_call, None), estimator, X, y_true,\n",
      "  File \"/opt/conda/lib/python3.9/site-packages/sklearn/metrics/_scorer.py\", line 328, in _score\n",
      "    raise ValueError(\"{0} format is not supported\".format(y_type))\n",
      "ValueError: multiclass format is not supported\n",
      "\n",
      "  warnings.warn(\n"
     ]
    },
    {
     "name": "stdout",
     "output_type": "stream",
     "text": [
      "[CV 3/5] END colsample_bytree=0.5, gamma=0.4, learning_rate=0.2, max_depth=5, min_child_weight=7; total time=  19.1s\n"
     ]
    },
    {
     "name": "stderr",
     "output_type": "stream",
     "text": [
      "/opt/conda/lib/python3.9/site-packages/sklearn/model_selection/_validation.py:683: UserWarning: Scoring failed. The score on this train-test partition for these parameters will be set to nan. Details: \n",
      "Traceback (most recent call last):\n",
      "  File \"/opt/conda/lib/python3.9/site-packages/sklearn/model_selection/_validation.py\", line 674, in _score\n",
      "    scores = scorer(estimator, X_test, y_test)\n",
      "  File \"/opt/conda/lib/python3.9/site-packages/sklearn/metrics/_scorer.py\", line 199, in __call__\n",
      "    return self._score(partial(_cached_call, None), estimator, X, y_true,\n",
      "  File \"/opt/conda/lib/python3.9/site-packages/sklearn/metrics/_scorer.py\", line 328, in _score\n",
      "    raise ValueError(\"{0} format is not supported\".format(y_type))\n",
      "ValueError: multiclass format is not supported\n",
      "\n",
      "  warnings.warn(\n"
     ]
    },
    {
     "name": "stdout",
     "output_type": "stream",
     "text": [
      "[CV 4/5] END colsample_bytree=0.5, gamma=0.4, learning_rate=0.2, max_depth=5, min_child_weight=7; total time=  19.2s\n"
     ]
    },
    {
     "name": "stderr",
     "output_type": "stream",
     "text": [
      "/opt/conda/lib/python3.9/site-packages/sklearn/model_selection/_validation.py:683: UserWarning: Scoring failed. The score on this train-test partition for these parameters will be set to nan. Details: \n",
      "Traceback (most recent call last):\n",
      "  File \"/opt/conda/lib/python3.9/site-packages/sklearn/model_selection/_validation.py\", line 674, in _score\n",
      "    scores = scorer(estimator, X_test, y_test)\n",
      "  File \"/opt/conda/lib/python3.9/site-packages/sklearn/metrics/_scorer.py\", line 199, in __call__\n",
      "    return self._score(partial(_cached_call, None), estimator, X, y_true,\n",
      "  File \"/opt/conda/lib/python3.9/site-packages/sklearn/metrics/_scorer.py\", line 328, in _score\n",
      "    raise ValueError(\"{0} format is not supported\".format(y_type))\n",
      "ValueError: multiclass format is not supported\n",
      "\n",
      "  warnings.warn(\n"
     ]
    },
    {
     "name": "stdout",
     "output_type": "stream",
     "text": [
      "[CV 5/5] END colsample_bytree=0.5, gamma=0.4, learning_rate=0.2, max_depth=5, min_child_weight=7; total time=  19.2s\n"
     ]
    },
    {
     "name": "stderr",
     "output_type": "stream",
     "text": [
      "/opt/conda/lib/python3.9/site-packages/sklearn/model_selection/_validation.py:683: UserWarning: Scoring failed. The score on this train-test partition for these parameters will be set to nan. Details: \n",
      "Traceback (most recent call last):\n",
      "  File \"/opt/conda/lib/python3.9/site-packages/sklearn/model_selection/_validation.py\", line 674, in _score\n",
      "    scores = scorer(estimator, X_test, y_test)\n",
      "  File \"/opt/conda/lib/python3.9/site-packages/sklearn/metrics/_scorer.py\", line 199, in __call__\n",
      "    return self._score(partial(_cached_call, None), estimator, X, y_true,\n",
      "  File \"/opt/conda/lib/python3.9/site-packages/sklearn/metrics/_scorer.py\", line 328, in _score\n",
      "    raise ValueError(\"{0} format is not supported\".format(y_type))\n",
      "ValueError: multiclass format is not supported\n",
      "\n",
      "  warnings.warn(\n"
     ]
    },
    {
     "name": "stdout",
     "output_type": "stream",
     "text": [
      "[CV 1/5] END colsample_bytree=0.7, gamma=0.3, learning_rate=0.1, max_depth=10, min_child_weight=3; total time=  54.6s\n"
     ]
    },
    {
     "name": "stderr",
     "output_type": "stream",
     "text": [
      "/opt/conda/lib/python3.9/site-packages/sklearn/model_selection/_validation.py:683: UserWarning: Scoring failed. The score on this train-test partition for these parameters will be set to nan. Details: \n",
      "Traceback (most recent call last):\n",
      "  File \"/opt/conda/lib/python3.9/site-packages/sklearn/model_selection/_validation.py\", line 674, in _score\n",
      "    scores = scorer(estimator, X_test, y_test)\n",
      "  File \"/opt/conda/lib/python3.9/site-packages/sklearn/metrics/_scorer.py\", line 199, in __call__\n",
      "    return self._score(partial(_cached_call, None), estimator, X, y_true,\n",
      "  File \"/opt/conda/lib/python3.9/site-packages/sklearn/metrics/_scorer.py\", line 328, in _score\n",
      "    raise ValueError(\"{0} format is not supported\".format(y_type))\n",
      "ValueError: multiclass format is not supported\n",
      "\n",
      "  warnings.warn(\n"
     ]
    },
    {
     "name": "stdout",
     "output_type": "stream",
     "text": [
      "[CV 2/5] END colsample_bytree=0.7, gamma=0.3, learning_rate=0.1, max_depth=10, min_child_weight=3; total time=  55.0s\n"
     ]
    },
    {
     "name": "stderr",
     "output_type": "stream",
     "text": [
      "/opt/conda/lib/python3.9/site-packages/sklearn/model_selection/_validation.py:683: UserWarning: Scoring failed. The score on this train-test partition for these parameters will be set to nan. Details: \n",
      "Traceback (most recent call last):\n",
      "  File \"/opt/conda/lib/python3.9/site-packages/sklearn/model_selection/_validation.py\", line 674, in _score\n",
      "    scores = scorer(estimator, X_test, y_test)\n",
      "  File \"/opt/conda/lib/python3.9/site-packages/sklearn/metrics/_scorer.py\", line 199, in __call__\n",
      "    return self._score(partial(_cached_call, None), estimator, X, y_true,\n",
      "  File \"/opt/conda/lib/python3.9/site-packages/sklearn/metrics/_scorer.py\", line 328, in _score\n",
      "    raise ValueError(\"{0} format is not supported\".format(y_type))\n",
      "ValueError: multiclass format is not supported\n",
      "\n",
      "  warnings.warn(\n"
     ]
    },
    {
     "name": "stdout",
     "output_type": "stream",
     "text": [
      "[CV 3/5] END colsample_bytree=0.7, gamma=0.3, learning_rate=0.1, max_depth=10, min_child_weight=3; total time=  54.8s\n"
     ]
    },
    {
     "name": "stderr",
     "output_type": "stream",
     "text": [
      "/opt/conda/lib/python3.9/site-packages/sklearn/model_selection/_validation.py:683: UserWarning: Scoring failed. The score on this train-test partition for these parameters will be set to nan. Details: \n",
      "Traceback (most recent call last):\n",
      "  File \"/opt/conda/lib/python3.9/site-packages/sklearn/model_selection/_validation.py\", line 674, in _score\n",
      "    scores = scorer(estimator, X_test, y_test)\n",
      "  File \"/opt/conda/lib/python3.9/site-packages/sklearn/metrics/_scorer.py\", line 199, in __call__\n",
      "    return self._score(partial(_cached_call, None), estimator, X, y_true,\n",
      "  File \"/opt/conda/lib/python3.9/site-packages/sklearn/metrics/_scorer.py\", line 328, in _score\n",
      "    raise ValueError(\"{0} format is not supported\".format(y_type))\n",
      "ValueError: multiclass format is not supported\n",
      "\n",
      "  warnings.warn(\n"
     ]
    },
    {
     "name": "stdout",
     "output_type": "stream",
     "text": [
      "[CV 4/5] END colsample_bytree=0.7, gamma=0.3, learning_rate=0.1, max_depth=10, min_child_weight=3; total time=  54.8s\n"
     ]
    },
    {
     "name": "stderr",
     "output_type": "stream",
     "text": [
      "/opt/conda/lib/python3.9/site-packages/sklearn/model_selection/_validation.py:683: UserWarning: Scoring failed. The score on this train-test partition for these parameters will be set to nan. Details: \n",
      "Traceback (most recent call last):\n",
      "  File \"/opt/conda/lib/python3.9/site-packages/sklearn/model_selection/_validation.py\", line 674, in _score\n",
      "    scores = scorer(estimator, X_test, y_test)\n",
      "  File \"/opt/conda/lib/python3.9/site-packages/sklearn/metrics/_scorer.py\", line 199, in __call__\n",
      "    return self._score(partial(_cached_call, None), estimator, X, y_true,\n",
      "  File \"/opt/conda/lib/python3.9/site-packages/sklearn/metrics/_scorer.py\", line 328, in _score\n",
      "    raise ValueError(\"{0} format is not supported\".format(y_type))\n",
      "ValueError: multiclass format is not supported\n",
      "\n",
      "  warnings.warn(\n",
      "/opt/conda/lib/python3.9/site-packages/sklearn/model_selection/_search.py:918: UserWarning: One or more of the test scores are non-finite: [nan nan nan nan nan]\n",
      "  warnings.warn(\n"
     ]
    },
    {
     "name": "stdout",
     "output_type": "stream",
     "text": [
      "[CV 5/5] END colsample_bytree=0.7, gamma=0.3, learning_rate=0.1, max_depth=10, min_child_weight=3; total time=  55.9s\n",
      "CPU times: user 15min 29s, sys: 2.26 s, total: 15min 31s\n",
      "Wall time: 15min 37s\n"
     ]
    },
    {
     "data": {
      "text/plain": [
       "RandomizedSearchCV(cv=5,\n",
       "                   estimator=XGBRegressor(base_score=None, booster=None,\n",
       "                                          colsample_bylevel=None,\n",
       "                                          colsample_bynode=None,\n",
       "                                          colsample_bytree=None,\n",
       "                                          enable_categorical=False, gamma=None,\n",
       "                                          gpu_id=None, importance_type=None,\n",
       "                                          interaction_constraints=None,\n",
       "                                          learning_rate=None,\n",
       "                                          max_delta_step=None, max_depth=None,\n",
       "                                          min_child_weight=None, missing=nan,\n",
       "                                          monotone_constraints=...\n",
       "                                          reg_alpha=None, reg_lambda=None,\n",
       "                                          scale_pos_weight=None, subsample=None,\n",
       "                                          tree_method=None,\n",
       "                                          validate_parameters=None,\n",
       "                                          verbosity=None),\n",
       "                   n_iter=5, n_jobs=-1,\n",
       "                   param_distributions={'colsample_bytree': [0.3, 0.4, 0.5,\n",
       "                                                             0.7],\n",
       "                                        'gamma': [0.0, 0.1, 0.2, 0.3, 0.4],\n",
       "                                        'learning_rate': [0.05, 0.1, 0.15, 0.2,\n",
       "                                                          0.25],\n",
       "                                        'max_depth': [3, 4, 5, 6, 8, 10],\n",
       "                                        'min_child_weight': [1, 3, 5, 7]},\n",
       "                   scoring='roc_auc', verbose=3)"
      ]
     },
     "execution_count": 36,
     "metadata": {},
     "output_type": "execute_result"
    }
   ],
   "source": [
    "%%time\n",
    "\n",
    "# membuat instance\n",
    "model_xgb = XGBRegressor()\n",
    "\n",
    "# tunning hyperparameter\n",
    "random_search = RandomizedSearchCV(model_xgb,param_distributions=params,\n",
    "                                   n_iter=5,scoring='roc_auc',n_jobs=-1,cv=5,verbose=3)\n",
    "# melakukan optimasi\n",
    "random_search.fit(x_train_ohe, y_train_ohe)"
   ]
  },
  {
   "cell_type": "code",
   "execution_count": 37,
   "metadata": {},
   "outputs": [
    {
     "data": {
      "text/plain": [
       "{'min_child_weight': 1,\n",
       " 'max_depth': 10,\n",
       " 'learning_rate': 0.2,\n",
       " 'gamma': 0.0,\n",
       " 'colsample_bytree': 0.7}"
      ]
     },
     "execution_count": 37,
     "metadata": {},
     "output_type": "execute_result"
    }
   ],
   "source": [
    "# menampilkan tunning hyperparameter terbaik\n",
    "random_search.best_params_"
   ]
  },
  {
   "cell_type": "markdown",
   "metadata": {},
   "source": [
    "The hyperparameter optimization results have been obtained. These tunning results will then be used for `XGBoost` gradient boosting training."
   ]
  },
  {
   "cell_type": "code",
   "execution_count": 38,
   "metadata": {},
   "outputs": [
    {
     "name": "stdout",
     "output_type": "stream",
     "text": [
      "CPU times: user 39.4 s, sys: 143 ms, total: 39.5 s\n",
      "Wall time: 39.7 s\n"
     ]
    }
   ],
   "source": [
    "%%time\n",
    "\n",
    "# melatih model xgboost\n",
    "model_xg = XGBRegressor(colsample_bytree=0.4, gamma=0.2, learning_rate=0.1, max_depth=8,\n",
    "              min_child_weight=1)\n",
    "model_xg.fit(x_train_ohe, y_train_ohe)\n",
    "\n",
    "# prediksi model\n",
    "predict_train_ohe = model_xg.predict(x_train_ohe)\n",
    "predict_valid_ohe = model_xg.predict(x_valid_ohe)\n",
    "predict_test_ohe = model_xg.predict(x_test_ohe)"
   ]
  },
  {
   "cell_type": "code",
   "execution_count": 39,
   "metadata": {},
   "outputs": [
    {
     "name": "stdout",
     "output_type": "stream",
     "text": [
      "RMSE XGBoost dataset train :  1827.21\n",
      "RMSE XGBoost dataset valid :  1927.89\n",
      "RMSE XGBoost dataset test :  1921.8\n"
     ]
    }
   ],
   "source": [
    "# menampilkan metric evaluasi rmse\n",
    "print('RMSE XGBoost dataset train : ', round(rmse(y_train_ohe, predict_train_ohe), 2))\n",
    "print('RMSE XGBoost dataset valid : ', round(rmse(y_valid_ohe, predict_valid_ohe), 2))\n",
    "print('RMSE XGBoost dataset test : ', round(rmse(y_test_ohe, predict_test_ohe), 2))"
   ]
  },
  {
   "cell_type": "markdown",
   "metadata": {},
   "source": [
    "Based on the above results, it is found that the RMSE value of dataset train = `1827.21`, valid = `1927.89` and test = `1921.8` with training and prediction time of `39.3 seconds`, but it is quite time consuming for hyoerparameter tuning, for `14 minutes, 27 seconds`."
   ]
  },
  {
   "cell_type": "markdown",
   "metadata": {},
   "source": [
    "#### LightGBM"
   ]
  },
  {
   "cell_type": "code",
   "execution_count": 40,
   "metadata": {},
   "outputs": [
    {
     "name": "stdout",
     "output_type": "stream",
     "text": [
      "[LightGBM] [Warning] Unknown parameter: vebose\n",
      "[LightGBM] [Warning] Unknown parameter: num_iterators\n"
     ]
    },
    {
     "name": "stderr",
     "output_type": "stream",
     "text": [
      "/opt/conda/lib/python3.9/site-packages/lightgbm/basic.py:2065: UserWarning: Using categorical_feature in Dataset.\n",
      "  _log_warning('Using categorical_feature in Dataset.')\n",
      "/opt/conda/lib/python3.9/site-packages/lightgbm/basic.py:2068: UserWarning: categorical_feature in Dataset is overridden.\n",
      "New categorical_feature is ['brand', 'fueltype', 'gearbox', 'model', 'notrepaired', 'vehicletype']\n",
      "  _log_warning('categorical_feature in Dataset is overridden.\\n'\n",
      "/opt/conda/lib/python3.9/site-packages/lightgbm/basic.py:1780: UserWarning: Overriding the parameters from Reference Dataset.\n",
      "  _log_warning('Overriding the parameters from Reference Dataset.')\n",
      "/opt/conda/lib/python3.9/site-packages/lightgbm/basic.py:1513: UserWarning: categorical_column in param dict is overridden.\n",
      "  _log_warning(f'{cat_alias} in param dict is overridden.')\n"
     ]
    },
    {
     "name": "stdout",
     "output_type": "stream",
     "text": [
      "[1]\tvalid_0's rmse: 4318.21\n",
      "[2]\tvalid_0's rmse: 4031.61\n",
      "[3]\tvalid_0's rmse: 3778.13\n",
      "[4]\tvalid_0's rmse: 3547.33\n",
      "[5]\tvalid_0's rmse: 3345.48\n",
      "[6]\tvalid_0's rmse: 3173.64\n",
      "[7]\tvalid_0's rmse: 3015.92\n",
      "[8]\tvalid_0's rmse: 2877.1\n",
      "[9]\tvalid_0's rmse: 2754.65\n",
      "[10]\tvalid_0's rmse: 2646.93\n",
      "[11]\tvalid_0's rmse: 2550.82\n",
      "[12]\tvalid_0's rmse: 2469.16\n",
      "[13]\tvalid_0's rmse: 2395.15\n",
      "[14]\tvalid_0's rmse: 2329.37\n",
      "[15]\tvalid_0's rmse: 2272.2\n",
      "[16]\tvalid_0's rmse: 2220.42\n",
      "[17]\tvalid_0's rmse: 2172.21\n",
      "[18]\tvalid_0's rmse: 2132.31\n",
      "[19]\tvalid_0's rmse: 2096.69\n",
      "[20]\tvalid_0's rmse: 2066.25\n",
      "[21]\tvalid_0's rmse: 2037.83\n",
      "[22]\tvalid_0's rmse: 2014.61\n",
      "[23]\tvalid_0's rmse: 1991.7\n",
      "[24]\tvalid_0's rmse: 1972.64\n",
      "[25]\tvalid_0's rmse: 1953.61\n",
      "[26]\tvalid_0's rmse: 1935.94\n",
      "[27]\tvalid_0's rmse: 1921.25\n",
      "[28]\tvalid_0's rmse: 1907.09\n",
      "[29]\tvalid_0's rmse: 1895.95\n",
      "[30]\tvalid_0's rmse: 1886.09\n",
      "[31]\tvalid_0's rmse: 1876.96\n",
      "[32]\tvalid_0's rmse: 1867.21\n",
      "[33]\tvalid_0's rmse: 1859.25\n",
      "[34]\tvalid_0's rmse: 1852.42\n",
      "[35]\tvalid_0's rmse: 1845.52\n",
      "[36]\tvalid_0's rmse: 1839.31\n",
      "[37]\tvalid_0's rmse: 1834.13\n",
      "[38]\tvalid_0's rmse: 1829.32\n",
      "[39]\tvalid_0's rmse: 1823.99\n",
      "[40]\tvalid_0's rmse: 1819.58\n",
      "[41]\tvalid_0's rmse: 1815.3\n",
      "[42]\tvalid_0's rmse: 1811.51\n",
      "[43]\tvalid_0's rmse: 1808.35\n",
      "[44]\tvalid_0's rmse: 1804.89\n",
      "[45]\tvalid_0's rmse: 1802\n",
      "[46]\tvalid_0's rmse: 1799.29\n",
      "[47]\tvalid_0's rmse: 1796.42\n",
      "[48]\tvalid_0's rmse: 1794.11\n",
      "[49]\tvalid_0's rmse: 1791.47\n",
      "[50]\tvalid_0's rmse: 1789.05\n",
      "[51]\tvalid_0's rmse: 1787.23\n",
      "[52]\tvalid_0's rmse: 1785.12\n",
      "[53]\tvalid_0's rmse: 1781.99\n",
      "[54]\tvalid_0's rmse: 1779.88\n",
      "[55]\tvalid_0's rmse: 1778.39\n",
      "[56]\tvalid_0's rmse: 1776.9\n",
      "[57]\tvalid_0's rmse: 1775.1\n",
      "[58]\tvalid_0's rmse: 1774.29\n",
      "[59]\tvalid_0's rmse: 1772.59\n",
      "[60]\tvalid_0's rmse: 1771.13\n",
      "[61]\tvalid_0's rmse: 1769.9\n",
      "[62]\tvalid_0's rmse: 1768.63\n",
      "[63]\tvalid_0's rmse: 1767.41\n",
      "[64]\tvalid_0's rmse: 1765.92\n",
      "[65]\tvalid_0's rmse: 1764.88\n",
      "[66]\tvalid_0's rmse: 1764.45\n",
      "[67]\tvalid_0's rmse: 1763.61\n",
      "[68]\tvalid_0's rmse: 1762.15\n",
      "[69]\tvalid_0's rmse: 1761.09\n",
      "[70]\tvalid_0's rmse: 1760\n",
      "[71]\tvalid_0's rmse: 1759.02\n",
      "[72]\tvalid_0's rmse: 1757.52\n",
      "[73]\tvalid_0's rmse: 1755.96\n",
      "[74]\tvalid_0's rmse: 1755.12\n",
      "[75]\tvalid_0's rmse: 1754.31\n",
      "[76]\tvalid_0's rmse: 1753.42\n",
      "[77]\tvalid_0's rmse: 1752.76\n",
      "[78]\tvalid_0's rmse: 1751.15\n",
      "[79]\tvalid_0's rmse: 1749.91\n",
      "[80]\tvalid_0's rmse: 1749.14\n",
      "[81]\tvalid_0's rmse: 1748.34\n",
      "[82]\tvalid_0's rmse: 1747.19\n",
      "[83]\tvalid_0's rmse: 1746.59\n",
      "[84]\tvalid_0's rmse: 1746.29\n",
      "[85]\tvalid_0's rmse: 1745.27\n",
      "[86]\tvalid_0's rmse: 1744.8\n",
      "[87]\tvalid_0's rmse: 1744.04\n",
      "[88]\tvalid_0's rmse: 1743.5\n",
      "[89]\tvalid_0's rmse: 1742.82\n",
      "[90]\tvalid_0's rmse: 1742.23\n",
      "[91]\tvalid_0's rmse: 1741.72\n",
      "[92]\tvalid_0's rmse: 1741.21\n",
      "[93]\tvalid_0's rmse: 1740.38\n",
      "[94]\tvalid_0's rmse: 1740.1\n",
      "[95]\tvalid_0's rmse: 1739.75\n",
      "[96]\tvalid_0's rmse: 1739.09\n",
      "[97]\tvalid_0's rmse: 1738.67\n",
      "[98]\tvalid_0's rmse: 1738.01\n",
      "[99]\tvalid_0's rmse: 1737.15\n",
      "[100]\tvalid_0's rmse: 1736.66\n",
      "CPU times: user 4.54 s, sys: 33.9 ms, total: 4.57 s\n",
      "Wall time: 4.61 s\n"
     ]
    },
    {
     "data": {
      "text/plain": [
       "LGBMRegressor(metric='rmse', num_iterators=1000, vebose=1)"
      ]
     },
     "execution_count": 40,
     "metadata": {},
     "output_type": "execute_result"
    }
   ],
   "source": [
    "%%time\n",
    "\n",
    "# melatih gradient boosting LightGBM \n",
    "\n",
    "import lightgbm as lgb\n",
    "\n",
    "lg = lgb.LGBMRegressor(num_iterators=1000, vebose=1, metric='rmse')\n",
    "lg.fit(x_train, y_train,\n",
    "          eval_set=(x_valid, y_valid),\n",
    "          categorical_feature=categoric)"
   ]
  },
  {
   "cell_type": "code",
   "execution_count": 41,
   "metadata": {},
   "outputs": [
    {
     "name": "stdout",
     "output_type": "stream",
     "text": [
      "RMSE RF dataset train :  1667.11\n",
      "RMSE RF dataset valid :  1736.66\n",
      "RMSE RF dataset test :  1717.45\n",
      "CPU times: user 3.33 s, sys: 3.34 ms, total: 3.33 s\n",
      "Wall time: 3.38 s\n"
     ]
    }
   ],
   "source": [
    "%%time\n",
    "# prediksi model\n",
    "predict_train = lg.predict(x_train)\n",
    "predict_valid = lg.predict(x_valid)\n",
    "predict_test = lg.predict(x_test)\n",
    "\n",
    "# menampilkan metric evaluasi rmse\n",
    "print('RMSE RF dataset train : ', round(rmse(y_train, predict_train), 2))\n",
    "print('RMSE RF dataset valid : ', round(rmse(y_valid, predict_valid), 2))\n",
    "print('RMSE RF dataset test : ', round(rmse(y_test, predict_test), 2))"
   ]
  },
  {
   "cell_type": "markdown",
   "metadata": {},
   "source": [
    "Based on the above results, it is obtained that the RMSE value of the dataset train = `1667.11`, valid = `1736.66` and test = `171717.45` with a training and prediction time of about `8 seconds`."
   ]
  },
  {
   "cell_type": "markdown",
   "metadata": {},
   "source": [
    "#### CatBoost"
   ]
  },
  {
   "cell_type": "code",
   "execution_count": 42,
   "metadata": {
    "collapsed": true
   },
   "outputs": [
    {
     "name": "stdout",
     "output_type": "stream",
     "text": [
      "Requirement already satisfied: catboost in /opt/conda/lib/python3.9/site-packages (1.0.3)\n",
      "Requirement already satisfied: graphviz in /opt/conda/lib/python3.9/site-packages (from catboost) (0.20)\n",
      "Requirement already satisfied: six in /opt/conda/lib/python3.9/site-packages (from catboost) (1.16.0)\n",
      "Requirement already satisfied: numpy>=1.16.0 in /opt/conda/lib/python3.9/site-packages (from catboost) (1.21.1)\n",
      "Requirement already satisfied: plotly in /opt/conda/lib/python3.9/site-packages (from catboost) (5.4.0)\n",
      "Requirement already satisfied: scipy in /opt/conda/lib/python3.9/site-packages (from catboost) (1.8.0)\n",
      "Requirement already satisfied: matplotlib in /opt/conda/lib/python3.9/site-packages (from catboost) (3.3.4)\n",
      "Requirement already satisfied: pandas>=0.24.0 in /opt/conda/lib/python3.9/site-packages (from catboost) (1.2.4)\n",
      "Requirement already satisfied: python-dateutil>=2.7.3 in /opt/conda/lib/python3.9/site-packages (from pandas>=0.24.0->catboost) (2.8.1)\n",
      "Requirement already satisfied: pytz>=2017.3 in /opt/conda/lib/python3.9/site-packages (from pandas>=0.24.0->catboost) (2021.1)\n",
      "Requirement already satisfied: kiwisolver>=1.0.1 in /opt/conda/lib/python3.9/site-packages (from matplotlib->catboost) (1.4.2)\n",
      "Requirement already satisfied: pyparsing!=2.0.4,!=2.1.2,!=2.1.6,>=2.0.3 in /opt/conda/lib/python3.9/site-packages (from matplotlib->catboost) (2.4.7)\n",
      "Requirement already satisfied: cycler>=0.10 in /opt/conda/lib/python3.9/site-packages (from matplotlib->catboost) (0.11.0)\n",
      "Requirement already satisfied: pillow>=6.2.0 in /opt/conda/lib/python3.9/site-packages (from matplotlib->catboost) (8.4.0)\n",
      "Requirement already satisfied: tenacity>=6.2.0 in /opt/conda/lib/python3.9/site-packages (from plotly->catboost) (8.0.1)\n"
     ]
    }
   ],
   "source": [
    "# menginstall library catboost\n",
    "!pip install catboost"
   ]
  },
  {
   "cell_type": "code",
   "execution_count": 43,
   "metadata": {},
   "outputs": [
    {
     "name": "stdout",
     "output_type": "stream",
     "text": [
      "0:\tlearn: 4346.6669335\ttest: 4360.0025339\tbest: 4360.0025339 (0)\ttotal: 87.7ms\tremaining: 1m 27s\n",
      "25:\tlearn: 2249.5023131\ttest: 2254.5925629\tbest: 2254.5925629 (25)\ttotal: 1.02s\tremaining: 38.2s\n",
      "50:\tlearn: 2035.3068431\ttest: 2039.8204337\tbest: 2039.8204337 (50)\ttotal: 1.98s\tremaining: 36.8s\n",
      "75:\tlearn: 1953.0352644\ttest: 1960.9691272\tbest: 1960.9691272 (75)\ttotal: 3s\tremaining: 36.4s\n",
      "100:\tlearn: 1906.2805044\ttest: 1917.3477367\tbest: 1917.3477367 (100)\ttotal: 3.91s\tremaining: 34.8s\n",
      "125:\tlearn: 1874.9841820\ttest: 1889.0866767\tbest: 1889.0866767 (125)\ttotal: 4.77s\tremaining: 33.1s\n",
      "150:\tlearn: 1853.4427610\ttest: 1870.9983515\tbest: 1870.9983515 (150)\ttotal: 5.63s\tremaining: 31.6s\n",
      "175:\tlearn: 1832.1448875\ttest: 1852.7616127\tbest: 1852.7616127 (175)\ttotal: 6.51s\tremaining: 30.5s\n",
      "200:\tlearn: 1814.6568900\ttest: 1838.9427573\tbest: 1838.9427573 (200)\ttotal: 7.38s\tremaining: 29.3s\n",
      "225:\tlearn: 1800.8403414\ttest: 1828.2466277\tbest: 1828.2466277 (225)\ttotal: 8.23s\tremaining: 28.2s\n",
      "250:\tlearn: 1787.7628223\ttest: 1818.2202941\tbest: 1818.2202941 (250)\ttotal: 9.1s\tremaining: 27.1s\n",
      "275:\tlearn: 1775.6147499\ttest: 1808.9053015\tbest: 1808.9053015 (275)\ttotal: 9.98s\tremaining: 26.2s\n",
      "300:\tlearn: 1764.4867632\ttest: 1801.0689019\tbest: 1801.0689019 (300)\ttotal: 10.9s\tremaining: 25.2s\n",
      "325:\tlearn: 1754.0282340\ttest: 1793.7321421\tbest: 1793.7321421 (325)\ttotal: 11.8s\tremaining: 24.4s\n",
      "350:\tlearn: 1745.1965224\ttest: 1786.9309182\tbest: 1786.9309182 (350)\ttotal: 12.7s\tremaining: 23.4s\n",
      "375:\tlearn: 1736.4381644\ttest: 1780.6935706\tbest: 1780.6935706 (375)\ttotal: 13.6s\tremaining: 22.6s\n",
      "400:\tlearn: 1728.9173618\ttest: 1775.5314307\tbest: 1775.5314307 (400)\ttotal: 14.5s\tremaining: 21.6s\n",
      "425:\tlearn: 1722.6557525\ttest: 1771.8400754\tbest: 1771.8400754 (425)\ttotal: 15.4s\tremaining: 20.7s\n",
      "450:\tlearn: 1715.4586019\ttest: 1767.0315012\tbest: 1767.0315012 (450)\ttotal: 16.2s\tremaining: 19.8s\n",
      "475:\tlearn: 1708.2146162\ttest: 1762.2434790\tbest: 1762.2434790 (475)\ttotal: 17.1s\tremaining: 18.8s\n",
      "500:\tlearn: 1701.4111991\ttest: 1758.1562585\tbest: 1758.1562585 (500)\ttotal: 18s\tremaining: 17.9s\n",
      "525:\tlearn: 1695.0997389\ttest: 1754.9653972\tbest: 1754.9653972 (525)\ttotal: 18.9s\tremaining: 17s\n",
      "550:\tlearn: 1689.4335813\ttest: 1751.5451283\tbest: 1751.5451283 (550)\ttotal: 19.7s\tremaining: 16.1s\n",
      "575:\tlearn: 1684.0995717\ttest: 1748.9679154\tbest: 1748.9679154 (575)\ttotal: 20.6s\tremaining: 15.2s\n",
      "600:\tlearn: 1678.7597563\ttest: 1745.1301914\tbest: 1745.1301914 (600)\ttotal: 21.5s\tremaining: 14.3s\n",
      "625:\tlearn: 1674.0409995\ttest: 1743.3757944\tbest: 1743.3757944 (625)\ttotal: 22.4s\tremaining: 13.4s\n",
      "650:\tlearn: 1669.0317912\ttest: 1741.2271885\tbest: 1741.2271885 (650)\ttotal: 23.3s\tremaining: 12.5s\n",
      "675:\tlearn: 1664.2510660\ttest: 1738.8149018\tbest: 1738.8149018 (675)\ttotal: 24.2s\tremaining: 11.6s\n",
      "700:\tlearn: 1659.7559030\ttest: 1736.3016171\tbest: 1736.3016171 (700)\ttotal: 25s\tremaining: 10.7s\n",
      "725:\tlearn: 1654.9822698\ttest: 1733.6845125\tbest: 1733.6845125 (725)\ttotal: 26s\tremaining: 9.8s\n",
      "750:\tlearn: 1650.5558398\ttest: 1731.4839996\tbest: 1731.4839996 (750)\ttotal: 26.8s\tremaining: 8.89s\n",
      "775:\tlearn: 1646.4269164\ttest: 1729.4155625\tbest: 1729.4155625 (775)\ttotal: 27.7s\tremaining: 7.99s\n",
      "800:\tlearn: 1642.5616022\ttest: 1727.8594511\tbest: 1727.8594511 (800)\ttotal: 28.6s\tremaining: 7.11s\n",
      "825:\tlearn: 1638.6369742\ttest: 1725.7758713\tbest: 1725.7758713 (825)\ttotal: 29.5s\tremaining: 6.21s\n",
      "850:\tlearn: 1634.1549002\ttest: 1723.6544106\tbest: 1723.6544106 (850)\ttotal: 30.4s\tremaining: 5.32s\n",
      "875:\tlearn: 1630.6244798\ttest: 1721.6607473\tbest: 1721.6607473 (875)\ttotal: 31.4s\tremaining: 4.44s\n",
      "900:\tlearn: 1627.3367870\ttest: 1720.2528995\tbest: 1720.2528995 (900)\ttotal: 32.2s\tremaining: 3.54s\n",
      "925:\tlearn: 1623.7393761\ttest: 1718.8221916\tbest: 1718.8221916 (925)\ttotal: 33.1s\tremaining: 2.65s\n",
      "950:\tlearn: 1620.5275891\ttest: 1717.3108979\tbest: 1717.3108979 (950)\ttotal: 34s\tremaining: 1.75s\n",
      "975:\tlearn: 1617.4303692\ttest: 1715.9003984\tbest: 1715.9003984 (975)\ttotal: 34.9s\tremaining: 857ms\n",
      "999:\tlearn: 1614.3004155\ttest: 1714.2508673\tbest: 1714.2508673 (999)\ttotal: 35.7s\tremaining: 0us\n",
      "\n",
      "bestTest = 1714.250867\n",
      "bestIteration = 999\n",
      "\n",
      "CPU times: user 35.6 s, sys: 89.7 ms, total: 35.7 s\n",
      "Wall time: 36.2 s\n"
     ]
    },
    {
     "data": {
      "text/plain": [
       "<catboost.core.CatBoostRegressor at 0x7fa27808eeb0>"
      ]
     },
     "execution_count": 43,
     "metadata": {},
     "output_type": "execute_result"
    }
   ],
   "source": [
    "%%time\n",
    "\n",
    "# import gradient boosting catboost regressor\n",
    "from catboost import CatBoostRegressor\n",
    "\n",
    "# melatih model\n",
    "cat = CatBoostRegressor(iterations=1000, learning_rate=0.1, metric_period=25)\n",
    "cat.fit(x_train, y_train, eval_set=(x_valid, y_valid))"
   ]
  },
  {
   "cell_type": "code",
   "execution_count": 44,
   "metadata": {
    "scrolled": false
   },
   "outputs": [
    {
     "name": "stdout",
     "output_type": "stream",
     "text": [
      "RMSE RF dataset train :  1614.3\n",
      "RMSE RF dataset valid :  1714.25\n",
      "RMSE RF dataset test :  1708.76\n",
      "CPU times: user 408 ms, sys: 3.89 ms, total: 412 ms\n",
      "Wall time: 409 ms\n"
     ]
    }
   ],
   "source": [
    "%%time\n",
    "\n",
    "# prediksi model\n",
    "predict_train = cat.predict(x_train)\n",
    "predict_valid = cat.predict(x_valid)\n",
    "predict_test = cat.predict(x_test)\n",
    "\n",
    "# menampilkan metric evaluasi rmse\n",
    "print('RMSE RF dataset train : ', round(rmse(y_train, predict_train), 2))\n",
    "print('RMSE RF dataset valid : ', round(rmse(y_valid, predict_valid), 2))\n",
    "print('RMSE RF dataset test : ', round(rmse(y_test, predict_test), 2))"
   ]
  },
  {
   "cell_type": "markdown",
   "metadata": {},
   "source": [
    "Based on the above results, it is obtained that the RMSE value of the dataset train = `1614.11`, valid = `1714.25` and test = `1708.76` with a training and prediction time of about `40 seconds`."
   ]
  },
  {
   "cell_type": "markdown",
   "metadata": {},
   "source": [
    "## Model Analysis"
   ]
  },
  {
   "cell_type": "markdown",
   "metadata": {},
   "source": [
    "Based on the model training results above, it is found that the gradient boosting **CatBoost** provides the lowest RMSE score of `1708.76` with a fairly short training and prediction time of `40 seconds`. The model with the shortest training and prediction time is the Linear Regression model for less than `1 second`, but the RMSE score obtained is quite large. The model with a fairly low RMSE score and requires a fairly short training and prediction time is the **LightGBM** model with an RMSE score of `1717.45` with a training and prediction time of `4 seconds`."
   ]
  },
  {
   "cell_type": "markdown",
   "metadata": {},
   "source": [
    "## General Conclusion"
   ]
  },
  {
   "cell_type": "markdown",
   "metadata": {},
   "source": [
    "The dataset obtained includes historical data, vehicle technical specifications, vehicle model version, and vehicle price. This dataset is 15 columns in size with 354369 observations. Several findings and anomalies were found in the dataset, including:\n",
    "1.    There are missing values in some columns with categorical data types; to overcome this, the missing values are replaced with the value `null`.\n",
    "2.    The minimum `1000` and maximum `9999` values in the `RegistrationYear` column are a little unreasonable; therefore, the `RegistrationYear` information in the range of `1900 - 2023` will be taken (based on the estimated development of cars in Europe until this year).\n",
    "3.    Minimum value of `0` in the `power` column, the dataset will be selected by taking the dataset information with `power` greater than `0`.\n",
    "4.    Minimum value of `0` in column `RegistrationMonth`, the dataset will be selected by retrieving dataset information with `RegistrationMonth` greater than `0`.\n",
    "5.    The minimum and maximum value in the `NumberOfPictures` column is `0`, so this column will be dropped from the dataset.\n",
    "\n",
    "Before training the model, we first select features that have a low correlation with the target `price`, such as: `registrationmonth`, `datecrawled`, `datecreated`, and `lastseen`. Ordinal coding is also performed for categorical features such as the columns `vehicletype`, `gearbox`, `model`, `fueltype`, `brand`, `notrepaired`.\n",
    "\n",
    "The models trained are: Linear Regression, Random Forest Regressor where the gradient boosting methods performed are XGBoost, LightGBM and CatBoost. After tuning the hyperparameters, training and predicting the model, it was found that gradient boosting **CatBooth** gave the lowest RMSE score of `1708.76` with a training and prediction time of `40 seconds`. Since \"Rusty Bargain\" focuses on the quality of prediction, the gradient boosting model **CatBooth** is the best because it has the lowest RMSE score, but if you want a balance between the quality and speed of training the model and predicting the test data, then the **LightGBM** model is the best choice because it can provide a low RMSE score of `1717.45` with a training and prediction time of `4 seconds`."
   ]
  }
 ],
 "metadata": {
  "kernelspec": {
   "display_name": "Python 3 (ipykernel)",
   "language": "python",
   "name": "python3"
  },
  "language_info": {
   "codemirror_mode": {
    "name": "ipython",
    "version": 3
   },
   "file_extension": ".py",
   "mimetype": "text/x-python",
   "name": "python",
   "nbconvert_exporter": "python",
   "pygments_lexer": "ipython3",
   "version": "3.9.13"
  },
  "toc": {
   "base_numbering": 1,
   "nav_menu": {},
   "number_sections": true,
   "sideBar": true,
   "skip_h1_title": true,
   "title_cell": "Table of Contents",
   "title_sidebar": "Contents",
   "toc_cell": false,
   "toc_position": {
    "height": "calc(100% - 180px)",
    "left": "10px",
    "top": "150px",
    "width": "372.594px"
   },
   "toc_section_display": true,
   "toc_window_display": true
  }
 },
 "nbformat": 4,
 "nbformat_minor": 2
}
