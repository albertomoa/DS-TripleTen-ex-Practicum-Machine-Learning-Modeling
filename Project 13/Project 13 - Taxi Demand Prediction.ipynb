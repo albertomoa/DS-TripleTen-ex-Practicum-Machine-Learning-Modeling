{
 "cells": [
  {
   "cell_type": "markdown",
   "metadata": {},
   "source": [
    "# Project Sprint 13 : \"Sweet Lift\" Taxi Order Quantity Prediction."
   ]
  },
  {
   "cell_type": "markdown",
   "metadata": {},
   "source": [
    "## Introduction\n",
    "\n",
    "A taxi company called Sweet Lift has collected historical data on taxi orders at the airport. In order to attract more drivers at peak hours, it needs to predict the number of taxi orders for the next hour."
   ]
  },
  {
   "cell_type": "markdown",
   "metadata": {},
   "source": [
    "### Goal\n",
    "\n",
    "This project aims to create a predictive model capable of predicting the number of taxi orders using RMSE as an evaluation metric, where the metric requirement on the `test set` data is no more than 48."
   ]
  },
  {
   "cell_type": "markdown",
   "metadata": {},
   "source": [
    "### Steps\n",
    "\n",
    "Historical data about taxi orders at the airport is stored in the filepath `/datasets/taxi.csv`, where the number of orders is contained in the `num_orders` column. Model development is done in the following steps:\n",
    "1. Downloading data and *resampling* within one hour.\n",
    "2. Analyzing the dataset.\n",
    "3. Train several different models with different hyperparameters. The test sample should be 10% of the initial *dataset*.\n",
    "4. Test the data using the test samples and provide conclusions."
   ]
  },
  {
   "cell_type": "markdown",
   "metadata": {},
   "source": [
    "### Overview"
   ]
  },
  {
   "cell_type": "markdown",
   "metadata": {},
   "source": [
    "**1. Introduction**\n",
    "- Objective\n",
    "- Stages\n",
    "- Overview\n",
    "\n",
    "**2. Data Preparation**\n",
    "- Initialization\n",
    "- Load Dataset\n",
    "- Data Preparation\n",
    "- Data Cleansing and Pre-Processing\n",
    "\n",
    "**3. Analysis**\n",
    "- Moving Average\n",
    "- Trend and Seasonality\n",
    "- Stationarity\n",
    "\n",
    "**4. Training**\n",
    "- Feature Preparation\n",
    "- Train and Test Set Preparation\n",
    "- Modeling\n",
    "\n",
    "**5. Testing**\n",
    "\n",
    "**6. Conclusion**"
   ]
  },
  {
   "cell_type": "markdown",
   "metadata": {},
   "source": [
    "## Data Preparation"
   ]
  },
  {
   "cell_type": "markdown",
   "metadata": {},
   "source": [
    "### Initialization"
   ]
  },
  {
   "cell_type": "markdown",
   "metadata": {},
   "source": [
    "In order to perform data analysis and pre-processing, libraries that can help with these activities are first loaded, namely:\n",
    "1. `Pandas` Library\n",
    "2. `Seaborn` Library\n",
    "3. `MatPlotLibt` Library\n",
    "4. `NumPy` Library"
   ]
  },
  {
   "cell_type": "code",
   "execution_count": 3,
   "metadata": {},
   "outputs": [
    {
     "name": "stdout",
     "output_type": "stream",
     "text": [
      "Library berhasil di import\n"
     ]
    }
   ],
   "source": [
    "# Memuat library pandas\n",
    "import pandas as pd\n",
    "\n",
    "# Memuat seaborn library\n",
    "import seaborn as sns\n",
    "\n",
    "# Memuat matplotlib library\n",
    "from matplotlib import pyplot as plt\n",
    "\n",
    "# Memuat numpy library\n",
    "import numpy as np\n",
    "\n",
    "# Mengabaikan peringatan\n",
    "import warnings\n",
    "warnings.filterwarnings(\"ignore\")\n",
    "\n",
    "print('Library berhasil di import')"
   ]
  },
  {
   "cell_type": "markdown",
   "metadata": {},
   "source": [
    "### Loading Data"
   ]
  },
  {
   "cell_type": "markdown",
   "metadata": {},
   "source": [
    "Historical data about taxi orders at the airport is stored in the filepath: `/datasets/taxi.csv`."
   ]
  },
  {
   "cell_type": "code",
   "execution_count": 2,
   "metadata": {},
   "outputs": [],
   "source": [
    "# memuat data set dan menyimpannya dalam variabel taxi\n",
    "taxi = pd.read_csv('/datasets/taxi.csv')"
   ]
  },
  {
   "cell_type": "markdown",
   "metadata": {},
   "source": [
    "### Data Preparation"
   ]
  },
  {
   "cell_type": "markdown",
   "metadata": {},
   "source": [
    "We will look at the sample data, general information and descriptive statistics of the data."
   ]
  },
  {
   "cell_type": "code",
   "execution_count": 3,
   "metadata": {},
   "outputs": [
    {
     "data": {
      "text/html": [
       "<div>\n",
       "<style scoped>\n",
       "    .dataframe tbody tr th:only-of-type {\n",
       "        vertical-align: middle;\n",
       "    }\n",
       "\n",
       "    .dataframe tbody tr th {\n",
       "        vertical-align: top;\n",
       "    }\n",
       "\n",
       "    .dataframe thead th {\n",
       "        text-align: right;\n",
       "    }\n",
       "</style>\n",
       "<table border=\"1\" class=\"dataframe\">\n",
       "  <thead>\n",
       "    <tr style=\"text-align: right;\">\n",
       "      <th></th>\n",
       "      <th>datetime</th>\n",
       "      <th>num_orders</th>\n",
       "    </tr>\n",
       "  </thead>\n",
       "  <tbody>\n",
       "    <tr>\n",
       "      <th>0</th>\n",
       "      <td>2018-03-01 00:00:00</td>\n",
       "      <td>9</td>\n",
       "    </tr>\n",
       "    <tr>\n",
       "      <th>1</th>\n",
       "      <td>2018-03-01 00:10:00</td>\n",
       "      <td>14</td>\n",
       "    </tr>\n",
       "    <tr>\n",
       "      <th>2</th>\n",
       "      <td>2018-03-01 00:20:00</td>\n",
       "      <td>28</td>\n",
       "    </tr>\n",
       "    <tr>\n",
       "      <th>3</th>\n",
       "      <td>2018-03-01 00:30:00</td>\n",
       "      <td>20</td>\n",
       "    </tr>\n",
       "    <tr>\n",
       "      <th>4</th>\n",
       "      <td>2018-03-01 00:40:00</td>\n",
       "      <td>32</td>\n",
       "    </tr>\n",
       "    <tr>\n",
       "      <th>5</th>\n",
       "      <td>2018-03-01 00:50:00</td>\n",
       "      <td>21</td>\n",
       "    </tr>\n",
       "    <tr>\n",
       "      <th>6</th>\n",
       "      <td>2018-03-01 01:00:00</td>\n",
       "      <td>7</td>\n",
       "    </tr>\n",
       "    <tr>\n",
       "      <th>7</th>\n",
       "      <td>2018-03-01 01:10:00</td>\n",
       "      <td>5</td>\n",
       "    </tr>\n",
       "    <tr>\n",
       "      <th>8</th>\n",
       "      <td>2018-03-01 01:20:00</td>\n",
       "      <td>17</td>\n",
       "    </tr>\n",
       "    <tr>\n",
       "      <th>9</th>\n",
       "      <td>2018-03-01 01:30:00</td>\n",
       "      <td>12</td>\n",
       "    </tr>\n",
       "  </tbody>\n",
       "</table>\n",
       "</div>"
      ],
      "text/plain": [
       "              datetime  num_orders\n",
       "0  2018-03-01 00:00:00           9\n",
       "1  2018-03-01 00:10:00          14\n",
       "2  2018-03-01 00:20:00          28\n",
       "3  2018-03-01 00:30:00          20\n",
       "4  2018-03-01 00:40:00          32\n",
       "5  2018-03-01 00:50:00          21\n",
       "6  2018-03-01 01:00:00           7\n",
       "7  2018-03-01 01:10:00           5\n",
       "8  2018-03-01 01:20:00          17\n",
       "9  2018-03-01 01:30:00          12"
      ]
     },
     "execution_count": 3,
     "metadata": {},
     "output_type": "execute_result"
    }
   ],
   "source": [
    "# melihat sampel data\n",
    "taxi.head(10)"
   ]
  },
  {
   "cell_type": "code",
   "execution_count": 4,
   "metadata": {},
   "outputs": [
    {
     "data": {
      "text/html": [
       "<div>\n",
       "<style scoped>\n",
       "    .dataframe tbody tr th:only-of-type {\n",
       "        vertical-align: middle;\n",
       "    }\n",
       "\n",
       "    .dataframe tbody tr th {\n",
       "        vertical-align: top;\n",
       "    }\n",
       "\n",
       "    .dataframe thead th {\n",
       "        text-align: right;\n",
       "    }\n",
       "</style>\n",
       "<table border=\"1\" class=\"dataframe\">\n",
       "  <thead>\n",
       "    <tr style=\"text-align: right;\">\n",
       "      <th></th>\n",
       "      <th>num_orders</th>\n",
       "    </tr>\n",
       "  </thead>\n",
       "  <tbody>\n",
       "    <tr>\n",
       "      <th>count</th>\n",
       "      <td>26496.000000</td>\n",
       "    </tr>\n",
       "    <tr>\n",
       "      <th>mean</th>\n",
       "      <td>14.070463</td>\n",
       "    </tr>\n",
       "    <tr>\n",
       "      <th>std</th>\n",
       "      <td>9.211330</td>\n",
       "    </tr>\n",
       "    <tr>\n",
       "      <th>min</th>\n",
       "      <td>0.000000</td>\n",
       "    </tr>\n",
       "    <tr>\n",
       "      <th>25%</th>\n",
       "      <td>8.000000</td>\n",
       "    </tr>\n",
       "    <tr>\n",
       "      <th>50%</th>\n",
       "      <td>13.000000</td>\n",
       "    </tr>\n",
       "    <tr>\n",
       "      <th>75%</th>\n",
       "      <td>19.000000</td>\n",
       "    </tr>\n",
       "    <tr>\n",
       "      <th>max</th>\n",
       "      <td>119.000000</td>\n",
       "    </tr>\n",
       "  </tbody>\n",
       "</table>\n",
       "</div>"
      ],
      "text/plain": [
       "         num_orders\n",
       "count  26496.000000\n",
       "mean      14.070463\n",
       "std        9.211330\n",
       "min        0.000000\n",
       "25%        8.000000\n",
       "50%       13.000000\n",
       "75%       19.000000\n",
       "max      119.000000"
      ]
     },
     "execution_count": 4,
     "metadata": {},
     "output_type": "execute_result"
    }
   ],
   "source": [
    "# melihat statistika deskriptif data\n",
    "taxi.describe()"
   ]
  },
  {
   "cell_type": "code",
   "execution_count": 5,
   "metadata": {},
   "outputs": [
    {
     "name": "stdout",
     "output_type": "stream",
     "text": [
      "<class 'pandas.core.frame.DataFrame'>\n",
      "RangeIndex: 26496 entries, 0 to 26495\n",
      "Data columns (total 2 columns):\n",
      " #   Column      Non-Null Count  Dtype \n",
      "---  ------      --------------  ----- \n",
      " 0   datetime    26496 non-null  object\n",
      " 1   num_orders  26496 non-null  int64 \n",
      "dtypes: int64(1), object(1)\n",
      "memory usage: 414.1+ KB\n"
     ]
    }
   ],
   "source": [
    "# menampilkan informasi umum dataset\n",
    "taxi.info()"
   ]
  },
  {
   "cell_type": "markdown",
   "metadata": {},
   "source": [
    "***\n",
    "**Findings**\n",
    "\n",
    "Based on the data sample, descriptive statistics, and general data information, the following information was obtained:\n",
    "1. The obtained dataset consists of 2 columns and 26496 observations, where the data type of column `datetime` is `object` and the data type of column `num_orders` is `integer`, therefore, the data type of column `datetime` will be changed to `datetime` and this column an `index`.\n",
    "2. The minimum value of the number of orders is `0` and the maximum is `119`.\n",
    "3. The number of non-null values is similar to `rangeindex`, there may be no missing values in the dataset, but it will be checked again with the .isna() function."
   ]
  },
  {
   "cell_type": "markdown",
   "metadata": {},
   "source": [
    "### Data Cleaning and Pre-Processing"
   ]
  },
  {
   "cell_type": "markdown",
   "metadata": {},
   "source": [
    "**Check Missing Value**"
   ]
  },
  {
   "cell_type": "code",
   "execution_count": 6,
   "metadata": {},
   "outputs": [
    {
     "data": {
      "text/plain": [
       "datetime      0\n",
       "num_orders    0\n",
       "dtype: int64"
      ]
     },
     "execution_count": 6,
     "metadata": {},
     "output_type": "execute_result"
    }
   ],
   "source": [
    "taxi.isna().sum()"
   ]
  },
  {
   "cell_type": "markdown",
   "metadata": {},
   "source": [
    "There is no missing value in dataset."
   ]
  },
  {
   "cell_type": "markdown",
   "metadata": {},
   "source": [
    "**Check Data Duplicate**"
   ]
  },
  {
   "cell_type": "code",
   "execution_count": 7,
   "metadata": {
    "scrolled": true
   },
   "outputs": [
    {
     "data": {
      "text/plain": [
       "0"
      ]
     },
     "execution_count": 7,
     "metadata": {},
     "output_type": "execute_result"
    }
   ],
   "source": [
    "taxi.duplicated().sum()"
   ]
  },
  {
   "cell_type": "markdown",
   "metadata": {},
   "source": [
    "There is no data duplicate in dataset."
   ]
  },
  {
   "cell_type": "markdown",
   "metadata": {},
   "source": [
    "**Convert Data Type**"
   ]
  },
  {
   "cell_type": "code",
   "execution_count": 8,
   "metadata": {},
   "outputs": [],
   "source": [
    "# mengubah tipedata kolom datetime\n",
    "taxi['datetime'] = taxi['datetime'].astype('datetime64')"
   ]
  },
  {
   "cell_type": "code",
   "execution_count": 9,
   "metadata": {},
   "outputs": [
    {
     "name": "stdout",
     "output_type": "stream",
     "text": [
      "<class 'pandas.core.frame.DataFrame'>\n",
      "RangeIndex: 26496 entries, 0 to 26495\n",
      "Data columns (total 2 columns):\n",
      " #   Column      Non-Null Count  Dtype         \n",
      "---  ------      --------------  -----         \n",
      " 0   datetime    26496 non-null  datetime64[ns]\n",
      " 1   num_orders  26496 non-null  int64         \n",
      "dtypes: datetime64[ns](1), int64(1)\n",
      "memory usage: 414.1 KB\n"
     ]
    }
   ],
   "source": [
    "# menampilkan informasi umum dataset\n",
    "taxi.info()"
   ]
  },
  {
   "cell_type": "markdown",
   "metadata": {},
   "source": [
    "The data type has been successfully changed. The next step is to index the data using the `datatime` column and sort it."
   ]
  },
  {
   "cell_type": "code",
   "execution_count": 10,
   "metadata": {},
   "outputs": [],
   "source": [
    "# mengubah index data\n",
    "taxi = taxi.set_index('datetime')\n",
    "\n",
    "# mengurutkan index datetime\n",
    "taxi.sort_index(axis=0, inplace=True)"
   ]
  },
  {
   "cell_type": "code",
   "execution_count": 11,
   "metadata": {},
   "outputs": [
    {
     "data": {
      "text/plain": [
       "True"
      ]
     },
     "execution_count": 11,
     "metadata": {},
     "output_type": "execute_result"
    }
   ],
   "source": [
    "# memeriksa urutan index data\n",
    "taxi.index.is_monotonic"
   ]
  },
  {
   "cell_type": "code",
   "execution_count": 12,
   "metadata": {},
   "outputs": [
    {
     "name": "stdout",
     "output_type": "stream",
     "text": [
      "Nilai minimal timestamp : 2018-03-01 00:00:00\n",
      "Nilai maximal timestamp : 2018-08-31 23:50:00\n"
     ]
    }
   ],
   "source": [
    "# memeriksa nilai minimal dan maximal datatime\n",
    "print('Nilai minimal timestamp :', taxi.index.min())\n",
    "print('Nilai maximal timestamp :', taxi.index.max())"
   ]
  },
  {
   "cell_type": "code",
   "execution_count": 13,
   "metadata": {
    "scrolled": false
   },
   "outputs": [
    {
     "data": {
      "text/plain": [
       "[<matplotlib.lines.Line2D at 0x7f5ef6e3a280>]"
      ]
     },
     "execution_count": 13,
     "metadata": {},
     "output_type": "execute_result"
    },
    {
     "data": {
      "image/png": "[encoded data removed]",
      "text/plain": [
       "<Figure size 720x360 with 1 Axes>"
      ]
     },
     "metadata": {
      "needs_background": "light"
     },
     "output_type": "display_data"
    }
   ],
   "source": [
    "plt.figure(figsize=(10,5))\n",
    "plt.title('Jumlah Pesanan Taxi \"Sweet Lift\"')\n",
    "plt.ylabel('Jumlah pesanan')\n",
    "plt.xlabel('Waktu')\n",
    "plt.plot(taxi)"
   ]
  },
  {
   "cell_type": "markdown",
   "metadata": {},
   "source": [
    "***\n",
    "Based on the information above, it is known that the `datetime` data has been sorted correctly, where the minimum time is on the date of `2018-03-01 at 00.00.00`, and the maximum is the date of `2018-08-31`, so it can be seen that the time interval of historical data is during the months of `March - August` in 2018. Based on the time series graph above, it is also quite difficult to read because the fluctuation value is quite high. Therefore,  to facilitate analysis, a **resample** of the time series will be carried out along with smoothing the data using the **moving average** method."
   ]
  },
  {
   "cell_type": "markdown",
   "metadata": {},
   "source": [
    "**Resampling Dataset**"
   ]
  },
  {
   "cell_type": "markdown",
   "metadata": {},
   "source": [
    "Next, we will resample the datetime in `1 hour` with the function **.resample()** with aggregation **.sum()**."
   ]
  },
  {
   "cell_type": "code",
   "execution_count": 14,
   "metadata": {
    "scrolled": false
   },
   "outputs": [
    {
     "data": {
      "text/html": [
       "<div>\n",
       "<style scoped>\n",
       "    .dataframe tbody tr th:only-of-type {\n",
       "        vertical-align: middle;\n",
       "    }\n",
       "\n",
       "    .dataframe tbody tr th {\n",
       "        vertical-align: top;\n",
       "    }\n",
       "\n",
       "    .dataframe thead th {\n",
       "        text-align: right;\n",
       "    }\n",
       "</style>\n",
       "<table border=\"1\" class=\"dataframe\">\n",
       "  <thead>\n",
       "    <tr style=\"text-align: right;\">\n",
       "      <th></th>\n",
       "      <th>num_orders</th>\n",
       "    </tr>\n",
       "    <tr>\n",
       "      <th>datetime</th>\n",
       "      <th></th>\n",
       "    </tr>\n",
       "  </thead>\n",
       "  <tbody>\n",
       "    <tr>\n",
       "      <th>2018-03-01 00:00:00</th>\n",
       "      <td>124</td>\n",
       "    </tr>\n",
       "    <tr>\n",
       "      <th>2018-03-01 01:00:00</th>\n",
       "      <td>85</td>\n",
       "    </tr>\n",
       "    <tr>\n",
       "      <th>2018-03-01 02:00:00</th>\n",
       "      <td>71</td>\n",
       "    </tr>\n",
       "    <tr>\n",
       "      <th>2018-03-01 03:00:00</th>\n",
       "      <td>66</td>\n",
       "    </tr>\n",
       "    <tr>\n",
       "      <th>2018-03-01 04:00:00</th>\n",
       "      <td>43</td>\n",
       "    </tr>\n",
       "    <tr>\n",
       "      <th>...</th>\n",
       "      <td>...</td>\n",
       "    </tr>\n",
       "    <tr>\n",
       "      <th>2018-08-31 19:00:00</th>\n",
       "      <td>136</td>\n",
       "    </tr>\n",
       "    <tr>\n",
       "      <th>2018-08-31 20:00:00</th>\n",
       "      <td>154</td>\n",
       "    </tr>\n",
       "    <tr>\n",
       "      <th>2018-08-31 21:00:00</th>\n",
       "      <td>159</td>\n",
       "    </tr>\n",
       "    <tr>\n",
       "      <th>2018-08-31 22:00:00</th>\n",
       "      <td>223</td>\n",
       "    </tr>\n",
       "    <tr>\n",
       "      <th>2018-08-31 23:00:00</th>\n",
       "      <td>205</td>\n",
       "    </tr>\n",
       "  </tbody>\n",
       "</table>\n",
       "<p>4416 rows × 1 columns</p>\n",
       "</div>"
      ],
      "text/plain": [
       "                     num_orders\n",
       "datetime                       \n",
       "2018-03-01 00:00:00         124\n",
       "2018-03-01 01:00:00          85\n",
       "2018-03-01 02:00:00          71\n",
       "2018-03-01 03:00:00          66\n",
       "2018-03-01 04:00:00          43\n",
       "...                         ...\n",
       "2018-08-31 19:00:00         136\n",
       "2018-08-31 20:00:00         154\n",
       "2018-08-31 21:00:00         159\n",
       "2018-08-31 22:00:00         223\n",
       "2018-08-31 23:00:00         205\n",
       "\n",
       "[4416 rows x 1 columns]"
      ]
     },
     "execution_count": 14,
     "metadata": {},
     "output_type": "execute_result"
    }
   ],
   "source": [
    "# resample datetime dalam 1 jam\n",
    "tr = taxi.resample('1H').sum()\n",
    "tr"
   ]
  },
  {
   "cell_type": "markdown",
   "metadata": {},
   "source": [
    "## Analysis"
   ]
  },
  {
   "cell_type": "markdown",
   "metadata": {},
   "source": [
    "At this stage, the time series data of taxi orders will be analyzed. The first step is to smooth the data using the **moving average** method with the help of the **.rolling()** function and the **.mean()** aggregate."
   ]
  },
  {
   "cell_type": "markdown",
   "metadata": {},
   "source": [
    "### Moving Average"
   ]
  },
  {
   "cell_type": "code",
   "execution_count": 15,
   "metadata": {},
   "outputs": [
    {
     "data": {
      "text/plain": [
       "Text(0.5, 1.0, 'Moving Average, window = 50')"
      ]
     },
     "execution_count": 15,
     "metadata": {},
     "output_type": "execute_result"
    },
    {
     "data": {
      "image/png": "[encoded data removed]",
      "text/plain": [
       "<Figure size 1080x360 with 1 Axes>"
      ]
     },
     "metadata": {
      "needs_background": "light"
     },
     "output_type": "display_data"
    }
   ],
   "source": [
    "# menampilkan grafik moving average dengan ukuran jendela 50 \n",
    "new_tr = tr.copy()\n",
    "new_tr['mov_avg'] = new_tr.rolling(50).mean()\n",
    "\n",
    "new_tr.plot.line(figsize=(15,5))\n",
    "plt.xlabel('Date')\n",
    "plt.ylabel('Jumlah Order')\n",
    "plt.title('Moving Average, window = 50')"
   ]
  },
  {
   "cell_type": "markdown",
   "metadata": {},
   "source": [
    "***\n",
    "Based on the `moving average` graph with the `orange` color above, the number of orders is quite fluctuating and tends to increase after the month of 'June'. To make it easier to analyze, we will resample again to `1 day` to make it more visible the increase in the number of orders each day."
   ]
  },
  {
   "cell_type": "markdown",
   "metadata": {},
   "source": [
    "**One Day Resample**"
   ]
  },
  {
   "cell_type": "code",
   "execution_count": 16,
   "metadata": {
    "scrolled": false
   },
   "outputs": [
    {
     "data": {
      "text/html": [
       "<div>\n",
       "<style scoped>\n",
       "    .dataframe tbody tr th:only-of-type {\n",
       "        vertical-align: middle;\n",
       "    }\n",
       "\n",
       "    .dataframe tbody tr th {\n",
       "        vertical-align: top;\n",
       "    }\n",
       "\n",
       "    .dataframe thead th {\n",
       "        text-align: right;\n",
       "    }\n",
       "</style>\n",
       "<table border=\"1\" class=\"dataframe\">\n",
       "  <thead>\n",
       "    <tr style=\"text-align: right;\">\n",
       "      <th></th>\n",
       "      <th>num_orders</th>\n",
       "    </tr>\n",
       "    <tr>\n",
       "      <th>datetime</th>\n",
       "      <th></th>\n",
       "    </tr>\n",
       "  </thead>\n",
       "  <tbody>\n",
       "    <tr>\n",
       "      <th>2018-03-01</th>\n",
       "      <td>1364</td>\n",
       "    </tr>\n",
       "    <tr>\n",
       "      <th>2018-03-02</th>\n",
       "      <td>1506</td>\n",
       "    </tr>\n",
       "    <tr>\n",
       "      <th>2018-03-03</th>\n",
       "      <td>1290</td>\n",
       "    </tr>\n",
       "    <tr>\n",
       "      <th>2018-03-04</th>\n",
       "      <td>1141</td>\n",
       "    </tr>\n",
       "    <tr>\n",
       "      <th>2018-03-05</th>\n",
       "      <td>1259</td>\n",
       "    </tr>\n",
       "    <tr>\n",
       "      <th>...</th>\n",
       "      <td>...</td>\n",
       "    </tr>\n",
       "    <tr>\n",
       "      <th>2018-08-27</th>\n",
       "      <td>3936</td>\n",
       "    </tr>\n",
       "    <tr>\n",
       "      <th>2018-08-28</th>\n",
       "      <td>3357</td>\n",
       "    </tr>\n",
       "    <tr>\n",
       "      <th>2018-08-29</th>\n",
       "      <td>3762</td>\n",
       "    </tr>\n",
       "    <tr>\n",
       "      <th>2018-08-30</th>\n",
       "      <td>4090</td>\n",
       "    </tr>\n",
       "    <tr>\n",
       "      <th>2018-08-31</th>\n",
       "      <td>4018</td>\n",
       "    </tr>\n",
       "  </tbody>\n",
       "</table>\n",
       "<p>184 rows × 1 columns</p>\n",
       "</div>"
      ],
      "text/plain": [
       "            num_orders\n",
       "datetime              \n",
       "2018-03-01        1364\n",
       "2018-03-02        1506\n",
       "2018-03-03        1290\n",
       "2018-03-04        1141\n",
       "2018-03-05        1259\n",
       "...                ...\n",
       "2018-08-27        3936\n",
       "2018-08-28        3357\n",
       "2018-08-29        3762\n",
       "2018-08-30        4090\n",
       "2018-08-31        4018\n",
       "\n",
       "[184 rows x 1 columns]"
      ]
     },
     "execution_count": 16,
     "metadata": {},
     "output_type": "execute_result"
    }
   ],
   "source": [
    "# resample datetime dalam 1 hari\n",
    "trd = taxi.resample('1D').sum()\n",
    "trd"
   ]
  },
  {
   "cell_type": "code",
   "execution_count": 17,
   "metadata": {
    "scrolled": false
   },
   "outputs": [
    {
     "data": {
      "text/plain": [
       "Text(0.5, 1.0, 'Moving Average, window = 10')"
      ]
     },
     "execution_count": 17,
     "metadata": {},
     "output_type": "execute_result"
    },
    {
     "data": {
      "image/png": "[encoded data removed]",
      "text/plain": [
       "<Figure size 1080x360 with 1 Axes>"
      ]
     },
     "metadata": {
      "needs_background": "light"
     },
     "output_type": "display_data"
    }
   ],
   "source": [
    "# menampilkan grafik moving average dengan ukuran jendela 15 resample 1 hari\n",
    "new_trd = trd.copy()\n",
    "new_trd['mov_avg'] = new_trd.rolling(15).mean()\n",
    "\n",
    "new_trd.plot.line(figsize=(15,5))\n",
    "plt.xlabel('Date')\n",
    "plt.ylabel('Jumlah Order')\n",
    "plt.title('Moving Average, window = 10')"
   ]
  },
  {
   "cell_type": "markdown",
   "metadata": {},
   "source": [
    "***\n",
    "From the new `moving average` graph above, it can be observed that there is a fairly steady increase in the number of orders every day from the month of `May` onwards. For more details, the data trend and seasonality will be shown at a later stage."
   ]
  },
  {
   "cell_type": "markdown",
   "metadata": {},
   "source": [
    "### Trends and Seasonality\n",
    "\n",
    "To see the trend and seasonality of the data, we will use the help of the **seasonal_decompose** function from the statsmodels.tsa.seasonal module."
   ]
  },
  {
   "cell_type": "code",
   "execution_count": 18,
   "metadata": {},
   "outputs": [],
   "source": [
    "# memuat fungsi seasonal decompose\n",
    "from statsmodels.tsa.seasonal import seasonal_decompose\n",
    "\n",
    "# membuat instance\n",
    "decomposed = seasonal_decompose(trd)"
   ]
  },
  {
   "cell_type": "code",
   "execution_count": 19,
   "metadata": {},
   "outputs": [
    {
     "data": {
      "text/plain": [
       "Text(0.5, 1.0, 'Trend Data')"
      ]
     },
     "execution_count": 19,
     "metadata": {},
     "output_type": "execute_result"
    },
    {
     "data": {
      "image/png": "[encoded data removed]",
      "text/plain": [
       "<Figure size 1080x720 with 1 Axes>"
      ]
     },
     "metadata": {
      "needs_background": "light"
     },
     "output_type": "display_data"
    }
   ],
   "source": [
    "# menampilkan tren data\n",
    "plt.subplot(311)\n",
    "decomposed.trend.plot(ax=plt.gca(), figsize=(15,10))\n",
    "plt.title('Trend Data')"
   ]
  },
  {
   "cell_type": "markdown",
   "metadata": {},
   "source": [
    "From the graph above, it is quite clear that the trend of the number of orders has increased every day."
   ]
  },
  {
   "cell_type": "code",
   "execution_count": 20,
   "metadata": {
    "scrolled": true
   },
   "outputs": [
    {
     "data": {
      "text/plain": [
       "Text(0.5, 1.0, 'Musiman Data')"
      ]
     },
     "execution_count": 20,
     "metadata": {},
     "output_type": "execute_result"
    },
    {
     "data": {
      "image/png": "[encoded data removed]",
      "text/plain": [
       "<Figure size 1080x720 with 1 Axes>"
      ]
     },
     "metadata": {
      "needs_background": "light"
     },
     "output_type": "display_data"
    }
   ],
   "source": [
    "# menampilkan musiman data\n",
    "plt.subplot(311)\n",
    "decomposed.seasonal.plot(ax=plt.gca(), figsize=(15,10))\n",
    "plt.title('Musiman Data')"
   ]
  },
  {
   "cell_type": "code",
   "execution_count": 21,
   "metadata": {},
   "outputs": [
    {
     "data": {
      "text/plain": [
       "Text(0.5, 1.0, 'Residual')"
      ]
     },
     "execution_count": 21,
     "metadata": {},
     "output_type": "execute_result"
    },
    {
     "data": {
      "image/png": "[encoded data removed]",
      "text/plain": [
       "<Figure size 1080x720 with 1 Axes>"
      ]
     },
     "metadata": {
      "needs_background": "light"
     },
     "output_type": "display_data"
    }
   ],
   "source": [
    "# menampilkan residual\n",
    "plt.subplot(311)\n",
    "decomposed.resid.plot(ax=plt.gca(), figsize=(15,10))\n",
    "plt.title('Residual')"
   ]
  },
  {
   "cell_type": "markdown",
   "metadata": {},
   "source": [
    "From the seasonal data graph, it can be seen that the data distribution experiences periodic fluctuations in value where the pattern formed tends to repeat in each month. For more details, the seasonality of the data will be shown in the time interval of the first 15 days of March."
   ]
  },
  {
   "cell_type": "code",
   "execution_count": 22,
   "metadata": {},
   "outputs": [
    {
     "data": {
      "image/png": "[encoded data removed]",
      "text/plain": [
       "<Figure size 720x504 with 1 Axes>"
      ]
     },
     "metadata": {
      "needs_background": "light"
     },
     "output_type": "display_data"
    }
   ],
   "source": [
    "# menampilkan musiman data bulan maret 2018\n",
    "decomposed.seasonal['2018-03-01' : '2018-03-15'].plot(figsize=(10,7))\n",
    "plt.title('Musiman Data Maret 2018')\n",
    "plt.show()"
   ]
  },
  {
   "cell_type": "markdown",
   "metadata": {},
   "source": [
    "Based on the graph above, it can be seen that the peak number of taxi orders occurs on dates `2, 9`, which is a `Friday` in real time, and dates `5, 12`, which is a `Monday`, meaning that the increase in the number of taxi orders tends to occur at the beginning and end of the working day."
   ]
  },
  {
   "cell_type": "markdown",
   "metadata": {},
   "source": [
    "### Stationarity Check"
   ]
  },
  {
   "cell_type": "markdown",
   "metadata": {},
   "source": [
    "To check whether the time series is stationary or not, we will use the Augmented Dickey-Fuller (ADF) test from the statsmodels.tsa.stattools module."
   ]
  },
  {
   "cell_type": "code",
   "execution_count": 23,
   "metadata": {
    "scrolled": true
   },
   "outputs": [
    {
     "name": "stdout",
     "output_type": "stream",
     "text": [
      "ADF Statistic: 3.728791311564992\n",
      "p-value: 1.0\n",
      "Critical Values: {'1%': -3.469413468959902, '5%': -2.8786964197028295, '10%': -2.5759166089965397}\n",
      "Deret waktu tidak stasioner\n"
     ]
    }
   ],
   "source": [
    "# import metode adfuller dari model library statsmodels\n",
    "from statsmodels.tsa.stattools import adfuller\n",
    "\n",
    "# menjalankan uji ADF\n",
    "result = adfuller(trd)\n",
    "adf_statistic = result[0]\n",
    "p_value = result[1]\n",
    "critical_values = result[4]\n",
    "\n",
    "print(\"ADF Statistic:\", adf_statistic)\n",
    "print(\"p-value:\", p_value)\n",
    "print(\"Critical Values:\", critical_values)\n",
    "\n",
    "# interpretasi hasil\n",
    "if adf_statistic < critical_values['5%']:\n",
    "    print(\"Deret waktu stasioner.\")\n",
    "else:\n",
    "    print(\"Deret waktu tidak stasioner\")"
   ]
  },
  {
   "cell_type": "markdown",
   "metadata": {},
   "source": [
    "Based on the ADF test above, it is known that the time series data is not stationary, which will have an impact on machine learning modeling, but in training, this dataset model will still be used without data transformation."
   ]
  },
  {
   "cell_type": "markdown",
   "metadata": {},
   "source": [
    "## Training"
   ]
  },
  {
   "cell_type": "markdown",
   "metadata": {},
   "source": [
    "The first step in modeling is to prepare the features in the dataset. The prepared features are:\n",
    "- Calendar feature\n",
    "- Lag feature\n",
    "- Moving Average"
   ]
  },
  {
   "cell_type": "markdown",
   "metadata": {},
   "source": [
    "### Feature Preparation"
   ]
  },
  {
   "cell_type": "code",
   "execution_count": 24,
   "metadata": {
    "scrolled": true
   },
   "outputs": [
    {
     "data": {
      "text/html": [
       "<div>\n",
       "<style scoped>\n",
       "    .dataframe tbody tr th:only-of-type {\n",
       "        vertical-align: middle;\n",
       "    }\n",
       "\n",
       "    .dataframe tbody tr th {\n",
       "        vertical-align: top;\n",
       "    }\n",
       "\n",
       "    .dataframe thead th {\n",
       "        text-align: right;\n",
       "    }\n",
       "</style>\n",
       "<table border=\"1\" class=\"dataframe\">\n",
       "  <thead>\n",
       "    <tr style=\"text-align: right;\">\n",
       "      <th></th>\n",
       "      <th>num_orders</th>\n",
       "      <th>month</th>\n",
       "      <th>day</th>\n",
       "      <th>dayofweek</th>\n",
       "      <th>hour</th>\n",
       "      <th>lag_1</th>\n",
       "      <th>lag_2</th>\n",
       "      <th>lag_3</th>\n",
       "      <th>lag_4</th>\n",
       "      <th>lag_5</th>\n",
       "      <th>mv_avg</th>\n",
       "    </tr>\n",
       "    <tr>\n",
       "      <th>datetime</th>\n",
       "      <th></th>\n",
       "      <th></th>\n",
       "      <th></th>\n",
       "      <th></th>\n",
       "      <th></th>\n",
       "      <th></th>\n",
       "      <th></th>\n",
       "      <th></th>\n",
       "      <th></th>\n",
       "      <th></th>\n",
       "      <th></th>\n",
       "    </tr>\n",
       "  </thead>\n",
       "  <tbody>\n",
       "    <tr>\n",
       "      <th>2018-03-01 00:00:00</th>\n",
       "      <td>124</td>\n",
       "      <td>3</td>\n",
       "      <td>1</td>\n",
       "      <td>3</td>\n",
       "      <td>0</td>\n",
       "      <td>NaN</td>\n",
       "      <td>NaN</td>\n",
       "      <td>NaN</td>\n",
       "      <td>NaN</td>\n",
       "      <td>NaN</td>\n",
       "      <td>NaN</td>\n",
       "    </tr>\n",
       "    <tr>\n",
       "      <th>2018-03-01 01:00:00</th>\n",
       "      <td>85</td>\n",
       "      <td>3</td>\n",
       "      <td>1</td>\n",
       "      <td>3</td>\n",
       "      <td>1</td>\n",
       "      <td>124.0</td>\n",
       "      <td>NaN</td>\n",
       "      <td>NaN</td>\n",
       "      <td>NaN</td>\n",
       "      <td>NaN</td>\n",
       "      <td>NaN</td>\n",
       "    </tr>\n",
       "    <tr>\n",
       "      <th>2018-03-01 02:00:00</th>\n",
       "      <td>71</td>\n",
       "      <td>3</td>\n",
       "      <td>1</td>\n",
       "      <td>3</td>\n",
       "      <td>2</td>\n",
       "      <td>85.0</td>\n",
       "      <td>124.0</td>\n",
       "      <td>NaN</td>\n",
       "      <td>NaN</td>\n",
       "      <td>NaN</td>\n",
       "      <td>NaN</td>\n",
       "    </tr>\n",
       "    <tr>\n",
       "      <th>2018-03-01 03:00:00</th>\n",
       "      <td>66</td>\n",
       "      <td>3</td>\n",
       "      <td>1</td>\n",
       "      <td>3</td>\n",
       "      <td>3</td>\n",
       "      <td>71.0</td>\n",
       "      <td>85.0</td>\n",
       "      <td>124.0</td>\n",
       "      <td>NaN</td>\n",
       "      <td>NaN</td>\n",
       "      <td>NaN</td>\n",
       "    </tr>\n",
       "    <tr>\n",
       "      <th>2018-03-01 04:00:00</th>\n",
       "      <td>43</td>\n",
       "      <td>3</td>\n",
       "      <td>1</td>\n",
       "      <td>3</td>\n",
       "      <td>4</td>\n",
       "      <td>66.0</td>\n",
       "      <td>71.0</td>\n",
       "      <td>85.0</td>\n",
       "      <td>124.0</td>\n",
       "      <td>NaN</td>\n",
       "      <td>NaN</td>\n",
       "    </tr>\n",
       "  </tbody>\n",
       "</table>\n",
       "</div>"
      ],
      "text/plain": [
       "                     num_orders  month  day  dayofweek  hour  lag_1  lag_2  \\\n",
       "datetime                                                                     \n",
       "2018-03-01 00:00:00         124      3    1          3     0    NaN    NaN   \n",
       "2018-03-01 01:00:00          85      3    1          3     1  124.0    NaN   \n",
       "2018-03-01 02:00:00          71      3    1          3     2   85.0  124.0   \n",
       "2018-03-01 03:00:00          66      3    1          3     3   71.0   85.0   \n",
       "2018-03-01 04:00:00          43      3    1          3     4   66.0   71.0   \n",
       "\n",
       "                     lag_3  lag_4  lag_5  mv_avg  \n",
       "datetime                                          \n",
       "2018-03-01 00:00:00    NaN    NaN    NaN     NaN  \n",
       "2018-03-01 01:00:00    NaN    NaN    NaN     NaN  \n",
       "2018-03-01 02:00:00    NaN    NaN    NaN     NaN  \n",
       "2018-03-01 03:00:00  124.0    NaN    NaN     NaN  \n",
       "2018-03-01 04:00:00   85.0  124.0    NaN     NaN  "
      ]
     },
     "execution_count": 24,
     "metadata": {},
     "output_type": "execute_result"
    }
   ],
   "source": [
    "# membuat fungsi fitur baru\n",
    "def make_features(data, max_lag, rolling_mean_size):\n",
    "    data['month'] = data.index.month\n",
    "    data['day'] = data.index.day\n",
    "    data['dayofweek'] = data.index.dayofweek\n",
    "    data['hour'] = data.index.hour\n",
    "    \n",
    "    for lag in range(1, max_lag + 1):\n",
    "        data['lag_{}'.format(lag)] = data['num_orders'].shift(lag)\n",
    "    data['mv_avg'] = (data['num_orders'].shift()).rolling(rolling_mean_size).mean()\n",
    "\n",
    "# menerapkan fungsi\n",
    "make_features(tr, 5, 7)\n",
    "tr.head()"
   ]
  },
  {
   "cell_type": "code",
   "execution_count": 25,
   "metadata": {
    "scrolled": false
   },
   "outputs": [
    {
     "name": "stdout",
     "output_type": "stream",
     "text": [
      "Dataset Time Series memiliki 4409 observasi dan 11 kolom\n",
      "\n"
     ]
    },
    {
     "data": {
      "text/html": [
       "<div>\n",
       "<style scoped>\n",
       "    .dataframe tbody tr th:only-of-type {\n",
       "        vertical-align: middle;\n",
       "    }\n",
       "\n",
       "    .dataframe tbody tr th {\n",
       "        vertical-align: top;\n",
       "    }\n",
       "\n",
       "    .dataframe thead th {\n",
       "        text-align: right;\n",
       "    }\n",
       "</style>\n",
       "<table border=\"1\" class=\"dataframe\">\n",
       "  <thead>\n",
       "    <tr style=\"text-align: right;\">\n",
       "      <th></th>\n",
       "      <th>num_orders</th>\n",
       "      <th>month</th>\n",
       "      <th>day</th>\n",
       "      <th>dayofweek</th>\n",
       "      <th>hour</th>\n",
       "      <th>lag_1</th>\n",
       "      <th>lag_2</th>\n",
       "      <th>lag_3</th>\n",
       "      <th>lag_4</th>\n",
       "      <th>lag_5</th>\n",
       "      <th>mv_avg</th>\n",
       "    </tr>\n",
       "    <tr>\n",
       "      <th>datetime</th>\n",
       "      <th></th>\n",
       "      <th></th>\n",
       "      <th></th>\n",
       "      <th></th>\n",
       "      <th></th>\n",
       "      <th></th>\n",
       "      <th></th>\n",
       "      <th></th>\n",
       "      <th></th>\n",
       "      <th></th>\n",
       "      <th></th>\n",
       "    </tr>\n",
       "  </thead>\n",
       "  <tbody>\n",
       "    <tr>\n",
       "      <th>2018-03-01 07:00:00</th>\n",
       "      <td>15</td>\n",
       "      <td>3</td>\n",
       "      <td>1</td>\n",
       "      <td>3</td>\n",
       "      <td>7</td>\n",
       "      <td>12.0</td>\n",
       "      <td>6.0</td>\n",
       "      <td>43.0</td>\n",
       "      <td>66.0</td>\n",
       "      <td>71.0</td>\n",
       "      <td>58.142857</td>\n",
       "    </tr>\n",
       "    <tr>\n",
       "      <th>2018-03-01 08:00:00</th>\n",
       "      <td>34</td>\n",
       "      <td>3</td>\n",
       "      <td>1</td>\n",
       "      <td>3</td>\n",
       "      <td>8</td>\n",
       "      <td>15.0</td>\n",
       "      <td>12.0</td>\n",
       "      <td>6.0</td>\n",
       "      <td>43.0</td>\n",
       "      <td>66.0</td>\n",
       "      <td>42.571429</td>\n",
       "    </tr>\n",
       "    <tr>\n",
       "      <th>2018-03-01 09:00:00</th>\n",
       "      <td>69</td>\n",
       "      <td>3</td>\n",
       "      <td>1</td>\n",
       "      <td>3</td>\n",
       "      <td>9</td>\n",
       "      <td>34.0</td>\n",
       "      <td>15.0</td>\n",
       "      <td>12.0</td>\n",
       "      <td>6.0</td>\n",
       "      <td>43.0</td>\n",
       "      <td>35.285714</td>\n",
       "    </tr>\n",
       "    <tr>\n",
       "      <th>2018-03-01 10:00:00</th>\n",
       "      <td>64</td>\n",
       "      <td>3</td>\n",
       "      <td>1</td>\n",
       "      <td>3</td>\n",
       "      <td>10</td>\n",
       "      <td>69.0</td>\n",
       "      <td>34.0</td>\n",
       "      <td>15.0</td>\n",
       "      <td>12.0</td>\n",
       "      <td>6.0</td>\n",
       "      <td>35.000000</td>\n",
       "    </tr>\n",
       "    <tr>\n",
       "      <th>2018-03-01 11:00:00</th>\n",
       "      <td>96</td>\n",
       "      <td>3</td>\n",
       "      <td>1</td>\n",
       "      <td>3</td>\n",
       "      <td>11</td>\n",
       "      <td>64.0</td>\n",
       "      <td>69.0</td>\n",
       "      <td>34.0</td>\n",
       "      <td>15.0</td>\n",
       "      <td>12.0</td>\n",
       "      <td>34.714286</td>\n",
       "    </tr>\n",
       "    <tr>\n",
       "      <th>2018-03-01 12:00:00</th>\n",
       "      <td>30</td>\n",
       "      <td>3</td>\n",
       "      <td>1</td>\n",
       "      <td>3</td>\n",
       "      <td>12</td>\n",
       "      <td>96.0</td>\n",
       "      <td>64.0</td>\n",
       "      <td>69.0</td>\n",
       "      <td>34.0</td>\n",
       "      <td>15.0</td>\n",
       "      <td>42.285714</td>\n",
       "    </tr>\n",
       "    <tr>\n",
       "      <th>2018-03-01 13:00:00</th>\n",
       "      <td>32</td>\n",
       "      <td>3</td>\n",
       "      <td>1</td>\n",
       "      <td>3</td>\n",
       "      <td>13</td>\n",
       "      <td>30.0</td>\n",
       "      <td>96.0</td>\n",
       "      <td>64.0</td>\n",
       "      <td>69.0</td>\n",
       "      <td>34.0</td>\n",
       "      <td>45.714286</td>\n",
       "    </tr>\n",
       "    <tr>\n",
       "      <th>2018-03-01 14:00:00</th>\n",
       "      <td>48</td>\n",
       "      <td>3</td>\n",
       "      <td>1</td>\n",
       "      <td>3</td>\n",
       "      <td>14</td>\n",
       "      <td>32.0</td>\n",
       "      <td>30.0</td>\n",
       "      <td>96.0</td>\n",
       "      <td>64.0</td>\n",
       "      <td>69.0</td>\n",
       "      <td>48.571429</td>\n",
       "    </tr>\n",
       "    <tr>\n",
       "      <th>2018-03-01 15:00:00</th>\n",
       "      <td>66</td>\n",
       "      <td>3</td>\n",
       "      <td>1</td>\n",
       "      <td>3</td>\n",
       "      <td>15</td>\n",
       "      <td>48.0</td>\n",
       "      <td>32.0</td>\n",
       "      <td>30.0</td>\n",
       "      <td>96.0</td>\n",
       "      <td>64.0</td>\n",
       "      <td>53.285714</td>\n",
       "    </tr>\n",
       "    <tr>\n",
       "      <th>2018-03-01 16:00:00</th>\n",
       "      <td>43</td>\n",
       "      <td>3</td>\n",
       "      <td>1</td>\n",
       "      <td>3</td>\n",
       "      <td>16</td>\n",
       "      <td>66.0</td>\n",
       "      <td>48.0</td>\n",
       "      <td>32.0</td>\n",
       "      <td>30.0</td>\n",
       "      <td>96.0</td>\n",
       "      <td>57.857143</td>\n",
       "    </tr>\n",
       "  </tbody>\n",
       "</table>\n",
       "</div>"
      ],
      "text/plain": [
       "                     num_orders  month  day  dayofweek  hour  lag_1  lag_2  \\\n",
       "datetime                                                                     \n",
       "2018-03-01 07:00:00          15      3    1          3     7   12.0    6.0   \n",
       "2018-03-01 08:00:00          34      3    1          3     8   15.0   12.0   \n",
       "2018-03-01 09:00:00          69      3    1          3     9   34.0   15.0   \n",
       "2018-03-01 10:00:00          64      3    1          3    10   69.0   34.0   \n",
       "2018-03-01 11:00:00          96      3    1          3    11   64.0   69.0   \n",
       "2018-03-01 12:00:00          30      3    1          3    12   96.0   64.0   \n",
       "2018-03-01 13:00:00          32      3    1          3    13   30.0   96.0   \n",
       "2018-03-01 14:00:00          48      3    1          3    14   32.0   30.0   \n",
       "2018-03-01 15:00:00          66      3    1          3    15   48.0   32.0   \n",
       "2018-03-01 16:00:00          43      3    1          3    16   66.0   48.0   \n",
       "\n",
       "                     lag_3  lag_4  lag_5     mv_avg  \n",
       "datetime                                             \n",
       "2018-03-01 07:00:00   43.0   66.0   71.0  58.142857  \n",
       "2018-03-01 08:00:00    6.0   43.0   66.0  42.571429  \n",
       "2018-03-01 09:00:00   12.0    6.0   43.0  35.285714  \n",
       "2018-03-01 10:00:00   15.0   12.0    6.0  35.000000  \n",
       "2018-03-01 11:00:00   34.0   15.0   12.0  34.714286  \n",
       "2018-03-01 12:00:00   69.0   34.0   15.0  42.285714  \n",
       "2018-03-01 13:00:00   64.0   69.0   34.0  45.714286  \n",
       "2018-03-01 14:00:00   96.0   64.0   69.0  48.571429  \n",
       "2018-03-01 15:00:00   30.0   96.0   64.0  53.285714  \n",
       "2018-03-01 16:00:00   32.0   30.0   96.0  57.857143  "
      ]
     },
     "execution_count": 25,
     "metadata": {},
     "output_type": "execute_result"
    }
   ],
   "source": [
    "# drop nilai NaN dari deret waktu\n",
    "tr = tr.dropna()\n",
    "print('Dataset Time Series memiliki', tr.shape[0], 'observasi dan', tr.shape[1], 'kolom')\n",
    "print()\n",
    "tr.head(10)"
   ]
  },
  {
   "cell_type": "markdown",
   "metadata": {},
   "source": [
    "The dataset already has new features. Next, prepare the train set and test set."
   ]
  },
  {
   "cell_type": "markdown",
   "metadata": {},
   "source": [
    "### Train and Test Set Preparation"
   ]
  },
  {
   "cell_type": "markdown",
   "metadata": {},
   "source": [
    "The test set to be prepared is `10%` of the initial data."
   ]
  },
  {
   "cell_type": "code",
   "execution_count": 26,
   "metadata": {},
   "outputs": [],
   "source": [
    "# import fungsi train_split_test \n",
    "from sklearn.model_selection import train_test_split\n",
    "\n",
    "# menyiapkan train set dan test set\n",
    "train, test = train_test_split(tr, shuffle=False, test_size=0.1)"
   ]
  },
  {
   "cell_type": "code",
   "execution_count": 27,
   "metadata": {
    "scrolled": true
   },
   "outputs": [
    {
     "name": "stdout",
     "output_type": "stream",
     "text": [
      "Train set :  (3968, 11)\n",
      "Test set :  (441, 11)\n",
      "\n",
      "Train index :  2018-03-01 07:00:00 sampai 2018-08-13 14:00:00\n",
      "Test index :  2018-08-13 15:00:00 sampai 2018-08-31 23:00:00\n"
     ]
    }
   ],
   "source": [
    "# menampilkan hasil splitting data dan index dari masing-masing dataset\n",
    "print('Train set : ', train.shape)\n",
    "print('Test set : ', test.shape)\n",
    "print()\n",
    "print('Train index : ', train.index.min(), 'sampai', train.index.max())\n",
    "print('Test index : ', test.index.min(), 'sampai', test.index.max())"
   ]
  },
  {
   "cell_type": "code",
   "execution_count": 28,
   "metadata": {},
   "outputs": [],
   "source": [
    "# menyiapkan variabel target dan feature\n",
    "x_train = train.drop(['num_orders'], axis=1)\n",
    "y_train = train['num_orders']\n",
    "x_test = test.drop(['num_orders'], axis=1)\n",
    "y_test = test['num_orders']"
   ]
  },
  {
   "cell_type": "markdown",
   "metadata": {},
   "source": [
    "### Modeling"
   ]
  },
  {
   "cell_type": "markdown",
   "metadata": {},
   "source": [
    "Machine learning models that will be developed are:\n",
    "1. Linear Regression\n",
    "2. Random Forest Regressor\n",
    "3. Kneighbor Regressor\n",
    "4. XGBoost Regressor\n",
    "5. CatBoost Regressor"
   ]
  },
  {
   "cell_type": "markdown",
   "metadata": {},
   "source": [
    "The evaluation metric to be used for model development is the **RMSE** metric. The metric evaluation function is first created."
   ]
  },
  {
   "cell_type": "code",
   "execution_count": 29,
   "metadata": {},
   "outputs": [],
   "source": [
    "# menyiapkan fungsi rmse\n",
    "from sklearn.metrics import mean_squared_error\n",
    "\n",
    "def rmse(y, a):\n",
    "    return mean_squared_error(y,a)**0.5"
   ]
  },
  {
   "cell_type": "markdown",
   "metadata": {},
   "source": [
    "Furthermore, GridSearchCV and time series splitting function to perform hyperparameter optimization."
   ]
  },
  {
   "cell_type": "code",
   "execution_count": 30,
   "metadata": {},
   "outputs": [],
   "source": [
    "# import fungsi pencarian grid untuk tunning hyperparameter\n",
    "from sklearn.model_selection import GridSearchCV"
   ]
  },
  {
   "cell_type": "code",
   "execution_count": 31,
   "metadata": {},
   "outputs": [
    {
     "name": "stdout",
     "output_type": "stream",
     "text": [
      "TimeSeriesSplit(gap=0, max_train_size=None, n_splits=5, test_size=None)\n"
     ]
    }
   ],
   "source": [
    "# import time series \n",
    "from sklearn.model_selection import TimeSeriesSplit\n",
    "\n",
    "# memisahkan time series \n",
    "tscv = TimeSeriesSplit(n_splits=5)\n",
    "print(tscv)"
   ]
  },
  {
   "cell_type": "markdown",
   "metadata": {},
   "source": [
    "#### Linear Regression (LR)"
   ]
  },
  {
   "cell_type": "code",
   "execution_count": 32,
   "metadata": {},
   "outputs": [],
   "source": [
    "# mengimport model linear regression\n",
    "from sklearn.linear_model import LinearRegression"
   ]
  },
  {
   "cell_type": "code",
   "execution_count": 33,
   "metadata": {},
   "outputs": [
    {
     "name": "stdout",
     "output_type": "stream",
     "text": [
      "RMSE LR dataset train :  30.49\n",
      "CPU times: user 9.86 ms, sys: 29.5 ms, total: 39.3 ms\n",
      "Wall time: 13.5 ms\n"
     ]
    }
   ],
   "source": [
    "%%time\n",
    "\n",
    "# melakukan pelatihan model\n",
    "lr = LinearRegression()\n",
    "lr.fit(x_train, y_train)\n",
    "\n",
    "# prediksi model\n",
    "predict_train = lr.predict(x_train)\n",
    "\n",
    "# menampilkan metriks evaluasi rmse\n",
    "print('RMSE LR dataset train : ', round(rmse(y_train, predict_train), 2))"
   ]
  },
  {
   "cell_type": "markdown",
   "metadata": {},
   "source": [
    "Based on the prediction results above, it is known that the rmse value is quite low, where the rmse of the train dataset is `30.49`."
   ]
  },
  {
   "cell_type": "markdown",
   "metadata": {},
   "source": [
    "#### Random Forest Regresor (RF)"
   ]
  },
  {
   "cell_type": "code",
   "execution_count": 34,
   "metadata": {},
   "outputs": [],
   "source": [
    "# mengimport random forest regressor dari modul sklearn.ensemble\n",
    "from sklearn.ensemble import RandomForestRegressor"
   ]
  },
  {
   "cell_type": "code",
   "execution_count": 64,
   "metadata": {},
   "outputs": [
    {
     "name": "stdout",
     "output_type": "stream",
     "text": [
      "Parameter terbaik : {'max_depth': 10, 'min_samples_leaf': 4, 'n_estimators': 200}\n",
      "CPU times: user 3min 3s, sys: 277 ms, total: 3min 3s\n",
      "Wall time: 3min 6s\n"
     ]
    }
   ],
   "source": [
    "%%time\n",
    "# optimasi hyperparameter model Random Forest Regressor\n",
    "\n",
    "# menentukan tuning hyperparameter\n",
    "rf_grid = {\n",
    "    \"n_estimators\"       : [25, 50, 100, 200],\n",
    "    \"max_depth\"          : [2, 4, 8, 10],\n",
    "    \"min_samples_leaf\"   : [2, 4, 6, 8]\n",
    "}\n",
    "\n",
    "# instance \n",
    "model = RandomForestRegressor(random_state = 42)\n",
    "grid_search_rf = GridSearchCV(estimator = model, param_grid = rf_grid, scoring= 'neg_mean_squared_error', cv=tscv)\n",
    "\n",
    "# menjalankan grid search\n",
    "grid_search_rf.fit(x_train, y_train)\n",
    "\n",
    "# menampilkan best parameter \n",
    "print('Parameter terbaik : {}'. format(grid_search_rf.best_params_))"
   ]
  },
  {
   "cell_type": "markdown",
   "metadata": {},
   "source": [
    "Based on the results of the parameter tuning above, the best parameters are obtained:\n",
    "1. Max_depth: 10\n",
    "2. Min_samples_leaf : 4\n",
    "3. N_estimators : 200"
   ]
  },
  {
   "cell_type": "code",
   "execution_count": 65,
   "metadata": {},
   "outputs": [
    {
     "name": "stdout",
     "output_type": "stream",
     "text": [
      "RMSE RF dataset train :  16.91\n",
      "CPU times: user 3.46 s, sys: 7.93 ms, total: 3.47 s\n",
      "Wall time: 3.47 s\n"
     ]
    }
   ],
   "source": [
    "%%time\n",
    "# pelatihan model random forest dengan hyperparameter baru\n",
    "rf = RandomForestRegressor(max_depth = 10, min_samples_leaf = 4, n_estimators = 200, random_state=42)\n",
    "rf.fit(x_train, y_train)\n",
    "\n",
    "# prediksi model\n",
    "predict_train = rf.predict(x_train)\n",
    "\n",
    "# menampilkan metriks evaluasi rmse\n",
    "print('RMSE RF dataset train : ', round(rmse(y_train, predict_train), 2))"
   ]
  },
  {
   "cell_type": "markdown",
   "metadata": {},
   "source": [
    "Based on the prediction results above, it is known that the rmse value is lower than the Linear Regression model, where the rmse of the train dataset is `16.91`."
   ]
  },
  {
   "cell_type": "markdown",
   "metadata": {},
   "source": [
    "#### KNeighbor Regressor (KNN)"
   ]
  },
  {
   "cell_type": "code",
   "execution_count": 37,
   "metadata": {},
   "outputs": [],
   "source": [
    "# mengimport knn regressor dari modul sklearn.neighbors\n",
    "from sklearn.neighbors import KNeighborsRegressor"
   ]
  },
  {
   "cell_type": "code",
   "execution_count": 38,
   "metadata": {
    "scrolled": false
   },
   "outputs": [
    {
     "name": "stdout",
     "output_type": "stream",
     "text": [
      "Parameter terbaik: {'algorithm': 'auto', 'n_neighbors': 4}\n",
      "CPU times: user 2.29 s, sys: 1.43 s, total: 3.72 s\n",
      "Wall time: 3.67 s\n"
     ]
    }
   ],
   "source": [
    "%%time\n",
    "# optimasi hyperparameter model KNeighbors Regressor\n",
    "\n",
    "# menentukan tuning hyperparameter\n",
    "knn_grid = {'n_neighbors' : range(1,5,1),\n",
    "           'algorithm': ['auto', 'ball_tree', 'kd_tree', 'brute'],\n",
    "           }\n",
    "\n",
    "# instance \n",
    "knn = KNeighborsRegressor()\n",
    "\n",
    "# Grid search \n",
    "grid_search_knn = GridSearchCV(\n",
    "    estimator   = knn,\n",
    "    param_grid  = knn_grid,\n",
    "    scoring     = \"neg_mean_squared_error\",\n",
    "    cv          = tscv, \n",
    "    n_jobs      = 1\n",
    ")\n",
    "\n",
    "# menjalankan grid search\n",
    "grid_search_knn.fit(x_train, y_train)\n",
    "\n",
    "# hasil \n",
    "print('Parameter terbaik: {}'.format(grid_search_knn.best_params_))"
   ]
  },
  {
   "cell_type": "markdown",
   "metadata": {},
   "source": [
    "Based on the hyperparameter tuning results above, the best parameters are obtained:\n",
    "1. algorithm: auto\n",
    "2. n_neighbors : 4 "
   ]
  },
  {
   "cell_type": "code",
   "execution_count": 39,
   "metadata": {},
   "outputs": [
    {
     "name": "stdout",
     "output_type": "stream",
     "text": [
      "RMSE KNN dataset train :  24.59\n",
      "CPU times: user 106 ms, sys: 44 µs, total: 106 ms\n",
      "Wall time: 104 ms\n"
     ]
    }
   ],
   "source": [
    "%%time\n",
    "# pelatihan model knn dengan hyperparameter baru\n",
    "knn = KNeighborsRegressor(algorithm = 'auto', n_neighbors = 4)\n",
    "knn.fit(x_train, y_train)\n",
    "\n",
    "# prediksi model\n",
    "predict_train = knn.predict(x_train)\n",
    "\n",
    "# menampilkan metriks evaluasi rmse\n",
    "print('RMSE KNN dataset train : ', round(rmse(y_train, predict_train), 2))"
   ]
  },
  {
   "cell_type": "markdown",
   "metadata": {},
   "source": [
    "Based on the prediction results above, it is known that the rmse value is quite low at `24.59`."
   ]
  },
  {
   "cell_type": "markdown",
   "metadata": {},
   "source": [
    "#### XGBoost Regressor (XGB)"
   ]
  },
  {
   "cell_type": "code",
   "execution_count": 59,
   "metadata": {},
   "outputs": [],
   "source": [
    "# mengimport model xgboost dan fungsi randomizedsearchcv\n",
    "from xgboost import XGBRegressor\n",
    "from sklearn.model_selection import RandomizedSearchCV\n",
    "\n",
    "# optimasi hyperparameter\n",
    "params = {\n",
    "    \"learning_rate\" : [0.05, 0.10, 0.15, 0.20, 0.25],\n",
    "    \"max_depth\" : [3, 4, 5, 6, 8, 10],\n",
    "    \"min_child_weight\" : [1, 3, 5, 7],\n",
    "    \"gamma\" : [0.0, 0.1, 0.2, 0.3, 0.4],\n",
    "    \"colsample_bytree\" : [0.3, 0.4, 0.5, 0.7],\n",
    "    \"n_estimators\" : [200]\n",
    "}"
   ]
  },
  {
   "cell_type": "code",
   "execution_count": 60,
   "metadata": {
    "scrolled": true
   },
   "outputs": [
    {
     "name": "stdout",
     "output_type": "stream",
     "text": [
      "Fitting 5 folds for each of 5 candidates, totalling 25 fits\n",
      "[CV 1/5] END colsample_bytree=0.7, gamma=0.4, learning_rate=0.1, max_depth=4, min_child_weight=5, n_estimators=200; total time=   2.3s\n",
      "[CV 2/5] END colsample_bytree=0.7, gamma=0.4, learning_rate=0.1, max_depth=4, min_child_weight=5, n_estimators=200; total time=   2.4s\n",
      "[CV 3/5] END colsample_bytree=0.7, gamma=0.4, learning_rate=0.1, max_depth=4, min_child_weight=5, n_estimators=200; total time=   2.5s\n",
      "[CV 4/5] END colsample_bytree=0.7, gamma=0.4, learning_rate=0.1, max_depth=4, min_child_weight=5, n_estimators=200; total time=   2.6s\n",
      "[CV 5/5] END colsample_bytree=0.7, gamma=0.4, learning_rate=0.1, max_depth=4, min_child_weight=5, n_estimators=200; total time=   2.3s\n",
      "[CV 1/5] END colsample_bytree=0.5, gamma=0.3, learning_rate=0.1, max_depth=5, min_child_weight=1, n_estimators=200; total time=   2.9s\n",
      "[CV 2/5] END colsample_bytree=0.5, gamma=0.3, learning_rate=0.1, max_depth=5, min_child_weight=1, n_estimators=200; total time=   3.3s\n",
      "[CV 3/5] END colsample_bytree=0.5, gamma=0.3, learning_rate=0.1, max_depth=5, min_child_weight=1, n_estimators=200; total time=   3.2s\n",
      "[CV 4/5] END colsample_bytree=0.5, gamma=0.3, learning_rate=0.1, max_depth=5, min_child_weight=1, n_estimators=200; total time=   2.5s\n",
      "[CV 5/5] END colsample_bytree=0.5, gamma=0.3, learning_rate=0.1, max_depth=5, min_child_weight=1, n_estimators=200; total time=   2.4s\n",
      "[CV 1/5] END colsample_bytree=0.7, gamma=0.0, learning_rate=0.25, max_depth=6, min_child_weight=3, n_estimators=200; total time=   3.4s\n",
      "[CV 2/5] END colsample_bytree=0.7, gamma=0.0, learning_rate=0.25, max_depth=6, min_child_weight=3, n_estimators=200; total time=   3.0s\n",
      "[CV 3/5] END colsample_bytree=0.7, gamma=0.0, learning_rate=0.25, max_depth=6, min_child_weight=3, n_estimators=200; total time=   2.9s\n",
      "[CV 4/5] END colsample_bytree=0.7, gamma=0.0, learning_rate=0.25, max_depth=6, min_child_weight=3, n_estimators=200; total time=   3.5s\n",
      "[CV 5/5] END colsample_bytree=0.7, gamma=0.0, learning_rate=0.25, max_depth=6, min_child_weight=3, n_estimators=200; total time=   2.9s\n",
      "[CV 1/5] END colsample_bytree=0.3, gamma=0.0, learning_rate=0.05, max_depth=6, min_child_weight=3, n_estimators=200; total time=   2.5s\n",
      "[CV 2/5] END colsample_bytree=0.3, gamma=0.0, learning_rate=0.05, max_depth=6, min_child_weight=3, n_estimators=200; total time=   2.5s\n",
      "[CV 3/5] END colsample_bytree=0.3, gamma=0.0, learning_rate=0.05, max_depth=6, min_child_weight=3, n_estimators=200; total time=   2.9s\n",
      "[CV 4/5] END colsample_bytree=0.3, gamma=0.0, learning_rate=0.05, max_depth=6, min_child_weight=3, n_estimators=200; total time=   2.5s\n",
      "[CV 5/5] END colsample_bytree=0.3, gamma=0.0, learning_rate=0.05, max_depth=6, min_child_weight=3, n_estimators=200; total time=   2.4s\n",
      "[CV 1/5] END colsample_bytree=0.5, gamma=0.0, learning_rate=0.15, max_depth=6, min_child_weight=3, n_estimators=200; total time=   2.8s\n",
      "[CV 2/5] END colsample_bytree=0.5, gamma=0.0, learning_rate=0.15, max_depth=6, min_child_weight=3, n_estimators=200; total time=   3.0s\n",
      "[CV 3/5] END colsample_bytree=0.5, gamma=0.0, learning_rate=0.15, max_depth=6, min_child_weight=3, n_estimators=200; total time=   2.6s\n",
      "[CV 4/5] END colsample_bytree=0.5, gamma=0.0, learning_rate=0.15, max_depth=6, min_child_weight=3, n_estimators=200; total time=   3.0s\n",
      "[CV 5/5] END colsample_bytree=0.5, gamma=0.0, learning_rate=0.15, max_depth=6, min_child_weight=3, n_estimators=200; total time=   3.2s\n",
      "CPU times: user 1min 11s, sys: 567 ms, total: 1min 11s\n",
      "Wall time: 1min 12s\n"
     ]
    },
    {
     "data": {
      "text/plain": [
       "RandomizedSearchCV(cv=5,\n",
       "                   estimator=XGBRegressor(base_score=None, booster=None,\n",
       "                                          colsample_bylevel=None,\n",
       "                                          colsample_bynode=None,\n",
       "                                          colsample_bytree=None,\n",
       "                                          enable_categorical=False, gamma=None,\n",
       "                                          gpu_id=None, importance_type=None,\n",
       "                                          interaction_constraints=None,\n",
       "                                          learning_rate=None,\n",
       "                                          max_delta_step=None, max_depth=None,\n",
       "                                          min_child_weight=None, missing=nan,\n",
       "                                          monotone_constraints=...\n",
       "                                          reg_alpha=None, reg_lambda=None,\n",
       "                                          scale_pos_weight=None, subsample=None,\n",
       "                                          tree_method=None,\n",
       "                                          validate_parameters=None,\n",
       "                                          verbosity=None),\n",
       "                   n_iter=5, n_jobs=-1,\n",
       "                   param_distributions={'colsample_bytree': [0.3, 0.4, 0.5,\n",
       "                                                             0.7],\n",
       "                                        'gamma': [0.0, 0.1, 0.2, 0.3, 0.4],\n",
       "                                        'learning_rate': [0.05, 0.1, 0.15, 0.2,\n",
       "                                                          0.25],\n",
       "                                        'max_depth': [3, 4, 5, 6, 8, 10],\n",
       "                                        'min_child_weight': [1, 3, 5, 7],\n",
       "                                        'n_estimators': [200]},\n",
       "                   scoring='roc_auc', verbose=3)"
      ]
     },
     "execution_count": 60,
     "metadata": {},
     "output_type": "execute_result"
    }
   ],
   "source": [
    "%%time\n",
    "\n",
    "# membuat instance\n",
    "xgb = XGBRegressor(random_state=42)\n",
    "\n",
    "# tunning hyperparameter\n",
    "random_search = RandomizedSearchCV(xgb,param_distributions=params,\n",
    "                                   n_iter=5,scoring='roc_auc',n_jobs=-1,cv=5,verbose=3)\n",
    "# melakukan optimasi\n",
    "random_search.fit(x_train, y_train)"
   ]
  },
  {
   "cell_type": "code",
   "execution_count": 61,
   "metadata": {},
   "outputs": [
    {
     "data": {
      "text/plain": [
       "{'n_estimators': 200,\n",
       " 'min_child_weight': 5,\n",
       " 'max_depth': 4,\n",
       " 'learning_rate': 0.1,\n",
       " 'gamma': 0.4,\n",
       " 'colsample_bytree': 0.7}"
      ]
     },
     "execution_count": 61,
     "metadata": {},
     "output_type": "execute_result"
    }
   ],
   "source": [
    "# menampilkan tunning hyperparameter terbaik\n",
    "random_search.best_params_"
   ]
  },
  {
   "cell_type": "markdown",
   "metadata": {},
   "source": [
    "The hyperparameter optimization results have been obtained. These tunning results will then be used for `XGBoost` gradient boosting training."
   ]
  },
  {
   "cell_type": "code",
   "execution_count": 66,
   "metadata": {
    "scrolled": true
   },
   "outputs": [
    {
     "name": "stdout",
     "output_type": "stream",
     "text": [
      "RMSE XGB dataset train :  16.32\n",
      "CPU times: user 2.83 s, sys: 44.8 ms, total: 2.87 s\n",
      "Wall time: 2.86 s\n"
     ]
    }
   ],
   "source": [
    "%%time\n",
    "\n",
    "# melatih model xgboost\n",
    "xgb = XGBRegressor(colsample_bytree=0.7, gamma=0.4, learning_rate=0.1, max_depth=4,\n",
    "              min_child_weight=5, n_estimators=200)\n",
    "xgb.fit(x_train, y_train)\n",
    "\n",
    "# prediksi model\n",
    "predict_train = xgb.predict(x_train)\n",
    "\n",
    "# menampilkan metriks evaluasi rmse\n",
    "print('RMSE XGB dataset train : ', round(rmse(y_train, predict_train), 2))"
   ]
  },
  {
   "cell_type": "markdown",
   "metadata": {},
   "source": [
    "Based on the prediction results above, it is known that the rmse value of the XGBoost model is very low at `16.32`."
   ]
  },
  {
   "cell_type": "markdown",
   "metadata": {},
   "source": [
    "#### CatBoost Regressor (CB)"
   ]
  },
  {
   "cell_type": "code",
   "execution_count": 45,
   "metadata": {
    "scrolled": true
   },
   "outputs": [
    {
     "name": "stdout",
     "output_type": "stream",
     "text": [
      "Requirement already satisfied: catboost in /opt/conda/lib/python3.9/site-packages (1.0.3)\n",
      "Requirement already satisfied: six in /opt/conda/lib/python3.9/site-packages (from catboost) (1.16.0)\n",
      "Requirement already satisfied: pandas>=0.24.0 in /opt/conda/lib/python3.9/site-packages (from catboost) (1.2.4)\n",
      "Requirement already satisfied: matplotlib in /opt/conda/lib/python3.9/site-packages (from catboost) (3.3.4)\n",
      "Requirement already satisfied: scipy in /opt/conda/lib/python3.9/site-packages (from catboost) (1.8.0)\n",
      "Requirement already satisfied: graphviz in /opt/conda/lib/python3.9/site-packages (from catboost) (0.20)\n",
      "Requirement already satisfied: plotly in /opt/conda/lib/python3.9/site-packages (from catboost) (5.4.0)\n",
      "Requirement already satisfied: numpy>=1.16.0 in /opt/conda/lib/python3.9/site-packages (from catboost) (1.21.1)\n",
      "Requirement already satisfied: python-dateutil>=2.7.3 in /opt/conda/lib/python3.9/site-packages (from pandas>=0.24.0->catboost) (2.8.1)\n",
      "Requirement already satisfied: pytz>=2017.3 in /opt/conda/lib/python3.9/site-packages (from pandas>=0.24.0->catboost) (2021.1)\n",
      "Requirement already satisfied: kiwisolver>=1.0.1 in /opt/conda/lib/python3.9/site-packages (from matplotlib->catboost) (1.4.2)\n",
      "Requirement already satisfied: pillow>=6.2.0 in /opt/conda/lib/python3.9/site-packages (from matplotlib->catboost) (8.4.0)\n",
      "Requirement already satisfied: pyparsing!=2.0.4,!=2.1.2,!=2.1.6,>=2.0.3 in /opt/conda/lib/python3.9/site-packages (from matplotlib->catboost) (2.4.7)\n",
      "Requirement already satisfied: cycler>=0.10 in /opt/conda/lib/python3.9/site-packages (from matplotlib->catboost) (0.11.0)\n",
      "Requirement already satisfied: tenacity>=6.2.0 in /opt/conda/lib/python3.9/site-packages (from plotly->catboost) (8.0.1)\n"
     ]
    }
   ],
   "source": [
    "# menginstall library catboost\n",
    "!pip install catboost"
   ]
  },
  {
   "cell_type": "code",
   "execution_count": 46,
   "metadata": {},
   "outputs": [],
   "source": [
    "# import gradient boosting catboost regressor\n",
    "from catboost import CatBoostRegressor"
   ]
  },
  {
   "cell_type": "code",
   "execution_count": 51,
   "metadata": {
    "scrolled": false
   },
   "outputs": [
    {
     "name": "stdout",
     "output_type": "stream",
     "text": [
      "Parameter terbaik: {'depth': 4, 'l2_leaf_reg': 5, 'learning_rate': 0.5}\n",
      "CPU times: user 4min 21s, sys: 782 ms, total: 4min 22s\n",
      "Wall time: 4min 38s\n"
     ]
    }
   ],
   "source": [
    "%%time\n",
    "# optimasi hyperparameter model catboost regressor\n",
    "\n",
    "# menentukan tuning hyper parameter\n",
    "cb_grid= {'learning_rate'  : [0.001, 0.01, 0.5],\n",
    "       'depth'          : [4, 6, 10],\n",
    "       'l2_leaf_reg'    : [1, 3, 5, 7]\n",
    "      }\n",
    "\n",
    "# instance\n",
    "cb = CatBoostRegressor(\n",
    "    iterations            = 200,\n",
    "    logging_level          = 'Silent',\n",
    "    loss_function          = 'RMSE',\n",
    "    early_stopping_rounds  = 50,\n",
    "    random_state           = 12345)\n",
    "\n",
    "# Grid Search \n",
    "grid_search = GridSearchCV(estimator = cb, param_grid = cb_grid, scoring='neg_mean_squared_error', cv=tscv)\n",
    "# menjalankan grid search\n",
    "grid_search.fit(x_train, y_train)\n",
    "# hasil\n",
    "print('Parameter terbaik: {}'. format(grid_search.best_params_))"
   ]
  },
  {
   "cell_type": "markdown",
   "metadata": {},
   "source": [
    "Based on the hyperparameter tunning results above, the best parameters are obtained:\n",
    "1. depth: 4\n",
    "2. l2_leaf_reg : 5\n",
    "3. learning_rate: 0.5"
   ]
  },
  {
   "cell_type": "code",
   "execution_count": 52,
   "metadata": {},
   "outputs": [
    {
     "name": "stdout",
     "output_type": "stream",
     "text": [
      "0:\tlearn: 32.8628608\ttotal: 1.67ms\tremaining: 1.67s\n",
      "1:\tlearn: 28.2935131\ttotal: 3.44ms\tremaining: 1.72s\n",
      "2:\tlearn: 26.6219125\ttotal: 5.07ms\tremaining: 1.68s\n",
      "3:\tlearn: 25.7799747\ttotal: 6.6ms\tremaining: 1.64s\n",
      "4:\tlearn: 24.8358350\ttotal: 8.16ms\tremaining: 1.62s\n",
      "5:\tlearn: 24.7652343\ttotal: 9.66ms\tremaining: 1.6s\n",
      "6:\tlearn: 24.6993414\ttotal: 11ms\tremaining: 1.56s\n",
      "7:\tlearn: 24.3609153\ttotal: 12.6ms\tremaining: 1.56s\n",
      "8:\tlearn: 24.3147918\ttotal: 14.2ms\tremaining: 1.56s\n",
      "9:\tlearn: 23.9750938\ttotal: 15.8ms\tremaining: 1.57s\n",
      "10:\tlearn: 23.9362059\ttotal: 17.3ms\tremaining: 1.56s\n",
      "11:\tlearn: 23.8832624\ttotal: 18.8ms\tremaining: 1.55s\n",
      "12:\tlearn: 23.8509007\ttotal: 20.3ms\tremaining: 1.54s\n",
      "13:\tlearn: 23.8319564\ttotal: 21.8ms\tremaining: 1.54s\n",
      "14:\tlearn: 23.1711700\ttotal: 23.3ms\tremaining: 1.53s\n",
      "15:\tlearn: 22.9019573\ttotal: 24.7ms\tremaining: 1.52s\n",
      "16:\tlearn: 22.7630156\ttotal: 26.2ms\tremaining: 1.51s\n",
      "17:\tlearn: 22.6957922\ttotal: 27.6ms\tremaining: 1.5s\n",
      "18:\tlearn: 22.3726382\ttotal: 29ms\tremaining: 1.5s\n",
      "19:\tlearn: 22.2449948\ttotal: 30.5ms\tremaining: 1.49s\n",
      "20:\tlearn: 22.0291724\ttotal: 32ms\tremaining: 1.49s\n",
      "21:\tlearn: 21.8625394\ttotal: 33.5ms\tremaining: 1.49s\n",
      "22:\tlearn: 21.8457471\ttotal: 35.1ms\tremaining: 1.49s\n",
      "23:\tlearn: 21.8213278\ttotal: 36.6ms\tremaining: 1.49s\n",
      "24:\tlearn: 21.5360837\ttotal: 38.1ms\tremaining: 1.48s\n",
      "25:\tlearn: 21.4050327\ttotal: 39.7ms\tremaining: 1.49s\n",
      "26:\tlearn: 21.3314458\ttotal: 41.2ms\tremaining: 1.48s\n",
      "27:\tlearn: 21.3190042\ttotal: 42.5ms\tremaining: 1.48s\n",
      "28:\tlearn: 21.1681608\ttotal: 44ms\tremaining: 1.47s\n",
      "29:\tlearn: 21.1344301\ttotal: 45.4ms\tremaining: 1.47s\n",
      "30:\tlearn: 20.9867271\ttotal: 46.9ms\tremaining: 1.47s\n",
      "31:\tlearn: 20.8526236\ttotal: 48.4ms\tremaining: 1.46s\n",
      "32:\tlearn: 20.7315267\ttotal: 49.8ms\tremaining: 1.46s\n",
      "33:\tlearn: 20.6984466\ttotal: 51.2ms\tremaining: 1.45s\n",
      "34:\tlearn: 20.6351233\ttotal: 52.6ms\tremaining: 1.45s\n",
      "35:\tlearn: 20.5311642\ttotal: 54.2ms\tremaining: 1.45s\n",
      "36:\tlearn: 20.4422431\ttotal: 55.6ms\tremaining: 1.45s\n",
      "37:\tlearn: 20.4323763\ttotal: 56.9ms\tremaining: 1.44s\n",
      "38:\tlearn: 20.3356940\ttotal: 58.4ms\tremaining: 1.44s\n",
      "39:\tlearn: 20.2791983\ttotal: 59.8ms\tremaining: 1.43s\n",
      "40:\tlearn: 20.1935586\ttotal: 61.2ms\tremaining: 1.43s\n",
      "41:\tlearn: 20.1142360\ttotal: 62.6ms\tremaining: 1.43s\n",
      "42:\tlearn: 20.0399642\ttotal: 64.1ms\tremaining: 1.43s\n",
      "43:\tlearn: 19.9561817\ttotal: 65.6ms\tremaining: 1.42s\n",
      "44:\tlearn: 19.8984962\ttotal: 67.1ms\tremaining: 1.42s\n",
      "45:\tlearn: 19.8372457\ttotal: 68.5ms\tremaining: 1.42s\n",
      "46:\tlearn: 19.7653654\ttotal: 70.1ms\tremaining: 1.42s\n",
      "47:\tlearn: 19.7076987\ttotal: 71.5ms\tremaining: 1.42s\n",
      "48:\tlearn: 19.5595823\ttotal: 72.9ms\tremaining: 1.42s\n",
      "49:\tlearn: 19.5201887\ttotal: 74.4ms\tremaining: 1.41s\n",
      "50:\tlearn: 19.4716006\ttotal: 75.7ms\tremaining: 1.41s\n",
      "51:\tlearn: 19.4019347\ttotal: 77.1ms\tremaining: 1.41s\n",
      "52:\tlearn: 19.3800166\ttotal: 78.5ms\tremaining: 1.4s\n",
      "53:\tlearn: 19.3212797\ttotal: 80.1ms\tremaining: 1.4s\n",
      "54:\tlearn: 19.2780874\ttotal: 81.5ms\tremaining: 1.4s\n",
      "55:\tlearn: 19.1857123\ttotal: 82.9ms\tremaining: 1.4s\n",
      "56:\tlearn: 19.1147206\ttotal: 84.4ms\tremaining: 1.4s\n",
      "57:\tlearn: 19.0484388\ttotal: 85.8ms\tremaining: 1.39s\n",
      "58:\tlearn: 18.9790987\ttotal: 87.2ms\tremaining: 1.39s\n",
      "59:\tlearn: 18.9217453\ttotal: 88.7ms\tremaining: 1.39s\n",
      "60:\tlearn: 18.8754210\ttotal: 90.1ms\tremaining: 1.39s\n",
      "61:\tlearn: 18.8555579\ttotal: 91.6ms\tremaining: 1.39s\n",
      "62:\tlearn: 18.8003633\ttotal: 93ms\tremaining: 1.38s\n",
      "63:\tlearn: 18.7602779\ttotal: 94.4ms\tremaining: 1.38s\n",
      "64:\tlearn: 18.7147689\ttotal: 95.9ms\tremaining: 1.38s\n",
      "65:\tlearn: 18.7006296\ttotal: 97.2ms\tremaining: 1.38s\n",
      "66:\tlearn: 18.6840702\ttotal: 98.6ms\tremaining: 1.37s\n",
      "67:\tlearn: 18.6093922\ttotal: 100ms\tremaining: 1.37s\n",
      "68:\tlearn: 18.5042280\ttotal: 102ms\tremaining: 1.37s\n",
      "69:\tlearn: 18.4625922\ttotal: 103ms\tremaining: 1.37s\n",
      "70:\tlearn: 18.3771336\ttotal: 104ms\tremaining: 1.37s\n",
      "71:\tlearn: 18.3314846\ttotal: 106ms\tremaining: 1.36s\n",
      "72:\tlearn: 18.2976363\ttotal: 107ms\tremaining: 1.36s\n",
      "73:\tlearn: 18.2373859\ttotal: 109ms\tremaining: 1.36s\n",
      "74:\tlearn: 18.2009995\ttotal: 111ms\tremaining: 1.36s\n",
      "75:\tlearn: 18.1578363\ttotal: 112ms\tremaining: 1.36s\n",
      "76:\tlearn: 18.1383909\ttotal: 114ms\tremaining: 1.36s\n",
      "77:\tlearn: 18.0884985\ttotal: 115ms\tremaining: 1.36s\n",
      "78:\tlearn: 18.0614579\ttotal: 117ms\tremaining: 1.36s\n",
      "79:\tlearn: 18.0167695\ttotal: 118ms\tremaining: 1.36s\n",
      "80:\tlearn: 18.0115659\ttotal: 119ms\tremaining: 1.35s\n",
      "81:\tlearn: 18.0089368\ttotal: 121ms\tremaining: 1.35s\n",
      "82:\tlearn: 17.9519277\ttotal: 122ms\tremaining: 1.35s\n",
      "83:\tlearn: 17.9285629\ttotal: 124ms\tremaining: 1.35s\n",
      "84:\tlearn: 17.8974428\ttotal: 125ms\tremaining: 1.34s\n",
      "85:\tlearn: 17.8490624\ttotal: 127ms\tremaining: 1.34s\n",
      "86:\tlearn: 17.7941980\ttotal: 128ms\tremaining: 1.34s\n",
      "87:\tlearn: 17.7711374\ttotal: 129ms\tremaining: 1.34s\n",
      "88:\tlearn: 17.7163495\ttotal: 131ms\tremaining: 1.34s\n",
      "89:\tlearn: 17.6688366\ttotal: 132ms\tremaining: 1.34s\n",
      "90:\tlearn: 17.6389345\ttotal: 134ms\tremaining: 1.34s\n",
      "91:\tlearn: 17.6004134\ttotal: 135ms\tremaining: 1.33s\n",
      "92:\tlearn: 17.5636063\ttotal: 137ms\tremaining: 1.33s\n",
      "93:\tlearn: 17.5037144\ttotal: 138ms\tremaining: 1.33s\n",
      "94:\tlearn: 17.4601282\ttotal: 140ms\tremaining: 1.33s\n",
      "95:\tlearn: 17.4087231\ttotal: 141ms\tremaining: 1.33s\n",
      "96:\tlearn: 17.3469522\ttotal: 143ms\tremaining: 1.33s\n",
      "97:\tlearn: 17.2882976\ttotal: 144ms\tremaining: 1.33s\n",
      "98:\tlearn: 17.2144878\ttotal: 146ms\tremaining: 1.32s\n",
      "99:\tlearn: 17.1929803\ttotal: 147ms\tremaining: 1.32s\n",
      "100:\tlearn: 17.1650007\ttotal: 149ms\tremaining: 1.32s\n",
      "101:\tlearn: 17.1203340\ttotal: 150ms\tremaining: 1.32s\n",
      "102:\tlearn: 17.0950007\ttotal: 151ms\tremaining: 1.32s\n",
      "103:\tlearn: 17.0748777\ttotal: 153ms\tremaining: 1.32s\n",
      "104:\tlearn: 17.0339737\ttotal: 154ms\tremaining: 1.32s\n",
      "105:\tlearn: 16.9840642\ttotal: 156ms\tremaining: 1.31s\n",
      "106:\tlearn: 16.9523653\ttotal: 157ms\tremaining: 1.31s\n",
      "107:\tlearn: 16.9151433\ttotal: 159ms\tremaining: 1.31s\n",
      "108:\tlearn: 16.8725794\ttotal: 160ms\tremaining: 1.31s\n",
      "109:\tlearn: 16.8635935\ttotal: 162ms\tremaining: 1.31s\n",
      "110:\tlearn: 16.8470631\ttotal: 163ms\tremaining: 1.3s\n",
      "111:\tlearn: 16.8390040\ttotal: 164ms\tremaining: 1.3s\n",
      "112:\tlearn: 16.8188380\ttotal: 166ms\tremaining: 1.3s\n",
      "113:\tlearn: 16.7921475\ttotal: 167ms\tremaining: 1.3s\n",
      "114:\tlearn: 16.7495196\ttotal: 169ms\tremaining: 1.3s\n",
      "115:\tlearn: 16.7487146\ttotal: 170ms\tremaining: 1.29s\n",
      "116:\tlearn: 16.7168751\ttotal: 172ms\tremaining: 1.29s\n",
      "117:\tlearn: 16.6575941\ttotal: 173ms\tremaining: 1.29s\n",
      "118:\tlearn: 16.6123783\ttotal: 175ms\tremaining: 1.29s\n",
      "119:\tlearn: 16.5827791\ttotal: 176ms\tremaining: 1.29s\n",
      "120:\tlearn: 16.5585345\ttotal: 177ms\tremaining: 1.29s\n",
      "121:\tlearn: 16.5382708\ttotal: 179ms\tremaining: 1.29s\n",
      "122:\tlearn: 16.5159532\ttotal: 180ms\tremaining: 1.28s\n",
      "123:\tlearn: 16.4909196\ttotal: 182ms\tremaining: 1.28s\n",
      "124:\tlearn: 16.4707939\ttotal: 183ms\tremaining: 1.28s\n",
      "125:\tlearn: 16.4607257\ttotal: 185ms\tremaining: 1.28s\n",
      "126:\tlearn: 16.4301802\ttotal: 186ms\tremaining: 1.28s\n",
      "127:\tlearn: 16.4144445\ttotal: 187ms\tremaining: 1.28s\n",
      "128:\tlearn: 16.3863606\ttotal: 189ms\tremaining: 1.28s\n",
      "129:\tlearn: 16.3632253\ttotal: 191ms\tremaining: 1.27s\n",
      "130:\tlearn: 16.3397005\ttotal: 192ms\tremaining: 1.28s\n",
      "131:\tlearn: 16.3338024\ttotal: 194ms\tremaining: 1.28s\n",
      "132:\tlearn: 16.3014129\ttotal: 196ms\tremaining: 1.27s\n",
      "133:\tlearn: 16.2667009\ttotal: 197ms\tremaining: 1.27s\n",
      "134:\tlearn: 16.2429073\ttotal: 199ms\tremaining: 1.27s\n",
      "135:\tlearn: 16.2156198\ttotal: 200ms\tremaining: 1.27s\n",
      "136:\tlearn: 16.2148602\ttotal: 206ms\tremaining: 1.29s\n",
      "137:\tlearn: 16.1947561\ttotal: 207ms\tremaining: 1.29s\n",
      "138:\tlearn: 16.1922907\ttotal: 208ms\tremaining: 1.29s\n",
      "139:\tlearn: 16.1409568\ttotal: 210ms\tremaining: 1.29s\n",
      "140:\tlearn: 16.1023988\ttotal: 211ms\tremaining: 1.29s\n",
      "141:\tlearn: 16.0884900\ttotal: 213ms\tremaining: 1.29s\n",
      "142:\tlearn: 16.0580584\ttotal: 214ms\tremaining: 1.28s\n",
      "143:\tlearn: 16.0545820\ttotal: 216ms\tremaining: 1.28s\n",
      "144:\tlearn: 16.0323454\ttotal: 217ms\tremaining: 1.28s\n",
      "145:\tlearn: 16.0298892\ttotal: 218ms\tremaining: 1.28s\n",
      "146:\tlearn: 16.0010872\ttotal: 220ms\tremaining: 1.27s\n",
      "147:\tlearn: 15.9875164\ttotal: 221ms\tremaining: 1.27s\n",
      "148:\tlearn: 15.9865400\ttotal: 223ms\tremaining: 1.27s\n",
      "149:\tlearn: 15.9652335\ttotal: 224ms\tremaining: 1.27s\n",
      "150:\tlearn: 15.9140747\ttotal: 226ms\tremaining: 1.27s\n",
      "151:\tlearn: 15.8906822\ttotal: 227ms\tremaining: 1.26s\n",
      "152:\tlearn: 15.8596277\ttotal: 228ms\tremaining: 1.26s\n",
      "153:\tlearn: 15.8490348\ttotal: 230ms\tremaining: 1.26s\n",
      "154:\tlearn: 15.8175524\ttotal: 231ms\tremaining: 1.26s\n",
      "155:\tlearn: 15.7637803\ttotal: 233ms\tremaining: 1.26s\n",
      "156:\tlearn: 15.7374701\ttotal: 234ms\tremaining: 1.26s\n",
      "157:\tlearn: 15.7158969\ttotal: 236ms\tremaining: 1.26s\n",
      "158:\tlearn: 15.6799388\ttotal: 237ms\tremaining: 1.25s\n",
      "159:\tlearn: 15.6591509\ttotal: 239ms\tremaining: 1.25s\n",
      "160:\tlearn: 15.6283194\ttotal: 240ms\tremaining: 1.25s\n",
      "161:\tlearn: 15.5950421\ttotal: 242ms\tremaining: 1.25s\n",
      "162:\tlearn: 15.5707427\ttotal: 243ms\tremaining: 1.25s\n",
      "163:\tlearn: 15.5617832\ttotal: 245ms\tremaining: 1.25s\n",
      "164:\tlearn: 15.5430221\ttotal: 246ms\tremaining: 1.24s\n",
      "165:\tlearn: 15.5171278\ttotal: 247ms\tremaining: 1.24s\n",
      "166:\tlearn: 15.5042356\ttotal: 249ms\tremaining: 1.24s\n",
      "167:\tlearn: 15.4789966\ttotal: 251ms\tremaining: 1.24s\n",
      "168:\tlearn: 15.4473780\ttotal: 252ms\tremaining: 1.24s\n",
      "169:\tlearn: 15.4192427\ttotal: 253ms\tremaining: 1.24s\n",
      "170:\tlearn: 15.4183624\ttotal: 255ms\tremaining: 1.24s\n",
      "171:\tlearn: 15.4170527\ttotal: 256ms\tremaining: 1.23s\n",
      "172:\tlearn: 15.3820272\ttotal: 258ms\tremaining: 1.23s\n",
      "173:\tlearn: 15.3306313\ttotal: 259ms\tremaining: 1.23s\n",
      "174:\tlearn: 15.3182576\ttotal: 261ms\tremaining: 1.23s\n",
      "175:\tlearn: 15.2903221\ttotal: 262ms\tremaining: 1.23s\n",
      "176:\tlearn: 15.2646148\ttotal: 263ms\tremaining: 1.23s\n",
      "177:\tlearn: 15.2406408\ttotal: 265ms\tremaining: 1.22s\n",
      "178:\tlearn: 15.2039818\ttotal: 266ms\tremaining: 1.22s\n",
      "179:\tlearn: 15.1717630\ttotal: 268ms\tremaining: 1.22s\n",
      "180:\tlearn: 15.1711651\ttotal: 269ms\tremaining: 1.22s\n",
      "181:\tlearn: 15.1142903\ttotal: 271ms\tremaining: 1.22s\n",
      "182:\tlearn: 15.0583063\ttotal: 272ms\tremaining: 1.22s\n",
      "183:\tlearn: 15.0491594\ttotal: 274ms\tremaining: 1.21s\n",
      "184:\tlearn: 15.0248441\ttotal: 275ms\tremaining: 1.21s\n",
      "185:\tlearn: 15.0238871\ttotal: 277ms\tremaining: 1.21s\n",
      "186:\tlearn: 14.9862986\ttotal: 279ms\tremaining: 1.21s\n",
      "187:\tlearn: 14.9515272\ttotal: 280ms\tremaining: 1.21s\n",
      "188:\tlearn: 14.9300081\ttotal: 282ms\tremaining: 1.21s\n",
      "189:\tlearn: 14.8909226\ttotal: 283ms\tremaining: 1.21s\n",
      "190:\tlearn: 14.8729179\ttotal: 284ms\tremaining: 1.2s\n",
      "191:\tlearn: 14.8458559\ttotal: 286ms\tremaining: 1.2s\n",
      "192:\tlearn: 14.8399664\ttotal: 287ms\tremaining: 1.2s\n",
      "193:\tlearn: 14.8066100\ttotal: 289ms\tremaining: 1.2s\n",
      "194:\tlearn: 14.7775561\ttotal: 290ms\tremaining: 1.2s\n",
      "195:\tlearn: 14.7671489\ttotal: 292ms\tremaining: 1.2s\n",
      "196:\tlearn: 14.7358390\ttotal: 302ms\tremaining: 1.23s\n",
      "197:\tlearn: 14.7119875\ttotal: 303ms\tremaining: 1.23s\n",
      "198:\tlearn: 14.7036917\ttotal: 305ms\tremaining: 1.23s\n",
      "199:\tlearn: 14.6878752\ttotal: 306ms\tremaining: 1.22s\n",
      "200:\tlearn: 14.6746683\ttotal: 308ms\tremaining: 1.22s\n",
      "201:\tlearn: 14.6484738\ttotal: 309ms\tremaining: 1.22s\n",
      "202:\tlearn: 14.6265176\ttotal: 310ms\tremaining: 1.22s\n",
      "203:\tlearn: 14.6238641\ttotal: 312ms\tremaining: 1.22s\n",
      "204:\tlearn: 14.6184097\ttotal: 313ms\tremaining: 1.21s\n",
      "205:\tlearn: 14.5804424\ttotal: 315ms\tremaining: 1.21s\n",
      "206:\tlearn: 14.5639864\ttotal: 316ms\tremaining: 1.21s\n",
      "207:\tlearn: 14.5336331\ttotal: 318ms\tremaining: 1.21s\n",
      "208:\tlearn: 14.5201157\ttotal: 319ms\tremaining: 1.21s\n",
      "209:\tlearn: 14.5014946\ttotal: 320ms\tremaining: 1.21s\n",
      "210:\tlearn: 14.4999086\ttotal: 322ms\tremaining: 1.2s\n",
      "211:\tlearn: 14.4728955\ttotal: 323ms\tremaining: 1.2s\n",
      "212:\tlearn: 14.4543387\ttotal: 325ms\tremaining: 1.2s\n",
      "213:\tlearn: 14.4373465\ttotal: 326ms\tremaining: 1.2s\n",
      "214:\tlearn: 14.4164228\ttotal: 328ms\tremaining: 1.2s\n",
      "215:\tlearn: 14.3977010\ttotal: 329ms\tremaining: 1.19s\n",
      "216:\tlearn: 14.3803289\ttotal: 331ms\tremaining: 1.19s\n",
      "217:\tlearn: 14.3622426\ttotal: 332ms\tremaining: 1.19s\n",
      "218:\tlearn: 14.3465767\ttotal: 333ms\tremaining: 1.19s\n",
      "219:\tlearn: 14.3451009\ttotal: 335ms\tremaining: 1.19s\n",
      "220:\tlearn: 14.3360977\ttotal: 336ms\tremaining: 1.19s\n",
      "221:\tlearn: 14.3199848\ttotal: 338ms\tremaining: 1.18s\n",
      "222:\tlearn: 14.2999898\ttotal: 339ms\tremaining: 1.18s\n",
      "223:\tlearn: 14.2840485\ttotal: 341ms\tremaining: 1.18s\n",
      "224:\tlearn: 14.2718724\ttotal: 342ms\tremaining: 1.18s\n",
      "225:\tlearn: 14.2413200\ttotal: 343ms\tremaining: 1.18s\n",
      "226:\tlearn: 14.2237151\ttotal: 345ms\tremaining: 1.17s\n",
      "227:\tlearn: 14.1998691\ttotal: 346ms\tremaining: 1.17s\n",
      "228:\tlearn: 14.1703739\ttotal: 348ms\tremaining: 1.17s\n",
      "229:\tlearn: 14.1303406\ttotal: 349ms\tremaining: 1.17s\n",
      "230:\tlearn: 14.1094289\ttotal: 351ms\tremaining: 1.17s\n",
      "231:\tlearn: 14.0895336\ttotal: 352ms\tremaining: 1.17s\n",
      "232:\tlearn: 14.0888774\ttotal: 354ms\tremaining: 1.16s\n",
      "233:\tlearn: 14.0789760\ttotal: 355ms\tremaining: 1.16s\n",
      "234:\tlearn: 14.0609830\ttotal: 357ms\tremaining: 1.16s\n",
      "235:\tlearn: 14.0305747\ttotal: 358ms\tremaining: 1.16s\n",
      "236:\tlearn: 14.0092022\ttotal: 359ms\tremaining: 1.16s\n",
      "237:\tlearn: 14.0030317\ttotal: 361ms\tremaining: 1.16s\n",
      "238:\tlearn: 14.0025596\ttotal: 362ms\tremaining: 1.15s\n",
      "239:\tlearn: 13.9767953\ttotal: 364ms\tremaining: 1.15s\n",
      "240:\tlearn: 13.9614424\ttotal: 365ms\tremaining: 1.15s\n",
      "241:\tlearn: 13.9453424\ttotal: 367ms\tremaining: 1.15s\n",
      "242:\tlearn: 13.9094829\ttotal: 368ms\tremaining: 1.15s\n",
      "243:\tlearn: 13.8900860\ttotal: 369ms\tremaining: 1.14s\n",
      "244:\tlearn: 13.8695061\ttotal: 371ms\tremaining: 1.14s\n",
      "245:\tlearn: 13.8469029\ttotal: 372ms\tremaining: 1.14s\n",
      "246:\tlearn: 13.8346231\ttotal: 374ms\tremaining: 1.14s\n",
      "247:\tlearn: 13.8149191\ttotal: 375ms\tremaining: 1.14s\n",
      "248:\tlearn: 13.7941686\ttotal: 377ms\tremaining: 1.14s\n",
      "249:\tlearn: 13.7766427\ttotal: 378ms\tremaining: 1.13s\n",
      "250:\tlearn: 13.7613497\ttotal: 379ms\tremaining: 1.13s\n",
      "251:\tlearn: 13.7338744\ttotal: 381ms\tremaining: 1.13s\n",
      "252:\tlearn: 13.7108223\ttotal: 382ms\tremaining: 1.13s\n",
      "253:\tlearn: 13.6922060\ttotal: 384ms\tremaining: 1.13s\n",
      "254:\tlearn: 13.6791859\ttotal: 386ms\tremaining: 1.13s\n",
      "255:\tlearn: 13.6677042\ttotal: 396ms\tremaining: 1.15s\n",
      "256:\tlearn: 13.6435071\ttotal: 397ms\tremaining: 1.15s\n",
      "257:\tlearn: 13.6105236\ttotal: 399ms\tremaining: 1.15s\n",
      "258:\tlearn: 13.5819916\ttotal: 400ms\tremaining: 1.14s\n",
      "259:\tlearn: 13.5669447\ttotal: 402ms\tremaining: 1.14s\n",
      "260:\tlearn: 13.5495999\ttotal: 403ms\tremaining: 1.14s\n",
      "261:\tlearn: 13.5392115\ttotal: 405ms\tremaining: 1.14s\n",
      "262:\tlearn: 13.5387186\ttotal: 406ms\tremaining: 1.14s\n",
      "263:\tlearn: 13.5116010\ttotal: 408ms\tremaining: 1.14s\n",
      "264:\tlearn: 13.5030116\ttotal: 409ms\tremaining: 1.14s\n",
      "265:\tlearn: 13.4759303\ttotal: 411ms\tremaining: 1.13s\n",
      "266:\tlearn: 13.4594004\ttotal: 413ms\tremaining: 1.13s\n",
      "267:\tlearn: 13.4547639\ttotal: 414ms\tremaining: 1.13s\n",
      "268:\tlearn: 13.4360779\ttotal: 416ms\tremaining: 1.13s\n",
      "269:\tlearn: 13.4303953\ttotal: 417ms\tremaining: 1.13s\n",
      "270:\tlearn: 13.4097347\ttotal: 419ms\tremaining: 1.13s\n",
      "271:\tlearn: 13.3976600\ttotal: 420ms\tremaining: 1.12s\n",
      "272:\tlearn: 13.3731162\ttotal: 422ms\tremaining: 1.12s\n",
      "273:\tlearn: 13.3720728\ttotal: 423ms\tremaining: 1.12s\n",
      "274:\tlearn: 13.3560776\ttotal: 425ms\tremaining: 1.12s\n",
      "275:\tlearn: 13.3387700\ttotal: 426ms\tremaining: 1.12s\n",
      "276:\tlearn: 13.3169375\ttotal: 428ms\tremaining: 1.12s\n",
      "277:\tlearn: 13.2908022\ttotal: 429ms\tremaining: 1.11s\n",
      "278:\tlearn: 13.2721737\ttotal: 431ms\tremaining: 1.11s\n",
      "279:\tlearn: 13.2550611\ttotal: 432ms\tremaining: 1.11s\n",
      "280:\tlearn: 13.2365021\ttotal: 433ms\tremaining: 1.11s\n",
      "281:\tlearn: 13.2092795\ttotal: 435ms\tremaining: 1.11s\n",
      "282:\tlearn: 13.1794731\ttotal: 436ms\tremaining: 1.1s\n",
      "283:\tlearn: 13.1567555\ttotal: 438ms\tremaining: 1.1s\n",
      "284:\tlearn: 13.1484497\ttotal: 439ms\tremaining: 1.1s\n",
      "285:\tlearn: 13.1259438\ttotal: 441ms\tremaining: 1.1s\n",
      "286:\tlearn: 13.1084175\ttotal: 442ms\tremaining: 1.1s\n",
      "287:\tlearn: 13.1068363\ttotal: 443ms\tremaining: 1.1s\n",
      "288:\tlearn: 13.0797046\ttotal: 445ms\tremaining: 1.09s\n",
      "289:\tlearn: 13.0637991\ttotal: 446ms\tremaining: 1.09s\n",
      "290:\tlearn: 13.0465403\ttotal: 448ms\tremaining: 1.09s\n",
      "291:\tlearn: 13.0253174\ttotal: 449ms\tremaining: 1.09s\n",
      "292:\tlearn: 13.0127494\ttotal: 451ms\tremaining: 1.09s\n",
      "293:\tlearn: 12.9912898\ttotal: 452ms\tremaining: 1.08s\n",
      "294:\tlearn: 12.9869852\ttotal: 454ms\tremaining: 1.08s\n",
      "295:\tlearn: 12.9771613\ttotal: 455ms\tremaining: 1.08s\n",
      "296:\tlearn: 12.9510208\ttotal: 457ms\tremaining: 1.08s\n",
      "297:\tlearn: 12.9181212\ttotal: 458ms\tremaining: 1.08s\n",
      "298:\tlearn: 12.9158239\ttotal: 459ms\tremaining: 1.08s\n",
      "299:\tlearn: 12.9131313\ttotal: 461ms\tremaining: 1.07s\n",
      "300:\tlearn: 12.8854124\ttotal: 462ms\tremaining: 1.07s\n",
      "301:\tlearn: 12.8632084\ttotal: 464ms\tremaining: 1.07s\n",
      "302:\tlearn: 12.8501664\ttotal: 465ms\tremaining: 1.07s\n",
      "303:\tlearn: 12.8339806\ttotal: 467ms\tremaining: 1.07s\n",
      "304:\tlearn: 12.8335408\ttotal: 468ms\tremaining: 1.07s\n",
      "305:\tlearn: 12.8205130\ttotal: 469ms\tremaining: 1.06s\n",
      "306:\tlearn: 12.8186961\ttotal: 471ms\tremaining: 1.06s\n",
      "307:\tlearn: 12.8126983\ttotal: 472ms\tremaining: 1.06s\n",
      "308:\tlearn: 12.7986920\ttotal: 474ms\tremaining: 1.06s\n",
      "309:\tlearn: 12.7881970\ttotal: 475ms\tremaining: 1.06s\n",
      "310:\tlearn: 12.7831521\ttotal: 476ms\tremaining: 1.05s\n",
      "311:\tlearn: 12.7762184\ttotal: 478ms\tremaining: 1.05s\n",
      "312:\tlearn: 12.7570151\ttotal: 479ms\tremaining: 1.05s\n",
      "313:\tlearn: 12.7467212\ttotal: 481ms\tremaining: 1.05s\n",
      "314:\tlearn: 12.7301966\ttotal: 482ms\tremaining: 1.05s\n",
      "315:\tlearn: 12.7161766\ttotal: 484ms\tremaining: 1.05s\n",
      "316:\tlearn: 12.7015764\ttotal: 485ms\tremaining: 1.04s\n",
      "317:\tlearn: 12.6806768\ttotal: 492ms\tremaining: 1.06s\n",
      "318:\tlearn: 12.6671365\ttotal: 494ms\tremaining: 1.05s\n",
      "319:\tlearn: 12.6452486\ttotal: 495ms\tremaining: 1.05s\n",
      "320:\tlearn: 12.6343745\ttotal: 497ms\tremaining: 1.05s\n",
      "321:\tlearn: 12.6190343\ttotal: 498ms\tremaining: 1.05s\n",
      "322:\tlearn: 12.6148125\ttotal: 500ms\tremaining: 1.05s\n",
      "323:\tlearn: 12.6080973\ttotal: 501ms\tremaining: 1.04s\n",
      "324:\tlearn: 12.5988132\ttotal: 503ms\tremaining: 1.04s\n",
      "325:\tlearn: 12.5864298\ttotal: 504ms\tremaining: 1.04s\n",
      "326:\tlearn: 12.5682291\ttotal: 506ms\tremaining: 1.04s\n",
      "327:\tlearn: 12.5452469\ttotal: 508ms\tremaining: 1.04s\n",
      "328:\tlearn: 12.5233347\ttotal: 510ms\tremaining: 1.04s\n",
      "329:\tlearn: 12.5140070\ttotal: 511ms\tremaining: 1.04s\n",
      "330:\tlearn: 12.4992596\ttotal: 513ms\tremaining: 1.04s\n",
      "331:\tlearn: 12.4935138\ttotal: 515ms\tremaining: 1.04s\n",
      "332:\tlearn: 12.4812919\ttotal: 517ms\tremaining: 1.03s\n",
      "333:\tlearn: 12.4808635\ttotal: 518ms\tremaining: 1.03s\n",
      "334:\tlearn: 12.4764321\ttotal: 520ms\tremaining: 1.03s\n",
      "335:\tlearn: 12.4666114\ttotal: 522ms\tremaining: 1.03s\n",
      "336:\tlearn: 12.4290565\ttotal: 523ms\tremaining: 1.03s\n",
      "337:\tlearn: 12.4166819\ttotal: 525ms\tremaining: 1.03s\n",
      "338:\tlearn: 12.4073566\ttotal: 527ms\tremaining: 1.03s\n",
      "339:\tlearn: 12.3996733\ttotal: 528ms\tremaining: 1.02s\n",
      "340:\tlearn: 12.3882946\ttotal: 530ms\tremaining: 1.02s\n",
      "341:\tlearn: 12.3768193\ttotal: 531ms\tremaining: 1.02s\n",
      "342:\tlearn: 12.3721417\ttotal: 533ms\tremaining: 1.02s\n",
      "343:\tlearn: 12.3713900\ttotal: 535ms\tremaining: 1.02s\n",
      "344:\tlearn: 12.3385053\ttotal: 536ms\tremaining: 1.02s\n",
      "345:\tlearn: 12.3308855\ttotal: 538ms\tremaining: 1.02s\n",
      "346:\tlearn: 12.3189268\ttotal: 539ms\tremaining: 1.01s\n",
      "347:\tlearn: 12.2977488\ttotal: 541ms\tremaining: 1.01s\n",
      "348:\tlearn: 12.2898245\ttotal: 542ms\tremaining: 1.01s\n",
      "349:\tlearn: 12.2764305\ttotal: 544ms\tremaining: 1.01s\n",
      "350:\tlearn: 12.2735540\ttotal: 545ms\tremaining: 1.01s\n",
      "351:\tlearn: 12.2561946\ttotal: 547ms\tremaining: 1.01s\n",
      "352:\tlearn: 12.2559092\ttotal: 548ms\tremaining: 1s\n",
      "353:\tlearn: 12.2451498\ttotal: 550ms\tremaining: 1s\n",
      "354:\tlearn: 12.2387176\ttotal: 551ms\tremaining: 1s\n",
      "355:\tlearn: 12.2252416\ttotal: 553ms\tremaining: 1000ms\n",
      "356:\tlearn: 12.2137949\ttotal: 554ms\tremaining: 998ms\n",
      "357:\tlearn: 12.2055123\ttotal: 556ms\tremaining: 997ms\n",
      "358:\tlearn: 12.1893028\ttotal: 557ms\tremaining: 995ms\n",
      "359:\tlearn: 12.1790032\ttotal: 559ms\tremaining: 993ms\n",
      "360:\tlearn: 12.1621435\ttotal: 560ms\tremaining: 992ms\n",
      "361:\tlearn: 12.1476026\ttotal: 562ms\tremaining: 990ms\n",
      "362:\tlearn: 12.1405591\ttotal: 563ms\tremaining: 988ms\n",
      "363:\tlearn: 12.1024982\ttotal: 565ms\tremaining: 986ms\n",
      "364:\tlearn: 12.0970956\ttotal: 566ms\tremaining: 984ms\n",
      "365:\tlearn: 12.0755461\ttotal: 567ms\tremaining: 983ms\n",
      "366:\tlearn: 12.0751354\ttotal: 569ms\tremaining: 981ms\n",
      "367:\tlearn: 12.0601490\ttotal: 570ms\tremaining: 979ms\n",
      "368:\tlearn: 12.0447134\ttotal: 572ms\tremaining: 977ms\n",
      "369:\tlearn: 12.0335472\ttotal: 573ms\tremaining: 976ms\n",
      "370:\tlearn: 12.0314244\ttotal: 574ms\tremaining: 974ms\n",
      "371:\tlearn: 12.0192870\ttotal: 576ms\tremaining: 973ms\n",
      "372:\tlearn: 12.0130150\ttotal: 578ms\tremaining: 971ms\n",
      "373:\tlearn: 12.0013361\ttotal: 588ms\tremaining: 984ms\n",
      "374:\tlearn: 11.9874282\ttotal: 590ms\tremaining: 983ms\n",
      "375:\tlearn: 11.9765184\ttotal: 591ms\tremaining: 981ms\n",
      "376:\tlearn: 11.9576874\ttotal: 593ms\tremaining: 980ms\n",
      "377:\tlearn: 11.9355839\ttotal: 595ms\tremaining: 979ms\n",
      "378:\tlearn: 11.9229170\ttotal: 596ms\tremaining: 977ms\n",
      "379:\tlearn: 11.9061943\ttotal: 598ms\tremaining: 975ms\n",
      "380:\tlearn: 11.8891259\ttotal: 599ms\tremaining: 974ms\n",
      "381:\tlearn: 11.8753199\ttotal: 601ms\tremaining: 972ms\n",
      "382:\tlearn: 11.8700972\ttotal: 602ms\tremaining: 971ms\n",
      "383:\tlearn: 11.8525346\ttotal: 604ms\tremaining: 969ms\n",
      "384:\tlearn: 11.8384383\ttotal: 605ms\tremaining: 967ms\n",
      "385:\tlearn: 11.8259564\ttotal: 607ms\tremaining: 965ms\n",
      "386:\tlearn: 11.8148190\ttotal: 608ms\tremaining: 964ms\n",
      "387:\tlearn: 11.8084175\ttotal: 610ms\tremaining: 962ms\n",
      "388:\tlearn: 11.7994989\ttotal: 611ms\tremaining: 960ms\n",
      "389:\tlearn: 11.7992219\ttotal: 613ms\tremaining: 959ms\n",
      "390:\tlearn: 11.7928829\ttotal: 614ms\tremaining: 957ms\n",
      "391:\tlearn: 11.7757241\ttotal: 616ms\tremaining: 955ms\n",
      "392:\tlearn: 11.7720279\ttotal: 617ms\tremaining: 954ms\n",
      "393:\tlearn: 11.7686318\ttotal: 619ms\tremaining: 952ms\n",
      "394:\tlearn: 11.7538464\ttotal: 621ms\tremaining: 951ms\n",
      "395:\tlearn: 11.7474958\ttotal: 622ms\tremaining: 949ms\n",
      "396:\tlearn: 11.7258562\ttotal: 624ms\tremaining: 948ms\n",
      "397:\tlearn: 11.7186710\ttotal: 625ms\tremaining: 946ms\n",
      "398:\tlearn: 11.7030019\ttotal: 627ms\tremaining: 944ms\n",
      "399:\tlearn: 11.6814835\ttotal: 629ms\tremaining: 943ms\n",
      "400:\tlearn: 11.6702028\ttotal: 630ms\tremaining: 941ms\n",
      "401:\tlearn: 11.6578889\ttotal: 632ms\tremaining: 940ms\n",
      "402:\tlearn: 11.6408386\ttotal: 633ms\tremaining: 938ms\n",
      "403:\tlearn: 11.6264994\ttotal: 635ms\tremaining: 936ms\n",
      "404:\tlearn: 11.5947652\ttotal: 636ms\tremaining: 935ms\n",
      "405:\tlearn: 11.5846390\ttotal: 638ms\tremaining: 933ms\n",
      "406:\tlearn: 11.5843675\ttotal: 639ms\tremaining: 931ms\n",
      "407:\tlearn: 11.5666845\ttotal: 641ms\tremaining: 930ms\n",
      "408:\tlearn: 11.5499194\ttotal: 642ms\tremaining: 928ms\n",
      "409:\tlearn: 11.5437538\ttotal: 644ms\tremaining: 926ms\n",
      "410:\tlearn: 11.5321011\ttotal: 645ms\tremaining: 924ms\n",
      "411:\tlearn: 11.5113108\ttotal: 646ms\tremaining: 923ms\n",
      "412:\tlearn: 11.5054199\ttotal: 648ms\tremaining: 921ms\n",
      "413:\tlearn: 11.5018049\ttotal: 649ms\tremaining: 919ms\n",
      "414:\tlearn: 11.4816228\ttotal: 651ms\tremaining: 918ms\n",
      "415:\tlearn: 11.4786853\ttotal: 652ms\tremaining: 916ms\n",
      "416:\tlearn: 11.4707502\ttotal: 654ms\tremaining: 914ms\n",
      "417:\tlearn: 11.4603378\ttotal: 655ms\tremaining: 912ms\n",
      "418:\tlearn: 11.4500190\ttotal: 657ms\tremaining: 910ms\n",
      "419:\tlearn: 11.4397416\ttotal: 658ms\tremaining: 909ms\n",
      "420:\tlearn: 11.4159781\ttotal: 660ms\tremaining: 907ms\n",
      "421:\tlearn: 11.4009914\ttotal: 661ms\tremaining: 906ms\n",
      "422:\tlearn: 11.3880997\ttotal: 663ms\tremaining: 904ms\n",
      "423:\tlearn: 11.3807604\ttotal: 665ms\tremaining: 903ms\n",
      "424:\tlearn: 11.3661266\ttotal: 667ms\tremaining: 902ms\n",
      "425:\tlearn: 11.3425596\ttotal: 668ms\tremaining: 900ms\n",
      "426:\tlearn: 11.3361049\ttotal: 670ms\tremaining: 899ms\n",
      "427:\tlearn: 11.3313411\ttotal: 671ms\tremaining: 897ms\n",
      "428:\tlearn: 11.3307005\ttotal: 673ms\tremaining: 896ms\n",
      "429:\tlearn: 11.3229745\ttotal: 675ms\tremaining: 894ms\n",
      "430:\tlearn: 11.3171042\ttotal: 676ms\tremaining: 893ms\n",
      "431:\tlearn: 11.2989491\ttotal: 683ms\tremaining: 898ms\n",
      "432:\tlearn: 11.2818695\ttotal: 684ms\tremaining: 896ms\n",
      "433:\tlearn: 11.2579617\ttotal: 686ms\tremaining: 894ms\n",
      "434:\tlearn: 11.2365035\ttotal: 687ms\tremaining: 893ms\n",
      "435:\tlearn: 11.2232833\ttotal: 689ms\tremaining: 891ms\n",
      "436:\tlearn: 11.2168263\ttotal: 691ms\tremaining: 890ms\n",
      "437:\tlearn: 11.1970125\ttotal: 693ms\tremaining: 889ms\n",
      "438:\tlearn: 11.1635891\ttotal: 694ms\tremaining: 887ms\n",
      "439:\tlearn: 11.1619025\ttotal: 696ms\tremaining: 886ms\n",
      "440:\tlearn: 11.1603987\ttotal: 697ms\tremaining: 884ms\n",
      "441:\tlearn: 11.1453574\ttotal: 699ms\tremaining: 882ms\n",
      "442:\tlearn: 11.1309785\ttotal: 701ms\tremaining: 881ms\n",
      "443:\tlearn: 11.1158963\ttotal: 702ms\tremaining: 880ms\n",
      "444:\tlearn: 11.1063273\ttotal: 704ms\tremaining: 878ms\n",
      "445:\tlearn: 11.1058888\ttotal: 706ms\tremaining: 877ms\n",
      "446:\tlearn: 11.0923276\ttotal: 708ms\tremaining: 875ms\n",
      "447:\tlearn: 11.0797145\ttotal: 709ms\tremaining: 874ms\n",
      "448:\tlearn: 11.0649616\ttotal: 711ms\tremaining: 873ms\n",
      "449:\tlearn: 11.0647242\ttotal: 713ms\tremaining: 871ms\n",
      "450:\tlearn: 11.0645369\ttotal: 715ms\tremaining: 870ms\n",
      "451:\tlearn: 11.0468744\ttotal: 716ms\tremaining: 869ms\n",
      "452:\tlearn: 11.0190480\ttotal: 718ms\tremaining: 867ms\n",
      "453:\tlearn: 11.0149118\ttotal: 720ms\tremaining: 866ms\n",
      "454:\tlearn: 11.0063134\ttotal: 722ms\tremaining: 864ms\n",
      "455:\tlearn: 10.9996838\ttotal: 723ms\tremaining: 863ms\n",
      "456:\tlearn: 10.9858706\ttotal: 725ms\tremaining: 861ms\n",
      "457:\tlearn: 10.9689749\ttotal: 726ms\tremaining: 859ms\n",
      "458:\tlearn: 10.9688526\ttotal: 727ms\tremaining: 857ms\n",
      "459:\tlearn: 10.9546182\ttotal: 729ms\tremaining: 856ms\n",
      "460:\tlearn: 10.9544029\ttotal: 730ms\tremaining: 854ms\n",
      "461:\tlearn: 10.9349840\ttotal: 732ms\tremaining: 852ms\n",
      "462:\tlearn: 10.9256685\ttotal: 733ms\tremaining: 850ms\n",
      "463:\tlearn: 10.9056762\ttotal: 735ms\tremaining: 849ms\n",
      "464:\tlearn: 10.9013549\ttotal: 736ms\tremaining: 847ms\n",
      "465:\tlearn: 10.8960153\ttotal: 738ms\tremaining: 845ms\n",
      "466:\tlearn: 10.8870490\ttotal: 739ms\tremaining: 843ms\n",
      "467:\tlearn: 10.8810951\ttotal: 740ms\tremaining: 842ms\n",
      "468:\tlearn: 10.8669549\ttotal: 742ms\tremaining: 840ms\n",
      "469:\tlearn: 10.8646199\ttotal: 743ms\tremaining: 838ms\n",
      "470:\tlearn: 10.8431760\ttotal: 745ms\tremaining: 836ms\n",
      "471:\tlearn: 10.8273238\ttotal: 746ms\tremaining: 835ms\n",
      "472:\tlearn: 10.8192077\ttotal: 748ms\tremaining: 833ms\n",
      "473:\tlearn: 10.8096389\ttotal: 749ms\tremaining: 831ms\n",
      "474:\tlearn: 10.8060203\ttotal: 750ms\tremaining: 829ms\n",
      "475:\tlearn: 10.7879543\ttotal: 752ms\tremaining: 828ms\n",
      "476:\tlearn: 10.7849926\ttotal: 753ms\tremaining: 826ms\n",
      "477:\tlearn: 10.7619731\ttotal: 755ms\tremaining: 824ms\n",
      "478:\tlearn: 10.7590004\ttotal: 756ms\tremaining: 822ms\n",
      "479:\tlearn: 10.7503508\ttotal: 757ms\tremaining: 821ms\n",
      "480:\tlearn: 10.7408594\ttotal: 759ms\tremaining: 819ms\n",
      "481:\tlearn: 10.7361736\ttotal: 760ms\tremaining: 817ms\n",
      "482:\tlearn: 10.7278086\ttotal: 762ms\tremaining: 815ms\n",
      "483:\tlearn: 10.7038626\ttotal: 763ms\tremaining: 814ms\n",
      "484:\tlearn: 10.6900399\ttotal: 765ms\tremaining: 812ms\n",
      "485:\tlearn: 10.6707829\ttotal: 767ms\tremaining: 811ms\n",
      "486:\tlearn: 10.6580322\ttotal: 777ms\tremaining: 818ms\n",
      "487:\tlearn: 10.6479700\ttotal: 778ms\tremaining: 816ms\n",
      "488:\tlearn: 10.6257561\ttotal: 780ms\tremaining: 815ms\n",
      "489:\tlearn: 10.6200113\ttotal: 781ms\tremaining: 813ms\n",
      "490:\tlearn: 10.6046407\ttotal: 783ms\tremaining: 811ms\n",
      "491:\tlearn: 10.6042807\ttotal: 784ms\tremaining: 810ms\n",
      "492:\tlearn: 10.5977800\ttotal: 786ms\tremaining: 808ms\n",
      "493:\tlearn: 10.5797146\ttotal: 787ms\tremaining: 806ms\n",
      "494:\tlearn: 10.5650307\ttotal: 788ms\tremaining: 804ms\n",
      "495:\tlearn: 10.5596433\ttotal: 790ms\tremaining: 803ms\n",
      "496:\tlearn: 10.5384250\ttotal: 791ms\tremaining: 801ms\n",
      "497:\tlearn: 10.5253711\ttotal: 793ms\tremaining: 799ms\n",
      "498:\tlearn: 10.5117010\ttotal: 794ms\tremaining: 797ms\n",
      "499:\tlearn: 10.5049133\ttotal: 796ms\tremaining: 796ms\n",
      "500:\tlearn: 10.4923788\ttotal: 798ms\tremaining: 794ms\n",
      "501:\tlearn: 10.4905382\ttotal: 799ms\tremaining: 793ms\n",
      "502:\tlearn: 10.4877613\ttotal: 801ms\tremaining: 791ms\n",
      "503:\tlearn: 10.4778924\ttotal: 802ms\tremaining: 789ms\n",
      "504:\tlearn: 10.4697528\ttotal: 804ms\tremaining: 788ms\n",
      "505:\tlearn: 10.4624585\ttotal: 805ms\tremaining: 786ms\n",
      "506:\tlearn: 10.4602880\ttotal: 807ms\tremaining: 785ms\n",
      "507:\tlearn: 10.4473310\ttotal: 809ms\tremaining: 783ms\n",
      "508:\tlearn: 10.4280593\ttotal: 810ms\tremaining: 782ms\n",
      "509:\tlearn: 10.4180127\ttotal: 812ms\tremaining: 780ms\n",
      "510:\tlearn: 10.4166320\ttotal: 813ms\tremaining: 778ms\n",
      "511:\tlearn: 10.4098375\ttotal: 815ms\tremaining: 777ms\n",
      "512:\tlearn: 10.3975914\ttotal: 816ms\tremaining: 775ms\n",
      "513:\tlearn: 10.3969486\ttotal: 818ms\tremaining: 773ms\n",
      "514:\tlearn: 10.3906151\ttotal: 819ms\tremaining: 772ms\n",
      "515:\tlearn: 10.3844594\ttotal: 821ms\tremaining: 770ms\n",
      "516:\tlearn: 10.3729740\ttotal: 822ms\tremaining: 768ms\n",
      "517:\tlearn: 10.3640796\ttotal: 824ms\tremaining: 767ms\n",
      "518:\tlearn: 10.3521939\ttotal: 826ms\tremaining: 765ms\n",
      "519:\tlearn: 10.3349654\ttotal: 827ms\tremaining: 763ms\n",
      "520:\tlearn: 10.3231517\ttotal: 829ms\tremaining: 762ms\n",
      "521:\tlearn: 10.3192004\ttotal: 830ms\tremaining: 760ms\n",
      "522:\tlearn: 10.3121273\ttotal: 832ms\tremaining: 758ms\n",
      "523:\tlearn: 10.3036824\ttotal: 833ms\tremaining: 757ms\n",
      "524:\tlearn: 10.2953588\ttotal: 835ms\tremaining: 755ms\n",
      "525:\tlearn: 10.2690078\ttotal: 836ms\tremaining: 754ms\n",
      "526:\tlearn: 10.2619873\ttotal: 838ms\tremaining: 752ms\n",
      "527:\tlearn: 10.2505573\ttotal: 839ms\tremaining: 750ms\n",
      "528:\tlearn: 10.2428550\ttotal: 841ms\tremaining: 749ms\n",
      "529:\tlearn: 10.2353315\ttotal: 842ms\tremaining: 747ms\n",
      "530:\tlearn: 10.2241903\ttotal: 844ms\tremaining: 745ms\n",
      "531:\tlearn: 10.2122495\ttotal: 845ms\tremaining: 744ms\n",
      "532:\tlearn: 10.2072941\ttotal: 847ms\tremaining: 742ms\n",
      "533:\tlearn: 10.1825010\ttotal: 848ms\tremaining: 740ms\n",
      "534:\tlearn: 10.1777384\ttotal: 850ms\tremaining: 738ms\n",
      "535:\tlearn: 10.1624649\ttotal: 851ms\tremaining: 737ms\n",
      "536:\tlearn: 10.1484471\ttotal: 853ms\tremaining: 735ms\n",
      "537:\tlearn: 10.1364544\ttotal: 854ms\tremaining: 733ms\n",
      "538:\tlearn: 10.1290613\ttotal: 856ms\tremaining: 732ms\n",
      "539:\tlearn: 10.1154345\ttotal: 857ms\tremaining: 730ms\n",
      "540:\tlearn: 10.1086358\ttotal: 859ms\tremaining: 728ms\n",
      "541:\tlearn: 10.1047648\ttotal: 860ms\tremaining: 727ms\n",
      "542:\tlearn: 10.0961801\ttotal: 861ms\tremaining: 725ms\n",
      "543:\tlearn: 10.0875785\ttotal: 863ms\tremaining: 723ms\n",
      "544:\tlearn: 10.0856037\ttotal: 864ms\tremaining: 722ms\n",
      "545:\tlearn: 10.0766070\ttotal: 866ms\tremaining: 720ms\n",
      "546:\tlearn: 10.0622624\ttotal: 871ms\tremaining: 722ms\n",
      "547:\tlearn: 10.0523971\ttotal: 873ms\tremaining: 720ms\n",
      "548:\tlearn: 10.0424634\ttotal: 874ms\tremaining: 718ms\n",
      "549:\tlearn: 10.0256636\ttotal: 876ms\tremaining: 717ms\n",
      "550:\tlearn: 10.0035176\ttotal: 877ms\tremaining: 715ms\n",
      "551:\tlearn: 9.9942475\ttotal: 879ms\tremaining: 713ms\n",
      "552:\tlearn: 9.9910961\ttotal: 881ms\tremaining: 712ms\n",
      "553:\tlearn: 9.9787476\ttotal: 882ms\tremaining: 710ms\n",
      "554:\tlearn: 9.9697948\ttotal: 884ms\tremaining: 709ms\n",
      "555:\tlearn: 9.9585910\ttotal: 886ms\tremaining: 707ms\n",
      "556:\tlearn: 9.9379871\ttotal: 887ms\tremaining: 706ms\n",
      "557:\tlearn: 9.9238602\ttotal: 889ms\tremaining: 704ms\n",
      "558:\tlearn: 9.9116929\ttotal: 891ms\tremaining: 703ms\n",
      "559:\tlearn: 9.8971647\ttotal: 892ms\tremaining: 701ms\n",
      "560:\tlearn: 9.8919148\ttotal: 894ms\tremaining: 700ms\n",
      "561:\tlearn: 9.8737931\ttotal: 896ms\tremaining: 699ms\n",
      "562:\tlearn: 9.8665123\ttotal: 898ms\tremaining: 697ms\n",
      "563:\tlearn: 9.8610697\ttotal: 900ms\tremaining: 696ms\n",
      "564:\tlearn: 9.8545941\ttotal: 902ms\tremaining: 695ms\n",
      "565:\tlearn: 9.8499989\ttotal: 904ms\tremaining: 693ms\n",
      "566:\tlearn: 9.8420463\ttotal: 906ms\tremaining: 692ms\n",
      "567:\tlearn: 9.8343371\ttotal: 908ms\tremaining: 691ms\n",
      "568:\tlearn: 9.8318262\ttotal: 910ms\tremaining: 689ms\n",
      "569:\tlearn: 9.8060384\ttotal: 912ms\tremaining: 688ms\n",
      "570:\tlearn: 9.7946129\ttotal: 914ms\tremaining: 687ms\n",
      "571:\tlearn: 9.7944024\ttotal: 916ms\tremaining: 685ms\n",
      "572:\tlearn: 9.7830974\ttotal: 918ms\tremaining: 684ms\n",
      "573:\tlearn: 9.7698382\ttotal: 919ms\tremaining: 682ms\n",
      "574:\tlearn: 9.7508680\ttotal: 921ms\tremaining: 681ms\n",
      "575:\tlearn: 9.7438415\ttotal: 923ms\tremaining: 680ms\n",
      "576:\tlearn: 9.7280851\ttotal: 925ms\tremaining: 678ms\n",
      "577:\tlearn: 9.7116260\ttotal: 928ms\tremaining: 677ms\n",
      "578:\tlearn: 9.7034787\ttotal: 929ms\tremaining: 676ms\n",
      "579:\tlearn: 9.6935727\ttotal: 931ms\tremaining: 674ms\n",
      "580:\tlearn: 9.6906140\ttotal: 933ms\tremaining: 673ms\n",
      "581:\tlearn: 9.6904672\ttotal: 935ms\tremaining: 672ms\n",
      "582:\tlearn: 9.6890258\ttotal: 937ms\tremaining: 670ms\n",
      "583:\tlearn: 9.6775266\ttotal: 938ms\tremaining: 668ms\n",
      "584:\tlearn: 9.6651942\ttotal: 940ms\tremaining: 667ms\n",
      "585:\tlearn: 9.6577959\ttotal: 942ms\tremaining: 665ms\n",
      "586:\tlearn: 9.6559126\ttotal: 943ms\tremaining: 664ms\n",
      "587:\tlearn: 9.6492125\ttotal: 945ms\tremaining: 662ms\n",
      "588:\tlearn: 9.6402036\ttotal: 948ms\tremaining: 662ms\n",
      "589:\tlearn: 9.6332980\ttotal: 950ms\tremaining: 660ms\n",
      "590:\tlearn: 9.6300433\ttotal: 952ms\tremaining: 659ms\n",
      "591:\tlearn: 9.6289387\ttotal: 953ms\tremaining: 657ms\n",
      "592:\tlearn: 9.6249850\ttotal: 955ms\tremaining: 656ms\n",
      "593:\tlearn: 9.6201307\ttotal: 957ms\tremaining: 654ms\n",
      "594:\tlearn: 9.6152243\ttotal: 959ms\tremaining: 653ms\n",
      "595:\tlearn: 9.6134763\ttotal: 964ms\tremaining: 654ms\n",
      "596:\tlearn: 9.6122571\ttotal: 966ms\tremaining: 652ms\n",
      "597:\tlearn: 9.6092733\ttotal: 967ms\tremaining: 650ms\n",
      "598:\tlearn: 9.5929302\ttotal: 969ms\tremaining: 649ms\n",
      "599:\tlearn: 9.5763824\ttotal: 970ms\tremaining: 647ms\n",
      "600:\tlearn: 9.5666762\ttotal: 972ms\tremaining: 645ms\n",
      "601:\tlearn: 9.5553120\ttotal: 974ms\tremaining: 644ms\n",
      "602:\tlearn: 9.5476267\ttotal: 976ms\tremaining: 642ms\n",
      "603:\tlearn: 9.5405407\ttotal: 977ms\tremaining: 641ms\n",
      "604:\tlearn: 9.5213769\ttotal: 979ms\tremaining: 639ms\n",
      "605:\tlearn: 9.5070591\ttotal: 981ms\tremaining: 638ms\n",
      "606:\tlearn: 9.4932263\ttotal: 982ms\tremaining: 636ms\n",
      "607:\tlearn: 9.4833987\ttotal: 984ms\tremaining: 634ms\n",
      "608:\tlearn: 9.4746298\ttotal: 985ms\tremaining: 633ms\n",
      "609:\tlearn: 9.4595570\ttotal: 987ms\tremaining: 631ms\n",
      "610:\tlearn: 9.4492100\ttotal: 989ms\tremaining: 629ms\n",
      "611:\tlearn: 9.4453044\ttotal: 990ms\tremaining: 628ms\n",
      "612:\tlearn: 9.4422778\ttotal: 992ms\tremaining: 626ms\n",
      "613:\tlearn: 9.4411495\ttotal: 993ms\tremaining: 624ms\n",
      "614:\tlearn: 9.4299661\ttotal: 995ms\tremaining: 623ms\n",
      "615:\tlearn: 9.4173872\ttotal: 996ms\tremaining: 621ms\n",
      "616:\tlearn: 9.4044205\ttotal: 998ms\tremaining: 620ms\n",
      "617:\tlearn: 9.3930855\ttotal: 1000ms\tremaining: 618ms\n",
      "618:\tlearn: 9.3862763\ttotal: 1s\tremaining: 616ms\n",
      "619:\tlearn: 9.3718981\ttotal: 1s\tremaining: 615ms\n",
      "620:\tlearn: 9.3648512\ttotal: 1s\tremaining: 613ms\n",
      "621:\tlearn: 9.3496661\ttotal: 1.01s\tremaining: 612ms\n",
      "622:\tlearn: 9.3449788\ttotal: 1.01s\tremaining: 610ms\n",
      "623:\tlearn: 9.3259723\ttotal: 1.01s\tremaining: 609ms\n",
      "624:\tlearn: 9.3204031\ttotal: 1.01s\tremaining: 607ms\n",
      "625:\tlearn: 9.3177729\ttotal: 1.01s\tremaining: 606ms\n",
      "626:\tlearn: 9.3080602\ttotal: 1.02s\tremaining: 605ms\n",
      "627:\tlearn: 9.3000493\ttotal: 1.02s\tremaining: 603ms\n",
      "628:\tlearn: 9.2976816\ttotal: 1.02s\tremaining: 602ms\n",
      "629:\tlearn: 9.2864951\ttotal: 1.02s\tremaining: 600ms\n",
      "630:\tlearn: 9.2817104\ttotal: 1.02s\tremaining: 598ms\n",
      "631:\tlearn: 9.2810607\ttotal: 1.02s\tremaining: 597ms\n",
      "632:\tlearn: 9.2673084\ttotal: 1.03s\tremaining: 595ms\n",
      "633:\tlearn: 9.2481976\ttotal: 1.03s\tremaining: 594ms\n",
      "634:\tlearn: 9.2424594\ttotal: 1.03s\tremaining: 592ms\n",
      "635:\tlearn: 9.2331752\ttotal: 1.03s\tremaining: 591ms\n",
      "636:\tlearn: 9.2169984\ttotal: 1.03s\tremaining: 589ms\n",
      "637:\tlearn: 9.2067564\ttotal: 1.04s\tremaining: 588ms\n",
      "638:\tlearn: 9.1924292\ttotal: 1.04s\tremaining: 587ms\n",
      "639:\tlearn: 9.1877918\ttotal: 1.04s\tremaining: 585ms\n",
      "640:\tlearn: 9.1738319\ttotal: 1.04s\tremaining: 584ms\n",
      "641:\tlearn: 9.1707498\ttotal: 1.04s\tremaining: 582ms\n",
      "642:\tlearn: 9.1652983\ttotal: 1.04s\tremaining: 580ms\n",
      "643:\tlearn: 9.1584850\ttotal: 1.05s\tremaining: 579ms\n",
      "644:\tlearn: 9.1516479\ttotal: 1.05s\tremaining: 577ms\n",
      "645:\tlearn: 9.1465109\ttotal: 1.05s\tremaining: 575ms\n",
      "646:\tlearn: 9.1324874\ttotal: 1.06s\tremaining: 578ms\n",
      "647:\tlearn: 9.1197768\ttotal: 1.06s\tremaining: 576ms\n",
      "648:\tlearn: 9.1080589\ttotal: 1.06s\tremaining: 575ms\n",
      "649:\tlearn: 9.1042209\ttotal: 1.06s\tremaining: 573ms\n",
      "650:\tlearn: 9.0868843\ttotal: 1.06s\tremaining: 571ms\n",
      "651:\tlearn: 9.0784011\ttotal: 1.07s\tremaining: 570ms\n",
      "652:\tlearn: 9.0776515\ttotal: 1.07s\tremaining: 568ms\n",
      "653:\tlearn: 9.0670381\ttotal: 1.07s\tremaining: 566ms\n",
      "654:\tlearn: 9.0516582\ttotal: 1.07s\tremaining: 565ms\n",
      "655:\tlearn: 9.0330401\ttotal: 1.07s\tremaining: 563ms\n",
      "656:\tlearn: 9.0204789\ttotal: 1.07s\tremaining: 561ms\n",
      "657:\tlearn: 9.0133954\ttotal: 1.08s\tremaining: 559ms\n",
      "658:\tlearn: 9.0015856\ttotal: 1.08s\tremaining: 558ms\n",
      "659:\tlearn: 8.9869273\ttotal: 1.08s\tremaining: 556ms\n",
      "660:\tlearn: 8.9793491\ttotal: 1.08s\tremaining: 554ms\n",
      "661:\tlearn: 8.9724337\ttotal: 1.08s\tremaining: 553ms\n",
      "662:\tlearn: 8.9592663\ttotal: 1.08s\tremaining: 551ms\n",
      "663:\tlearn: 8.9409838\ttotal: 1.08s\tremaining: 549ms\n",
      "664:\tlearn: 8.9291302\ttotal: 1.09s\tremaining: 548ms\n",
      "665:\tlearn: 8.9192186\ttotal: 1.09s\tremaining: 546ms\n",
      "666:\tlearn: 8.9009593\ttotal: 1.09s\tremaining: 544ms\n",
      "667:\tlearn: 8.8946598\ttotal: 1.09s\tremaining: 543ms\n",
      "668:\tlearn: 8.8804406\ttotal: 1.09s\tremaining: 541ms\n",
      "669:\tlearn: 8.8711718\ttotal: 1.09s\tremaining: 539ms\n",
      "670:\tlearn: 8.8540473\ttotal: 1.1s\tremaining: 538ms\n",
      "671:\tlearn: 8.8526787\ttotal: 1.1s\tremaining: 536ms\n",
      "672:\tlearn: 8.8508232\ttotal: 1.1s\tremaining: 534ms\n",
      "673:\tlearn: 8.8362577\ttotal: 1.1s\tremaining: 533ms\n",
      "674:\tlearn: 8.8274196\ttotal: 1.1s\tremaining: 531ms\n",
      "675:\tlearn: 8.8180743\ttotal: 1.1s\tremaining: 529ms\n",
      "676:\tlearn: 8.8062526\ttotal: 1.11s\tremaining: 528ms\n",
      "677:\tlearn: 8.7921324\ttotal: 1.11s\tremaining: 526ms\n",
      "678:\tlearn: 8.7800689\ttotal: 1.11s\tremaining: 525ms\n",
      "679:\tlearn: 8.7748755\ttotal: 1.11s\tremaining: 523ms\n",
      "680:\tlearn: 8.7698197\ttotal: 1.11s\tremaining: 522ms\n",
      "681:\tlearn: 8.7636135\ttotal: 1.11s\tremaining: 520ms\n",
      "682:\tlearn: 8.7492223\ttotal: 1.12s\tremaining: 518ms\n",
      "683:\tlearn: 8.7464186\ttotal: 1.12s\tremaining: 516ms\n",
      "684:\tlearn: 8.7359699\ttotal: 1.12s\tremaining: 515ms\n",
      "685:\tlearn: 8.7244169\ttotal: 1.12s\tremaining: 513ms\n",
      "686:\tlearn: 8.7208886\ttotal: 1.12s\tremaining: 511ms\n",
      "687:\tlearn: 8.7079733\ttotal: 1.12s\tremaining: 510ms\n",
      "688:\tlearn: 8.7009990\ttotal: 1.13s\tremaining: 508ms\n",
      "689:\tlearn: 8.6892643\ttotal: 1.13s\tremaining: 506ms\n",
      "690:\tlearn: 8.6791061\ttotal: 1.13s\tremaining: 505ms\n",
      "691:\tlearn: 8.6664294\ttotal: 1.13s\tremaining: 503ms\n",
      "692:\tlearn: 8.6607219\ttotal: 1.13s\tremaining: 501ms\n",
      "693:\tlearn: 8.6588273\ttotal: 1.13s\tremaining: 499ms\n",
      "694:\tlearn: 8.6585499\ttotal: 1.13s\tremaining: 498ms\n",
      "695:\tlearn: 8.6584267\ttotal: 1.14s\tremaining: 496ms\n",
      "696:\tlearn: 8.6521180\ttotal: 1.14s\tremaining: 494ms\n",
      "697:\tlearn: 8.6473142\ttotal: 1.14s\tremaining: 493ms\n",
      "698:\tlearn: 8.6431469\ttotal: 1.14s\tremaining: 491ms\n",
      "699:\tlearn: 8.6352715\ttotal: 1.14s\tremaining: 489ms\n",
      "700:\tlearn: 8.6305186\ttotal: 1.14s\tremaining: 487ms\n",
      "701:\tlearn: 8.6229094\ttotal: 1.14s\tremaining: 486ms\n",
      "702:\tlearn: 8.6142294\ttotal: 1.15s\tremaining: 484ms\n",
      "703:\tlearn: 8.6130323\ttotal: 1.15s\tremaining: 482ms\n",
      "704:\tlearn: 8.6114406\ttotal: 1.15s\tremaining: 480ms\n",
      "705:\tlearn: 8.6062777\ttotal: 1.15s\tremaining: 479ms\n",
      "706:\tlearn: 8.6059866\ttotal: 1.15s\tremaining: 477ms\n",
      "707:\tlearn: 8.5959521\ttotal: 1.15s\tremaining: 475ms\n",
      "708:\tlearn: 8.5785640\ttotal: 1.16s\tremaining: 475ms\n",
      "709:\tlearn: 8.5645272\ttotal: 1.16s\tremaining: 473ms\n",
      "710:\tlearn: 8.5538398\ttotal: 1.16s\tremaining: 471ms\n",
      "711:\tlearn: 8.5451593\ttotal: 1.16s\tremaining: 470ms\n",
      "712:\tlearn: 8.5367492\ttotal: 1.16s\tremaining: 468ms\n",
      "713:\tlearn: 8.5268232\ttotal: 1.16s\tremaining: 466ms\n",
      "714:\tlearn: 8.5213893\ttotal: 1.17s\tremaining: 465ms\n",
      "715:\tlearn: 8.4999271\ttotal: 1.17s\tremaining: 463ms\n",
      "716:\tlearn: 8.4899334\ttotal: 1.17s\tremaining: 461ms\n",
      "717:\tlearn: 8.4844799\ttotal: 1.17s\tremaining: 460ms\n",
      "718:\tlearn: 8.4820555\ttotal: 1.17s\tremaining: 458ms\n",
      "719:\tlearn: 8.4718189\ttotal: 1.17s\tremaining: 456ms\n",
      "720:\tlearn: 8.4601515\ttotal: 1.17s\tremaining: 454ms\n",
      "721:\tlearn: 8.4513982\ttotal: 1.18s\tremaining: 453ms\n",
      "722:\tlearn: 8.4368743\ttotal: 1.18s\tremaining: 451ms\n",
      "723:\tlearn: 8.4338602\ttotal: 1.18s\tremaining: 449ms\n",
      "724:\tlearn: 8.4251299\ttotal: 1.18s\tremaining: 448ms\n",
      "725:\tlearn: 8.4175258\ttotal: 1.18s\tremaining: 446ms\n",
      "726:\tlearn: 8.4091220\ttotal: 1.18s\tremaining: 444ms\n",
      "727:\tlearn: 8.4089866\ttotal: 1.18s\tremaining: 443ms\n",
      "728:\tlearn: 8.4017049\ttotal: 1.19s\tremaining: 441ms\n",
      "729:\tlearn: 8.3946004\ttotal: 1.19s\tremaining: 439ms\n",
      "730:\tlearn: 8.3936728\ttotal: 1.19s\tremaining: 437ms\n",
      "731:\tlearn: 8.3910476\ttotal: 1.19s\tremaining: 436ms\n",
      "732:\tlearn: 8.3909259\ttotal: 1.19s\tremaining: 434ms\n",
      "733:\tlearn: 8.3888293\ttotal: 1.19s\tremaining: 432ms\n",
      "734:\tlearn: 8.3835690\ttotal: 1.19s\tremaining: 431ms\n",
      "735:\tlearn: 8.3764185\ttotal: 1.2s\tremaining: 429ms\n",
      "736:\tlearn: 8.3686608\ttotal: 1.2s\tremaining: 427ms\n",
      "737:\tlearn: 8.3666006\ttotal: 1.2s\tremaining: 426ms\n",
      "738:\tlearn: 8.3635839\ttotal: 1.2s\tremaining: 424ms\n",
      "739:\tlearn: 8.3579006\ttotal: 1.2s\tremaining: 422ms\n",
      "740:\tlearn: 8.3523320\ttotal: 1.2s\tremaining: 421ms\n",
      "741:\tlearn: 8.3434120\ttotal: 1.2s\tremaining: 419ms\n",
      "742:\tlearn: 8.3270144\ttotal: 1.21s\tremaining: 417ms\n",
      "743:\tlearn: 8.3220462\ttotal: 1.21s\tremaining: 416ms\n",
      "744:\tlearn: 8.3070431\ttotal: 1.21s\tremaining: 414ms\n",
      "745:\tlearn: 8.3007282\ttotal: 1.21s\tremaining: 412ms\n",
      "746:\tlearn: 8.2854555\ttotal: 1.21s\tremaining: 411ms\n",
      "747:\tlearn: 8.2801354\ttotal: 1.21s\tremaining: 409ms\n",
      "748:\tlearn: 8.2782817\ttotal: 1.22s\tremaining: 407ms\n",
      "749:\tlearn: 8.2746865\ttotal: 1.22s\tremaining: 406ms\n",
      "750:\tlearn: 8.2589614\ttotal: 1.22s\tremaining: 404ms\n",
      "751:\tlearn: 8.2503386\ttotal: 1.22s\tremaining: 402ms\n",
      "752:\tlearn: 8.2450025\ttotal: 1.22s\tremaining: 401ms\n",
      "753:\tlearn: 8.2448497\ttotal: 1.22s\tremaining: 399ms\n",
      "754:\tlearn: 8.2380760\ttotal: 1.22s\tremaining: 397ms\n",
      "755:\tlearn: 8.2302705\ttotal: 1.23s\tremaining: 395ms\n",
      "756:\tlearn: 8.2226289\ttotal: 1.23s\tremaining: 394ms\n",
      "757:\tlearn: 8.2109706\ttotal: 1.23s\tremaining: 392ms\n",
      "758:\tlearn: 8.2108353\ttotal: 1.23s\tremaining: 390ms\n",
      "759:\tlearn: 8.1998781\ttotal: 1.23s\tremaining: 389ms\n",
      "760:\tlearn: 8.1896369\ttotal: 1.23s\tremaining: 387ms\n",
      "761:\tlearn: 8.1800557\ttotal: 1.23s\tremaining: 385ms\n",
      "762:\tlearn: 8.1742459\ttotal: 1.24s\tremaining: 384ms\n",
      "763:\tlearn: 8.1717755\ttotal: 1.24s\tremaining: 382ms\n",
      "764:\tlearn: 8.1619793\ttotal: 1.24s\tremaining: 380ms\n",
      "765:\tlearn: 8.1570741\ttotal: 1.24s\tremaining: 379ms\n",
      "766:\tlearn: 8.1473579\ttotal: 1.25s\tremaining: 379ms\n",
      "767:\tlearn: 8.1428832\ttotal: 1.25s\tremaining: 378ms\n",
      "768:\tlearn: 8.1404274\ttotal: 1.25s\tremaining: 376ms\n",
      "769:\tlearn: 8.1377419\ttotal: 1.25s\tremaining: 375ms\n",
      "770:\tlearn: 8.1362013\ttotal: 1.25s\tremaining: 373ms\n",
      "771:\tlearn: 8.1360982\ttotal: 1.26s\tremaining: 371ms\n",
      "772:\tlearn: 8.1262666\ttotal: 1.26s\tremaining: 369ms\n",
      "773:\tlearn: 8.1166151\ttotal: 1.26s\tremaining: 368ms\n",
      "774:\tlearn: 8.1143115\ttotal: 1.26s\tremaining: 366ms\n",
      "775:\tlearn: 8.1118354\ttotal: 1.26s\tremaining: 364ms\n",
      "776:\tlearn: 8.0982407\ttotal: 1.26s\tremaining: 363ms\n",
      "777:\tlearn: 8.0964129\ttotal: 1.26s\tremaining: 361ms\n",
      "778:\tlearn: 8.0821366\ttotal: 1.27s\tremaining: 359ms\n",
      "779:\tlearn: 8.0745314\ttotal: 1.27s\tremaining: 358ms\n",
      "780:\tlearn: 8.0725278\ttotal: 1.27s\tremaining: 356ms\n",
      "781:\tlearn: 8.0665227\ttotal: 1.27s\tremaining: 354ms\n",
      "782:\tlearn: 8.0605799\ttotal: 1.27s\tremaining: 353ms\n",
      "783:\tlearn: 8.0576968\ttotal: 1.27s\tremaining: 351ms\n",
      "784:\tlearn: 8.0544504\ttotal: 1.28s\tremaining: 350ms\n",
      "785:\tlearn: 8.0471819\ttotal: 1.28s\tremaining: 348ms\n",
      "786:\tlearn: 8.0452037\ttotal: 1.28s\tremaining: 346ms\n",
      "787:\tlearn: 8.0426474\ttotal: 1.28s\tremaining: 345ms\n",
      "788:\tlearn: 8.0410429\ttotal: 1.28s\tremaining: 343ms\n",
      "789:\tlearn: 8.0319027\ttotal: 1.28s\tremaining: 341ms\n",
      "790:\tlearn: 8.0260070\ttotal: 1.28s\tremaining: 340ms\n",
      "791:\tlearn: 8.0154905\ttotal: 1.29s\tremaining: 338ms\n",
      "792:\tlearn: 8.0042139\ttotal: 1.29s\tremaining: 336ms\n",
      "793:\tlearn: 8.0004576\ttotal: 1.29s\tremaining: 335ms\n",
      "794:\tlearn: 7.9811787\ttotal: 1.29s\tremaining: 333ms\n",
      "795:\tlearn: 7.9748947\ttotal: 1.29s\tremaining: 331ms\n",
      "796:\tlearn: 7.9731458\ttotal: 1.29s\tremaining: 330ms\n",
      "797:\tlearn: 7.9724795\ttotal: 1.29s\tremaining: 328ms\n",
      "798:\tlearn: 7.9674888\ttotal: 1.3s\tremaining: 326ms\n",
      "799:\tlearn: 7.9562167\ttotal: 1.3s\tremaining: 325ms\n",
      "800:\tlearn: 7.9518608\ttotal: 1.3s\tremaining: 323ms\n",
      "801:\tlearn: 7.9457448\ttotal: 1.3s\tremaining: 321ms\n",
      "802:\tlearn: 7.9426042\ttotal: 1.3s\tremaining: 320ms\n",
      "803:\tlearn: 7.9404600\ttotal: 1.3s\tremaining: 318ms\n",
      "804:\tlearn: 7.9388940\ttotal: 1.3s\tremaining: 316ms\n",
      "805:\tlearn: 7.9384131\ttotal: 1.31s\tremaining: 315ms\n",
      "806:\tlearn: 7.9301554\ttotal: 1.31s\tremaining: 313ms\n",
      "807:\tlearn: 7.9150145\ttotal: 1.31s\tremaining: 311ms\n",
      "808:\tlearn: 7.9106638\ttotal: 1.31s\tremaining: 310ms\n",
      "809:\tlearn: 7.9096433\ttotal: 1.31s\tremaining: 308ms\n",
      "810:\tlearn: 7.9078683\ttotal: 1.31s\tremaining: 306ms\n",
      "811:\tlearn: 7.8980279\ttotal: 1.31s\tremaining: 305ms\n",
      "812:\tlearn: 7.8892355\ttotal: 1.32s\tremaining: 303ms\n",
      "813:\tlearn: 7.8737429\ttotal: 1.32s\tremaining: 301ms\n",
      "814:\tlearn: 7.8679786\ttotal: 1.32s\tremaining: 300ms\n",
      "815:\tlearn: 7.8571030\ttotal: 1.32s\tremaining: 298ms\n",
      "816:\tlearn: 7.8544614\ttotal: 1.32s\tremaining: 296ms\n",
      "817:\tlearn: 7.8450648\ttotal: 1.32s\tremaining: 295ms\n",
      "818:\tlearn: 7.8332007\ttotal: 1.33s\tremaining: 293ms\n",
      "819:\tlearn: 7.8263370\ttotal: 1.33s\tremaining: 291ms\n",
      "820:\tlearn: 7.8188483\ttotal: 1.33s\tremaining: 290ms\n",
      "821:\tlearn: 7.8147100\ttotal: 1.33s\tremaining: 288ms\n",
      "822:\tlearn: 7.8104339\ttotal: 1.33s\tremaining: 287ms\n",
      "823:\tlearn: 7.8049855\ttotal: 1.33s\tremaining: 285ms\n",
      "824:\tlearn: 7.8018570\ttotal: 1.33s\tremaining: 283ms\n",
      "825:\tlearn: 7.8009875\ttotal: 1.34s\tremaining: 282ms\n",
      "826:\tlearn: 7.7954368\ttotal: 1.34s\tremaining: 281ms\n",
      "827:\tlearn: 7.7829178\ttotal: 1.35s\tremaining: 280ms\n",
      "828:\tlearn: 7.7772757\ttotal: 1.35s\tremaining: 278ms\n",
      "829:\tlearn: 7.7676171\ttotal: 1.35s\tremaining: 277ms\n",
      "830:\tlearn: 7.7655893\ttotal: 1.35s\tremaining: 275ms\n",
      "831:\tlearn: 7.7632300\ttotal: 1.35s\tremaining: 273ms\n",
      "832:\tlearn: 7.7571839\ttotal: 1.35s\tremaining: 272ms\n",
      "833:\tlearn: 7.7475038\ttotal: 1.36s\tremaining: 270ms\n",
      "834:\tlearn: 7.7419556\ttotal: 1.36s\tremaining: 268ms\n",
      "835:\tlearn: 7.7309936\ttotal: 1.36s\tremaining: 267ms\n",
      "836:\tlearn: 7.7228487\ttotal: 1.36s\tremaining: 265ms\n",
      "837:\tlearn: 7.7196717\ttotal: 1.36s\tremaining: 263ms\n",
      "838:\tlearn: 7.7121523\ttotal: 1.36s\tremaining: 262ms\n",
      "839:\tlearn: 7.7033874\ttotal: 1.36s\tremaining: 260ms\n",
      "840:\tlearn: 7.6951924\ttotal: 1.37s\tremaining: 258ms\n",
      "841:\tlearn: 7.6941962\ttotal: 1.37s\tremaining: 257ms\n",
      "842:\tlearn: 7.6905965\ttotal: 1.37s\tremaining: 255ms\n",
      "843:\tlearn: 7.6861040\ttotal: 1.37s\tremaining: 253ms\n",
      "844:\tlearn: 7.6742320\ttotal: 1.37s\tremaining: 252ms\n",
      "845:\tlearn: 7.6714908\ttotal: 1.37s\tremaining: 250ms\n",
      "846:\tlearn: 7.6631017\ttotal: 1.37s\tremaining: 248ms\n",
      "847:\tlearn: 7.6550347\ttotal: 1.38s\tremaining: 247ms\n",
      "848:\tlearn: 7.6529051\ttotal: 1.38s\tremaining: 245ms\n",
      "849:\tlearn: 7.6500955\ttotal: 1.38s\tremaining: 243ms\n",
      "850:\tlearn: 7.6475023\ttotal: 1.38s\tremaining: 242ms\n",
      "851:\tlearn: 7.6365966\ttotal: 1.38s\tremaining: 240ms\n",
      "852:\tlearn: 7.6358583\ttotal: 1.38s\tremaining: 238ms\n",
      "853:\tlearn: 7.6293551\ttotal: 1.38s\tremaining: 237ms\n",
      "854:\tlearn: 7.6204310\ttotal: 1.39s\tremaining: 235ms\n",
      "855:\tlearn: 7.6201594\ttotal: 1.39s\tremaining: 233ms\n",
      "856:\tlearn: 7.6182860\ttotal: 1.39s\tremaining: 232ms\n",
      "857:\tlearn: 7.6120183\ttotal: 1.39s\tremaining: 230ms\n",
      "858:\tlearn: 7.5990183\ttotal: 1.39s\tremaining: 228ms\n",
      "859:\tlearn: 7.5917092\ttotal: 1.39s\tremaining: 227ms\n",
      "860:\tlearn: 7.5913460\ttotal: 1.39s\tremaining: 225ms\n",
      "861:\tlearn: 7.5901172\ttotal: 1.4s\tremaining: 224ms\n",
      "862:\tlearn: 7.5878752\ttotal: 1.4s\tremaining: 222ms\n",
      "863:\tlearn: 7.5875178\ttotal: 1.4s\tremaining: 220ms\n",
      "864:\tlearn: 7.5776500\ttotal: 1.4s\tremaining: 219ms\n",
      "865:\tlearn: 7.5736865\ttotal: 1.4s\tremaining: 217ms\n",
      "866:\tlearn: 7.5725866\ttotal: 1.4s\tremaining: 215ms\n",
      "867:\tlearn: 7.5677303\ttotal: 1.4s\tremaining: 214ms\n",
      "868:\tlearn: 7.5639522\ttotal: 1.41s\tremaining: 212ms\n",
      "869:\tlearn: 7.5604054\ttotal: 1.41s\tremaining: 210ms\n",
      "870:\tlearn: 7.5528488\ttotal: 1.41s\tremaining: 209ms\n",
      "871:\tlearn: 7.5472278\ttotal: 1.41s\tremaining: 207ms\n",
      "872:\tlearn: 7.5438085\ttotal: 1.41s\tremaining: 205ms\n",
      "873:\tlearn: 7.5407747\ttotal: 1.41s\tremaining: 204ms\n",
      "874:\tlearn: 7.5312321\ttotal: 1.41s\tremaining: 202ms\n",
      "875:\tlearn: 7.5306020\ttotal: 1.42s\tremaining: 200ms\n",
      "876:\tlearn: 7.5263676\ttotal: 1.42s\tremaining: 199ms\n",
      "877:\tlearn: 7.5248297\ttotal: 1.42s\tremaining: 197ms\n",
      "878:\tlearn: 7.5232733\ttotal: 1.42s\tremaining: 196ms\n",
      "879:\tlearn: 7.5177063\ttotal: 1.42s\tremaining: 194ms\n",
      "880:\tlearn: 7.5091694\ttotal: 1.42s\tremaining: 192ms\n",
      "881:\tlearn: 7.5056357\ttotal: 1.42s\tremaining: 191ms\n",
      "882:\tlearn: 7.5020296\ttotal: 1.43s\tremaining: 189ms\n",
      "883:\tlearn: 7.5002167\ttotal: 1.43s\tremaining: 187ms\n",
      "884:\tlearn: 7.4946012\ttotal: 1.43s\tremaining: 186ms\n",
      "885:\tlearn: 7.4832268\ttotal: 1.44s\tremaining: 185ms\n",
      "886:\tlearn: 7.4815441\ttotal: 1.44s\tremaining: 183ms\n",
      "887:\tlearn: 7.4790477\ttotal: 1.44s\tremaining: 182ms\n",
      "888:\tlearn: 7.4743539\ttotal: 1.44s\tremaining: 180ms\n",
      "889:\tlearn: 7.4726849\ttotal: 1.44s\tremaining: 178ms\n",
      "890:\tlearn: 7.4678419\ttotal: 1.45s\tremaining: 177ms\n",
      "891:\tlearn: 7.4642049\ttotal: 1.45s\tremaining: 175ms\n",
      "892:\tlearn: 7.4580852\ttotal: 1.45s\tremaining: 174ms\n",
      "893:\tlearn: 7.4530544\ttotal: 1.45s\tremaining: 172ms\n",
      "894:\tlearn: 7.4455954\ttotal: 1.45s\tremaining: 170ms\n",
      "895:\tlearn: 7.4400494\ttotal: 1.45s\tremaining: 169ms\n",
      "896:\tlearn: 7.4269821\ttotal: 1.45s\tremaining: 167ms\n",
      "897:\tlearn: 7.4219350\ttotal: 1.46s\tremaining: 165ms\n",
      "898:\tlearn: 7.4145294\ttotal: 1.46s\tremaining: 164ms\n",
      "899:\tlearn: 7.4065378\ttotal: 1.46s\tremaining: 162ms\n",
      "900:\tlearn: 7.4050640\ttotal: 1.46s\tremaining: 160ms\n",
      "901:\tlearn: 7.3953937\ttotal: 1.46s\tremaining: 159ms\n",
      "902:\tlearn: 7.3821539\ttotal: 1.46s\tremaining: 157ms\n",
      "903:\tlearn: 7.3770566\ttotal: 1.46s\tremaining: 156ms\n",
      "904:\tlearn: 7.3768546\ttotal: 1.47s\tremaining: 154ms\n",
      "905:\tlearn: 7.3711534\ttotal: 1.47s\tremaining: 152ms\n",
      "906:\tlearn: 7.3659276\ttotal: 1.47s\tremaining: 151ms\n",
      "907:\tlearn: 7.3641080\ttotal: 1.47s\tremaining: 149ms\n",
      "908:\tlearn: 7.3612229\ttotal: 1.47s\tremaining: 147ms\n",
      "909:\tlearn: 7.3566437\ttotal: 1.47s\tremaining: 146ms\n",
      "910:\tlearn: 7.3443543\ttotal: 1.47s\tremaining: 144ms\n",
      "911:\tlearn: 7.3423804\ttotal: 1.48s\tremaining: 142ms\n",
      "912:\tlearn: 7.3386236\ttotal: 1.48s\tremaining: 141ms\n",
      "913:\tlearn: 7.3338211\ttotal: 1.48s\tremaining: 139ms\n",
      "914:\tlearn: 7.3270999\ttotal: 1.48s\tremaining: 137ms\n",
      "915:\tlearn: 7.3191061\ttotal: 1.48s\tremaining: 136ms\n",
      "916:\tlearn: 7.3163222\ttotal: 1.48s\tremaining: 134ms\n",
      "917:\tlearn: 7.3095426\ttotal: 1.48s\tremaining: 133ms\n",
      "918:\tlearn: 7.3089320\ttotal: 1.49s\tremaining: 131ms\n",
      "919:\tlearn: 7.2952765\ttotal: 1.49s\tremaining: 129ms\n",
      "920:\tlearn: 7.2825121\ttotal: 1.49s\tremaining: 128ms\n",
      "921:\tlearn: 7.2776715\ttotal: 1.49s\tremaining: 126ms\n",
      "922:\tlearn: 7.2746022\ttotal: 1.49s\tremaining: 124ms\n",
      "923:\tlearn: 7.2714139\ttotal: 1.49s\tremaining: 123ms\n",
      "924:\tlearn: 7.2697150\ttotal: 1.49s\tremaining: 121ms\n",
      "925:\tlearn: 7.2658150\ttotal: 1.5s\tremaining: 120ms\n",
      "926:\tlearn: 7.2656066\ttotal: 1.5s\tremaining: 118ms\n",
      "927:\tlearn: 7.2594544\ttotal: 1.5s\tremaining: 116ms\n",
      "928:\tlearn: 7.2551438\ttotal: 1.5s\tremaining: 115ms\n",
      "929:\tlearn: 7.2536946\ttotal: 1.5s\tremaining: 113ms\n",
      "930:\tlearn: 7.2517813\ttotal: 1.5s\tremaining: 111ms\n",
      "931:\tlearn: 7.2458899\ttotal: 1.5s\tremaining: 110ms\n",
      "932:\tlearn: 7.2396261\ttotal: 1.5s\tremaining: 108ms\n",
      "933:\tlearn: 7.2274418\ttotal: 1.51s\tremaining: 106ms\n",
      "934:\tlearn: 7.2249322\ttotal: 1.51s\tremaining: 105ms\n",
      "935:\tlearn: 7.2199590\ttotal: 1.51s\tremaining: 103ms\n",
      "936:\tlearn: 7.2116903\ttotal: 1.51s\tremaining: 102ms\n",
      "937:\tlearn: 7.2080922\ttotal: 1.51s\tremaining: 100ms\n",
      "938:\tlearn: 7.2000737\ttotal: 1.51s\tremaining: 98.3ms\n",
      "939:\tlearn: 7.1916057\ttotal: 1.51s\tremaining: 96.7ms\n",
      "940:\tlearn: 7.1828335\ttotal: 1.52s\tremaining: 95.1ms\n",
      "941:\tlearn: 7.1805830\ttotal: 1.52s\tremaining: 93.5ms\n",
      "942:\tlearn: 7.1770234\ttotal: 1.52s\tremaining: 91.9ms\n",
      "943:\tlearn: 7.1702654\ttotal: 1.52s\tremaining: 90.2ms\n",
      "944:\tlearn: 7.1647908\ttotal: 1.52s\tremaining: 88.6ms\n",
      "945:\tlearn: 7.1526622\ttotal: 1.52s\tremaining: 87ms\n",
      "946:\tlearn: 7.1481256\ttotal: 1.52s\tremaining: 85.4ms\n",
      "947:\tlearn: 7.1411693\ttotal: 1.53s\tremaining: 83.8ms\n",
      "948:\tlearn: 7.1315248\ttotal: 1.53s\tremaining: 82.1ms\n",
      "949:\tlearn: 7.1292156\ttotal: 1.53s\tremaining: 80.7ms\n",
      "950:\tlearn: 7.1261258\ttotal: 1.53s\tremaining: 79.1ms\n",
      "951:\tlearn: 7.1218095\ttotal: 1.54s\tremaining: 77.5ms\n",
      "952:\tlearn: 7.1084439\ttotal: 1.54s\tremaining: 75.9ms\n",
      "953:\tlearn: 7.1029724\ttotal: 1.54s\tremaining: 74.3ms\n",
      "954:\tlearn: 7.0980804\ttotal: 1.54s\tremaining: 72.7ms\n",
      "955:\tlearn: 7.0946448\ttotal: 1.54s\tremaining: 71ms\n",
      "956:\tlearn: 7.0870366\ttotal: 1.54s\tremaining: 69.4ms\n",
      "957:\tlearn: 7.0835658\ttotal: 1.55s\tremaining: 67.8ms\n",
      "958:\tlearn: 7.0714957\ttotal: 1.55s\tremaining: 66.2ms\n",
      "959:\tlearn: 7.0644760\ttotal: 1.55s\tremaining: 64.6ms\n",
      "960:\tlearn: 7.0629726\ttotal: 1.55s\tremaining: 62.9ms\n",
      "961:\tlearn: 7.0605000\ttotal: 1.55s\tremaining: 61.3ms\n",
      "962:\tlearn: 7.0550675\ttotal: 1.55s\tremaining: 59.7ms\n",
      "963:\tlearn: 7.0497852\ttotal: 1.55s\tremaining: 58.1ms\n",
      "964:\tlearn: 7.0407547\ttotal: 1.56s\tremaining: 56.5ms\n",
      "965:\tlearn: 7.0275558\ttotal: 1.56s\tremaining: 54.8ms\n",
      "966:\tlearn: 7.0188150\ttotal: 1.56s\tremaining: 53.2ms\n",
      "967:\tlearn: 7.0133481\ttotal: 1.56s\tremaining: 51.6ms\n",
      "968:\tlearn: 6.9991239\ttotal: 1.56s\tremaining: 50ms\n",
      "969:\tlearn: 6.9970171\ttotal: 1.56s\tremaining: 48.4ms\n",
      "970:\tlearn: 6.9889051\ttotal: 1.56s\tremaining: 46.7ms\n",
      "971:\tlearn: 6.9752494\ttotal: 1.57s\tremaining: 45.1ms\n",
      "972:\tlearn: 6.9706016\ttotal: 1.57s\tremaining: 43.5ms\n",
      "973:\tlearn: 6.9638875\ttotal: 1.57s\tremaining: 41.9ms\n",
      "974:\tlearn: 6.9617289\ttotal: 1.57s\tremaining: 40.3ms\n",
      "975:\tlearn: 6.9561974\ttotal: 1.57s\tremaining: 38.7ms\n",
      "976:\tlearn: 6.9531888\ttotal: 1.57s\tremaining: 37.1ms\n",
      "977:\tlearn: 6.9433451\ttotal: 1.57s\tremaining: 35.4ms\n",
      "978:\tlearn: 6.9416461\ttotal: 1.58s\tremaining: 33.8ms\n",
      "979:\tlearn: 6.9359376\ttotal: 1.58s\tremaining: 32.2ms\n",
      "980:\tlearn: 6.9280797\ttotal: 1.58s\tremaining: 30.6ms\n",
      "981:\tlearn: 6.9161029\ttotal: 1.58s\tremaining: 29ms\n",
      "982:\tlearn: 6.9133594\ttotal: 1.58s\tremaining: 27.4ms\n",
      "983:\tlearn: 6.9110083\ttotal: 1.58s\tremaining: 25.8ms\n",
      "984:\tlearn: 6.9080314\ttotal: 1.59s\tremaining: 24.2ms\n",
      "985:\tlearn: 6.9025105\ttotal: 1.59s\tremaining: 22.5ms\n",
      "986:\tlearn: 6.8952247\ttotal: 1.59s\tremaining: 20.9ms\n",
      "987:\tlearn: 6.8901898\ttotal: 1.59s\tremaining: 19.3ms\n",
      "988:\tlearn: 6.8819094\ttotal: 1.59s\tremaining: 17.7ms\n",
      "989:\tlearn: 6.8788655\ttotal: 1.59s\tremaining: 16.1ms\n",
      "990:\tlearn: 6.8742845\ttotal: 1.59s\tremaining: 14.5ms\n",
      "991:\tlearn: 6.8687134\ttotal: 1.6s\tremaining: 12.9ms\n",
      "992:\tlearn: 6.8647906\ttotal: 1.6s\tremaining: 11.3ms\n",
      "993:\tlearn: 6.8517354\ttotal: 1.6s\tremaining: 9.65ms\n",
      "994:\tlearn: 6.8487857\ttotal: 1.6s\tremaining: 8.04ms\n",
      "995:\tlearn: 6.8376852\ttotal: 1.6s\tremaining: 6.43ms\n",
      "996:\tlearn: 6.8314334\ttotal: 1.6s\tremaining: 4.83ms\n",
      "997:\tlearn: 6.8273630\ttotal: 1.6s\tremaining: 3.22ms\n",
      "998:\tlearn: 6.8165065\ttotal: 1.61s\tremaining: 1.61ms\n",
      "999:\tlearn: 6.8108354\ttotal: 1.61s\tremaining: 0us\n",
      "RMSE CB dataset train :  6.81\n",
      "CPU times: user 1.68 s, sys: 40.6 ms, total: 1.72 s\n",
      "Wall time: 1.81 s\n"
     ]
    }
   ],
   "source": [
    "%%time\n",
    "\n",
    "# melatih model catboost\n",
    "cb = CatBoostRegressor(depth=4, l2_leaf_reg=5, learning_rate=0.5, random_state=12345)\n",
    "cb.fit(x_train, y_train)\n",
    "\n",
    "# prediksi model\n",
    "predict_train = cb.predict(x_train)\n",
    "\n",
    "# menampilkan metriks evaluasi rmse\n",
    "print('RMSE CB dataset train : ', round(rmse(y_train, predict_train), 2))"
   ]
  },
  {
   "cell_type": "markdown",
   "metadata": {},
   "source": [
    "Based on the prediction results above, it is known that the rmse value of the CatBoost model is quite low at `6.81`."
   ]
  },
  {
   "cell_type": "markdown",
   "metadata": {},
   "source": [
    "**TRAINING RESULT**"
   ]
  },
  {
   "cell_type": "markdown",
   "metadata": {},
   "source": [
    "At this stage, the results of model training will be analyzed against the running time `tunning hyperparameter`, `training-prediction`, and `RMSE` scores of each model."
   ]
  },
  {
   "cell_type": "code",
   "execution_count": 1,
   "metadata": {},
   "outputs": [],
   "source": [
    "hasil_pelatihan = {\"Model\" : [\"Linear Regression\", \"Random Forest Regressor\", \"KNeighbors Regressor\", \"XGBoost Regressor\", \"CatBoost Regressor\"], \"Hyperparamater Tune Time\" : ['0', '3 min 6 s', '3.67 s', '1 min 12 s','4 min 38 s'] , \"Training-Prediction Time\" :  ['13.5 ms','3.47 s','104 ms','2.86 s','1.81 s'], \"RMSE\" :  ['30.49', '16.91','24.59','16.32','6.81']}"
   ]
  },
  {
   "cell_type": "code",
   "execution_count": 4,
   "metadata": {},
   "outputs": [
    {
     "data": {
      "text/html": [
       "<div>\n",
       "<style scoped>\n",
       "    .dataframe tbody tr th:only-of-type {\n",
       "        vertical-align: middle;\n",
       "    }\n",
       "\n",
       "    .dataframe tbody tr th {\n",
       "        vertical-align: top;\n",
       "    }\n",
       "\n",
       "    .dataframe thead th {\n",
       "        text-align: right;\n",
       "    }\n",
       "</style>\n",
       "<table border=\"1\" class=\"dataframe\">\n",
       "  <thead>\n",
       "    <tr style=\"text-align: right;\">\n",
       "      <th></th>\n",
       "      <th>Model</th>\n",
       "      <th>Hyperparamater Tune Time</th>\n",
       "      <th>Training-Prediction Time</th>\n",
       "      <th>RMSE</th>\n",
       "    </tr>\n",
       "  </thead>\n",
       "  <tbody>\n",
       "    <tr>\n",
       "      <th>0</th>\n",
       "      <td>Linear Regression</td>\n",
       "      <td>0</td>\n",
       "      <td>13.5 ms</td>\n",
       "      <td>30.49</td>\n",
       "    </tr>\n",
       "    <tr>\n",
       "      <th>1</th>\n",
       "      <td>Random Forest Regressor</td>\n",
       "      <td>3 min 6 s</td>\n",
       "      <td>3.47 s</td>\n",
       "      <td>16.91</td>\n",
       "    </tr>\n",
       "    <tr>\n",
       "      <th>2</th>\n",
       "      <td>KNeighbors Regressor</td>\n",
       "      <td>3.67 s</td>\n",
       "      <td>104 ms</td>\n",
       "      <td>24.59</td>\n",
       "    </tr>\n",
       "    <tr>\n",
       "      <th>3</th>\n",
       "      <td>XGBoost Regressor</td>\n",
       "      <td>1 min 12 s</td>\n",
       "      <td>2.86 s</td>\n",
       "      <td>16.32</td>\n",
       "    </tr>\n",
       "    <tr>\n",
       "      <th>4</th>\n",
       "      <td>CatBoost Regressor</td>\n",
       "      <td>4 min 38 s</td>\n",
       "      <td>1.81 s</td>\n",
       "      <td>6.81</td>\n",
       "    </tr>\n",
       "  </tbody>\n",
       "</table>\n",
       "</div>"
      ],
      "text/plain": [
       "                     Model Hyperparamater Tune Time Training-Prediction Time  \\\n",
       "0        Linear Regression                        0                  13.5 ms   \n",
       "1  Random Forest Regressor                3 min 6 s                   3.47 s   \n",
       "2     KNeighbors Regressor                   3.67 s                   104 ms   \n",
       "3        XGBoost Regressor               1 min 12 s                   2.86 s   \n",
       "4       CatBoost Regressor               4 min 38 s                   1.81 s   \n",
       "\n",
       "    RMSE  \n",
       "0  30.49  \n",
       "1  16.91  \n",
       "2  24.59  \n",
       "3  16.32  \n",
       "4   6.81  "
      ]
     },
     "execution_count": 4,
     "metadata": {},
     "output_type": "execute_result"
    }
   ],
   "source": [
    "pd.DataFrame(hasil_pelatihan)"
   ]
  },
  {
   "cell_type": "markdown",
   "metadata": {},
   "source": [
    "Based on the training results above, based on the hyperparameter tuning running time, the `KNeighbors` model has the fastest time compared to other models at `3.67s`, while the `Linear Regression` model has no tuning. The training and prediction running time of the `Linear Regression` model is the fastest at `13.5 ms`, but the RMSE score is very large, reaching `30.49`. The lowest RMSE score is obtained from the CatBoost Regressor model, where the RMSE obtained is much lower than the project's target RMSE score of `6.81`, but the hyperparameter tuning running time is very large, up to `4 min 38s`. Therefore, the model to be selected for the test dataset based on the RMSE score and short running time is the **XGBoost** model with an RMSE score of **16.32**, hyperparameter tuning running time of **1 min 12 s** and training-prediction time of **2.86s**."
   ]
  },
  {
   "cell_type": "markdown",
   "metadata": {},
   "source": [
    "## Testing"
   ]
  },
  {
   "cell_type": "markdown",
   "metadata": {},
   "source": [
    "In this stage, we will predict the target test dataset with the `XGBoost Regressor` model with the best parameters."
   ]
  },
  {
   "cell_type": "code",
   "execution_count": 70,
   "metadata": {},
   "outputs": [
    {
     "name": "stdout",
     "output_type": "stream",
     "text": [
      "RMSE XGB dataset test :  43.12\n",
      "CPU times: user 13.6 ms, sys: 66 µs, total: 13.7 ms\n",
      "Wall time: 6.98 ms\n"
     ]
    }
   ],
   "source": [
    "%%time\n",
    "\n",
    "# prediksi model dengan XGBoost Regressor\n",
    "predict_test = xgb.predict(x_test)\n",
    "\n",
    "# menampilkan metriks evaluasi rmse\n",
    "print('RMSE XGB dataset test : ', round(rmse(y_test, predict_test), 2))"
   ]
  },
  {
   "cell_type": "markdown",
   "metadata": {},
   "source": [
    "Based on the above results, the RMSE score obtained from the test dataset is `43.12` so it can be concluded that the XGBoost Regressor model is quite capable of accurately predicting the number of taxi orders."
   ]
  },
  {
   "cell_type": "markdown",
   "metadata": {},
   "source": [
    "## Conclusion"
   ]
  },
  {
   "cell_type": "markdown",
   "metadata": {},
   "source": [
    "- In this project, the dataset received is historical data of taxi orders at the airport every `10 minutes` in March–September 2018, consisting of 2 columns and 26496 observations. Based on the initial observation, there are no missing or duplicate values in the dataset. Data pre-processing was performed to change the data type in the `datetime` column from `object` to `datetime` data type and resampling the datetime into `1 hour` intervals with `.sum()` aggregation.\n",
    "Based on the analysis of `moving average` and `trend data`, it is known that there has been a fairly steady increase in the number of orders since the month of `May 2018`, meaning that the number of taxi orders each month has an increasing trend, where the highest peak of taxi orders tends to occur at the beginning and end of weekdays.\n",
    "- The model trained is:\n",
    "1.    Linear Regression\n",
    "2.    Random Forest Regressor\n",
    "3.    KNeighbors Regressor\n",
    "4.    XGBoost Regressor\n",
    "5.    CatBoost Regressor\n",
    "- After performing hyperparameter tuning, training, and model prediction with the train dataset, the results show that the `CatBoost Regressor` model provides the lowest RMSE score of `6.81`, but requires a large enough running time of `4 min 38 s` to perform hyperparameter tuning, so the model chosen for testing on the test dataset is the **XGBoost Regressor** model, which has an RMSE score of **16.32** with hyperparameter tuning running time of **1 min 12 s** and training-prediction running time **2.86 s**. Based on the results of testing the test dataset with the XGBoost Regressor model, the RMSE score is**43.12** with a running time of **6.98 ms** so it can be concluded that the XGBoost Regressor model is quite capable of accurately predicting the number of taxi orders."
   ]
  }
 ],
 "metadata": {
  "kernelspec": {
   "display_name": "Python 3 (ipykernel)",
   "language": "python",
   "name": "python3"
  },
  "language_info": {
   "codemirror_mode": {
    "name": "ipython",
    "version": 3
   },
   "file_extension": ".py",
   "mimetype": "text/x-python",
   "name": "python",
   "nbconvert_exporter": "python",
   "pygments_lexer": "ipython3",
   "version": "3.9.13"
  },
  "toc": {
   "base_numbering": 1,
   "nav_menu": {},
   "number_sections": true,
   "sideBar": true,
   "skip_h1_title": true,
   "title_cell": "Table of Contents",
   "title_sidebar": "Contents",
   "toc_cell": false,
   "toc_position": {
    "height": "calc(100% - 180px)",
    "left": "10px",
    "top": "150px",
    "width": "368px"
   },
   "toc_section_display": true,
   "toc_window_display": false
  }
 },
 "nbformat": 4,
 "nbformat_minor": 2
}
